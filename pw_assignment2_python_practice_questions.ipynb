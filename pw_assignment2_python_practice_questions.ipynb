{
  "nbformat": 4,
  "nbformat_minor": 0,
  "metadata": {
    "colab": {
      "provenance": []
    },
    "kernelspec": {
      "name": "python3",
      "display_name": "Python 3"
    },
    "language_info": {
      "name": "python"
    }
  },
  "cells": [
    {
      "cell_type": "markdown",
      "source": [
        "**TOPIC: String Based Assignment Problem**"
      ],
      "metadata": {
        "id": "y1uX0LgAZa-1"
      }
    },
    {
      "cell_type": "code",
      "execution_count": 2,
      "metadata": {
        "colab": {
          "base_uri": "https://localhost:8080/"
        },
        "id": "Bs7J_iC7ZPhI",
        "outputId": "ee0c2e21-0929-4982-f5d9-ae217060dada"
      },
      "outputs": [
        {
          "output_type": "stream",
          "name": "stdout",
          "text": [
            "olleh\n"
          ]
        }
      ],
      "source": [
        "# 1. Write a program to reverse a string.\n",
        "\n",
        "def reverse_string(s):\n",
        "  return s[::-1]\n",
        "\n",
        "# Example usage\n",
        "string = \"hello\"\n",
        "reversed_string = reverse_string(string)\n",
        "print(reversed_string)  # Output: olleh\n"
      ]
    },
    {
      "cell_type": "code",
      "source": [
        "# 2. Check if a string is a palindrome.\n",
        "\n",
        "def is_palindrome(s):\n",
        "  \"\"\"\n",
        "  Checks if a string is a palindrome.\n",
        "\n",
        "  Args:\n",
        "    s: The input string.\n",
        "\n",
        "  Returns:\n",
        "    True if the string is a palindrome, False otherwise.\n",
        "  \"\"\"\n",
        "  s = s.lower()  # Ignore case\n",
        "  return s == s[::-1]\n",
        "\n",
        "# Example usage\n",
        "string = \"Racecar\"\n",
        "if is_palindrome(string):\n",
        "  print(f\"{string} is a palindrome.\")\n",
        "else:\n",
        "  print(f\"{string} is not a palindrome.\")\n"
      ],
      "metadata": {
        "colab": {
          "base_uri": "https://localhost:8080/"
        },
        "id": "-s0iDhKrZjPc",
        "outputId": "01df4007-2473-400a-f769-92b607359bfd"
      },
      "execution_count": 3,
      "outputs": [
        {
          "output_type": "stream",
          "name": "stdout",
          "text": [
            "Racecar is a palindrome.\n"
          ]
        }
      ]
    },
    {
      "cell_type": "code",
      "source": [
        "#  3. Convert a string to uppercase.\n",
        "\n",
        "def to_uppercase(s):\n",
        "  \"\"\"\n",
        "  Converts a string to uppercase.\n",
        "\n",
        "  Args:\n",
        "    s: The input string.\n",
        "\n",
        "  Returns:\n",
        "    The string in uppercase.\n",
        "  \"\"\"\n",
        "  return s.upper()\n",
        "\n",
        "# Example usage\n",
        "string = \"hello world\"\n",
        "uppercase_string = to_uppercase(string)\n",
        "print(uppercase_string)  # Output: HELLO WORLD\n"
      ],
      "metadata": {
        "colab": {
          "base_uri": "https://localhost:8080/"
        },
        "id": "36WmaV2CZjR9",
        "outputId": "acf88eaa-d47b-45c2-d027-15eed4e4be30"
      },
      "execution_count": 4,
      "outputs": [
        {
          "output_type": "stream",
          "name": "stdout",
          "text": [
            "HELLO WORLD\n"
          ]
        }
      ]
    },
    {
      "cell_type": "code",
      "source": [
        "# 4. Convert a string to lowercase.\n",
        "\n",
        "def to_lowercase(s):\n",
        "  \"\"\"\n",
        "  Converts a string to lowercase.\n",
        "\n",
        "  Args:\n",
        "    s: The input string.\n",
        "\n",
        "  Returns:\n",
        "    The string in lowercase.\n",
        "  \"\"\"\n",
        "  return s.lower()\n",
        "\n",
        "# Example usage\n",
        "string = \"HELLO WORLD\"\n",
        "lowercase_string = to_lowercase(string)\n",
        "print(lowercase_string)  # Output: hello world\n"
      ],
      "metadata": {
        "colab": {
          "base_uri": "https://localhost:8080/"
        },
        "id": "75nb65IwZjUY",
        "outputId": "bb5cb544-1f46-41d4-f6d7-471cc5a2e0dc"
      },
      "execution_count": 5,
      "outputs": [
        {
          "output_type": "stream",
          "name": "stdout",
          "text": [
            "hello world\n"
          ]
        }
      ]
    },
    {
      "cell_type": "code",
      "source": [
        "#  5. Count the number of vowels in a string.\n",
        "\n",
        "def count_vowels(s):\n",
        "  \"\"\"\n",
        "  Counts the number of vowels in a string.\n",
        "\n",
        "  Args:\n",
        "    s: The input string.\n",
        "\n",
        "  Returns:\n",
        "    The number of vowels in the string.\n",
        "  \"\"\"\n",
        "  vowels = \"aeiouAEIOU\"\n",
        "  count = 0\n",
        "  for char in s:\n",
        "    if char in vowels:\n",
        "      count += 1\n",
        "  return count\n",
        "\n",
        "# Example usage\n",
        "string = \"Hello World\"\n",
        "vowel_count = count_vowels(string)\n",
        "print(f\"The number of vowels in '{string}' is: {vowel_count}\")\n"
      ],
      "metadata": {
        "colab": {
          "base_uri": "https://localhost:8080/"
        },
        "id": "GiLZTTmPZjWy",
        "outputId": "e2062ced-3b73-4700-dd92-e395eefbc513"
      },
      "execution_count": 6,
      "outputs": [
        {
          "output_type": "stream",
          "name": "stdout",
          "text": [
            "The number of vowels in 'Hello World' is: 3\n"
          ]
        }
      ]
    },
    {
      "cell_type": "code",
      "source": [
        "#  6. Count the number of consonants in a string.\n",
        "\n",
        "def count_consonants(s):\n",
        "  \"\"\"\n",
        "  Counts the number of consonants in a string.\n",
        "\n",
        "  Args:\n",
        "    s: The input string.\n",
        "\n",
        "  Returns:\n",
        "    The number of consonants in the string.\n",
        "  \"\"\"\n",
        "  consonants = \"bcdfghjklmnpqrstvwxyzBCDFGHJKLMNPQRSTVWXYZ\"\n",
        "  count = 0\n",
        "  for char in s:\n",
        "    if char in consonants:\n",
        "      count += 1\n",
        "  return count\n",
        "\n",
        "# Example usage\n",
        "string = \"Hello World\"\n",
        "consonant_count = count_consonants(string)\n",
        "print(f\"The number of consonants in '{string}' is: {consonant_count}\")\n"
      ],
      "metadata": {
        "colab": {
          "base_uri": "https://localhost:8080/"
        },
        "id": "pYnUYBFgZjZT",
        "outputId": "9bebb457-6b56-4f1f-a8d7-9de05ffa265d"
      },
      "execution_count": 7,
      "outputs": [
        {
          "output_type": "stream",
          "name": "stdout",
          "text": [
            "The number of consonants in 'Hello World' is: 7\n"
          ]
        }
      ]
    },
    {
      "cell_type": "code",
      "source": [
        "#  7. Remove all whitespaces from a string.\n",
        "\n",
        "def remove_whitespace(s):\n",
        "  \"\"\"\n",
        "  Removes all whitespaces from a string.\n",
        "\n",
        "  Args:\n",
        "    s: The input string.\n",
        "\n",
        "  Returns:\n",
        "    The string with all whitespaces removed.\n",
        "  \"\"\"\n",
        "  return s.replace(\" \", \"\")\n",
        "\n",
        "# Example usage\n",
        "string = \"Hello World\"\n",
        "no_whitespace_string = remove_whitespace(string)\n",
        "print(no_whitespace_string)  # Output: HelloWorld\n"
      ],
      "metadata": {
        "colab": {
          "base_uri": "https://localhost:8080/"
        },
        "id": "9KP9CoQwZjbs",
        "outputId": "93239da2-1558-47b2-e460-eb6d98882f5d"
      },
      "execution_count": 8,
      "outputs": [
        {
          "output_type": "stream",
          "name": "stdout",
          "text": [
            "HelloWorld\n"
          ]
        }
      ]
    },
    {
      "cell_type": "code",
      "source": [
        "#  8. Find the length of a string without using the `len()` function.\n",
        "\n",
        "def find_length(s):\n",
        "  \"\"\"\n",
        "  Finds the length of a string without using the len() function.\n",
        "\n",
        "  Args:\n",
        "    s: The input string.\n",
        "\n",
        "  Returns:\n",
        "    The length of the string.\n",
        "  \"\"\"\n",
        "  count = 0\n",
        "  for char in s:\n",
        "    count += 1\n",
        "  return count\n",
        "\n",
        "# Example usage\n",
        "string = \"Hello\"\n",
        "length = find_length(string)\n",
        "print(f\"The length of '{string}' is: {length}\")\n"
      ],
      "metadata": {
        "colab": {
          "base_uri": "https://localhost:8080/"
        },
        "id": "Aa7GixPRZjeG",
        "outputId": "5a7713d2-a2ce-4488-e927-5590e48797dd"
      },
      "execution_count": 9,
      "outputs": [
        {
          "output_type": "stream",
          "name": "stdout",
          "text": [
            "The length of 'Hello' is: 5\n"
          ]
        }
      ]
    },
    {
      "cell_type": "code",
      "source": [
        "# 9. Check if a string contains a specific word.\n",
        "\n",
        "def contains_word(s, word):\n",
        "  \"\"\"\n",
        "  Checks if a string contains a specific word.\n",
        "\n",
        "  Args:\n",
        "    s: The input string.\n",
        "    word: The word to search for.\n",
        "\n",
        "  Returns:\n",
        "    True if the string contains the word, False otherwise.\n",
        "  \"\"\"\n",
        "  return word in s\n",
        "\n",
        "# Example usage\n",
        "string = \"This is a sample string.\"\n",
        "word = \"sample\"\n",
        "if contains_word(string, word):\n",
        "  print(f\"'{string}' contains the word '{word}'.\")\n",
        "else:\n",
        "  print(f\"'{string}' does not contain the word '{word}'.\")\n"
      ],
      "metadata": {
        "colab": {
          "base_uri": "https://localhost:8080/"
        },
        "id": "mfNsAz-LZjgh",
        "outputId": "737bbd98-950a-4124-dc70-3e67451ea6c0"
      },
      "execution_count": 10,
      "outputs": [
        {
          "output_type": "stream",
          "name": "stdout",
          "text": [
            "'This is a sample string.' contains the word 'sample'.\n"
          ]
        }
      ]
    },
    {
      "cell_type": "code",
      "source": [
        "#  10. Replace a word in a string with another word.\n",
        "\n",
        "def replace_word(s, old_word, new_word):\n",
        "  \"\"\"\n",
        "  Replaces a word in a string with another word.\n",
        "\n",
        "  Args:\n",
        "    s: The input string.\n",
        "    old_word: The word to be replaced.\n",
        "    new_word: The word to replace with.\n",
        "\n",
        "  Returns:\n",
        "    The string with the word replaced.\n",
        "  \"\"\"\n",
        "  return s.replace(old_word, new_word)\n",
        "\n",
        "# Example usage\n",
        "string = \"This is a sample string.\"\n",
        "old_word = \"sample\"\n",
        "new_word = \"example\"\n",
        "new_string = replace_word(string, old_word, new_word)\n",
        "print(new_string)  # Output: This is a example string.\n"
      ],
      "metadata": {
        "colab": {
          "base_uri": "https://localhost:8080/"
        },
        "id": "Lv5d2DHYZjiv",
        "outputId": "bc342edf-e435-454e-a2a5-c3a3f8ec8cad"
      },
      "execution_count": 11,
      "outputs": [
        {
          "output_type": "stream",
          "name": "stdout",
          "text": [
            "This is a example string.\n"
          ]
        }
      ]
    },
    {
      "cell_type": "code",
      "source": [
        "# 11. Count the occurrences of a word in a string.\n",
        "\n",
        "def count_word_occurrences(s, word):\n",
        "  \"\"\"\n",
        "  Counts the occurrences of a word in a string.\n",
        "\n",
        "  Args:\n",
        "    s: The input string.\n",
        "    word: The word to count occurrences of.\n",
        "\n",
        "  Returns:\n",
        "    The number of times the word appears in the string.\n",
        "  \"\"\"\n",
        "  words = s.split()\n",
        "  count = 0\n",
        "  for w in words:\n",
        "    if w == word:\n",
        "      count += 1\n",
        "  return count\n",
        "\n",
        "# Example usage\n",
        "string = \"This is a sample string. This string contains the word sample.\"\n",
        "word = \"sample\"\n",
        "occurrences = count_word_occurrences(string, word)\n",
        "print(f\"The word '{word}' appears {occurrences} times in the string.\")\n"
      ],
      "metadata": {
        "colab": {
          "base_uri": "https://localhost:8080/"
        },
        "id": "V33QYBEJZ27u",
        "outputId": "3094488d-d49a-4d7b-fef8-5b99b2fe564e"
      },
      "execution_count": 12,
      "outputs": [
        {
          "output_type": "stream",
          "name": "stdout",
          "text": [
            "The word 'sample' appears 1 times in the string.\n"
          ]
        }
      ]
    },
    {
      "cell_type": "code",
      "source": [
        "#  12. Find the first occurrence of a word in a string.\n",
        "\n",
        "def find_first_occurrence(s, word):\n",
        "  \"\"\"\n",
        "  Finds the first occurrence of a word in a string.\n",
        "\n",
        "  Args:\n",
        "    s: The input string.\n",
        "    word: The word to search for.\n",
        "\n",
        "  Returns:\n",
        "    The index of the first occurrence of the word, or -1 if not found.\n",
        "  \"\"\"\n",
        "  try:\n",
        "    index = s.index(word)\n",
        "    return index\n",
        "  except ValueError:\n",
        "    return -1\n",
        "\n",
        "# Example usage\n",
        "string = \"This is a sample string.\"\n",
        "word = \"sample\"\n",
        "index = find_first_occurrence(string, word)\n",
        "if index != -1:\n",
        "  print(f\"The first occurrence of '{word}' is at index {index}.\")\n",
        "else:\n",
        "  print(f\"'{word}' not found in the string.\")\n"
      ],
      "metadata": {
        "colab": {
          "base_uri": "https://localhost:8080/"
        },
        "id": "lyLAjZmZZ2-u",
        "outputId": "34333519-1cd8-4f18-bc6e-05b5bfa4df0b"
      },
      "execution_count": 13,
      "outputs": [
        {
          "output_type": "stream",
          "name": "stdout",
          "text": [
            "The first occurrence of 'sample' is at index 10.\n"
          ]
        }
      ]
    },
    {
      "cell_type": "code",
      "source": [
        "#  13. Find the last occurrence of a word in a string.\n",
        "\n",
        "def find_last_occurrence(s, word):\n",
        "  \"\"\"\n",
        "  Finds the last occurrence of a word in a string.\n",
        "\n",
        "  Args:\n",
        "    s: The input string.\n",
        "    word: The word to search for.\n",
        "\n",
        "  Returns:\n",
        "    The starting index of the last occurrence of the word, or -1 if not found.\n",
        "  \"\"\"\n",
        "  try:\n",
        "    index = s.rfind(word)\n",
        "    return index\n",
        "  except ValueError:\n",
        "    return -1\n",
        "\n",
        "# Example usage\n",
        "string = \"This is a sample string. This string contains the word sample.\"\n",
        "word = \"sample\"\n",
        "index = find_last_occurrence(string, word)\n",
        "if index != -1:\n",
        "  print(f\"The last occurrence of '{word}' is at index {index}.\")\n",
        "else:\n",
        "  print(f\"'{word}' not found in the string.\")\n"
      ],
      "metadata": {
        "colab": {
          "base_uri": "https://localhost:8080/"
        },
        "id": "lu4xOpO_Z3BH",
        "outputId": "20ddbc91-63bd-42d3-ccca-ec1e732177c8"
      },
      "execution_count": 14,
      "outputs": [
        {
          "output_type": "stream",
          "name": "stdout",
          "text": [
            "The last occurrence of 'sample' is at index 55.\n"
          ]
        }
      ]
    },
    {
      "cell_type": "code",
      "source": [
        "#  14. Split a string into a list of words.\n",
        "\n",
        "def split_string(s):\n",
        "  \"\"\"\n",
        "  Splits a string into a list of words.\n",
        "\n",
        "  Args:\n",
        "    s: The input string.\n",
        "\n",
        "  Returns:\n",
        "    A list of words.\n",
        "  \"\"\"\n",
        "  return s.split()\n",
        "\n",
        "# Example usage\n",
        "string = \"This is a sample string.\"\n",
        "words = split_string(string)\n",
        "print(words)  # Output: ['This', 'is', 'a', 'sample', 'string.']\n"
      ],
      "metadata": {
        "colab": {
          "base_uri": "https://localhost:8080/"
        },
        "id": "aYbfrAO4Z3Do",
        "outputId": "39842885-9e12-48cf-92d4-17b0d8ae128e"
      },
      "execution_count": 15,
      "outputs": [
        {
          "output_type": "stream",
          "name": "stdout",
          "text": [
            "['This', 'is', 'a', 'sample', 'string.']\n"
          ]
        }
      ]
    },
    {
      "cell_type": "code",
      "source": [
        "#  15. Join a list of words into a string.\n",
        "\n",
        "def join_words(words):\n",
        "  \"\"\"\n",
        "  Joins a list of words into a string.\n",
        "\n",
        "  Args:\n",
        "    words: A list of words.\n",
        "\n",
        "  Returns:\n",
        "    A string containing the joined words.\n",
        "  \"\"\"\n",
        "  return \" \".join(words)\n",
        "\n",
        "# Example usage\n",
        "words = [\"This\", \"is\", \"a\", \"list\", \"of\", \"words.\"]\n",
        "joined_string = join_words(words)\n",
        "print(joined_string)  # Output: This is a list of words.\n"
      ],
      "metadata": {
        "colab": {
          "base_uri": "https://localhost:8080/"
        },
        "id": "qD-NUqknZ3GC",
        "outputId": "b56869ba-3ea3-490b-a2e0-0057b6fe58a3"
      },
      "execution_count": 16,
      "outputs": [
        {
          "output_type": "stream",
          "name": "stdout",
          "text": [
            "This is a list of words.\n"
          ]
        }
      ]
    },
    {
      "cell_type": "code",
      "source": [
        "# 16. Convert a string where words are separated by spaces to one where words\n",
        "# are separated by underscores.\n",
        "\n",
        "def spaces_to_underscores(s):\n",
        "  \"\"\"\n",
        "  Converts a string where words are separated by spaces to one where words\n",
        "  are separated by underscores.\n",
        "\n",
        "  Args:\n",
        "    s: The input string.\n",
        "\n",
        "  Returns:\n",
        "    The string with spaces replaced by underscores.\n",
        "  \"\"\"\n",
        "  return s.replace(\" \", \"_\")\n",
        "\n",
        "# Example usage\n",
        "string = \"This is a sample string\"\n",
        "new_string = spaces_to_underscores(string)\n",
        "print(new_string)  # Output: This_is_a_sample_string\n"
      ],
      "metadata": {
        "colab": {
          "base_uri": "https://localhost:8080/"
        },
        "id": "ZRVT3a0eZ3Ik",
        "outputId": "1078d1a4-68df-4ee3-aec2-c2d569d481a4"
      },
      "execution_count": 17,
      "outputs": [
        {
          "output_type": "stream",
          "name": "stdout",
          "text": [
            "This_is_a_sample_string\n"
          ]
        }
      ]
    },
    {
      "cell_type": "code",
      "source": [
        "#  17. Check if a string starts with a specific word or phrase.\n",
        "\n",
        "def starts_with(s, prefix):\n",
        "  \"\"\"\n",
        "  Checks if a string starts with a specific word or phrase.\n",
        "\n",
        "  Args:\n",
        "    s: The input string.\n",
        "    prefix: The word or phrase to check for.\n",
        "\n",
        "  Returns:\n",
        "    True if the string starts with the prefix, False otherwise.\n",
        "  \"\"\"\n",
        "  return s.startswith(prefix)\n",
        "\n",
        "# Example usage\n",
        "string = \"Hello world\"\n",
        "prefix = \"Hello\"\n",
        "if starts_with(string, prefix):\n",
        "  print(f\"'{string}' starts with '{prefix}'.\")\n",
        "else:\n",
        "  print(f\"'{string}' does not start with '{prefix}'.\")\n"
      ],
      "metadata": {
        "colab": {
          "base_uri": "https://localhost:8080/"
        },
        "id": "GSrXhKLsZ3LO",
        "outputId": "8099f636-649d-45ce-97ec-844d895c7040"
      },
      "execution_count": 18,
      "outputs": [
        {
          "output_type": "stream",
          "name": "stdout",
          "text": [
            "'Hello world' starts with 'Hello'.\n"
          ]
        }
      ]
    },
    {
      "cell_type": "code",
      "source": [
        "#  18. Check if a string ends with a specific word or phrase.\n",
        "\n",
        "def ends_with(s, suffix):\n",
        "  \"\"\"\n",
        "  Checks if a string ends with a specific word or phrase.\n",
        "\n",
        "  Args:\n",
        "    s: The input string.\n",
        "    suffix: The word or phrase to check for.\n",
        "\n",
        "  Returns:\n",
        "    True if the string ends with the suffix, False otherwise.\n",
        "  \"\"\"\n",
        "  return s.endswith(suffix)\n",
        "\n",
        "# Example usage\n",
        "string = \"This is a sample string.\"\n",
        "suffix = \"string.\"\n",
        "if ends_with(string, suffix):\n",
        "  print(f\"'{string}' ends with '{suffix}'.\")\n",
        "else:\n",
        "  print(f\"'{string}' does not end with '{suffix}'.\")\n"
      ],
      "metadata": {
        "colab": {
          "base_uri": "https://localhost:8080/"
        },
        "id": "OELVW_NdZ3Nx",
        "outputId": "0be50e19-22f5-4349-c27b-51d65ff2cb36"
      },
      "execution_count": 19,
      "outputs": [
        {
          "output_type": "stream",
          "name": "stdout",
          "text": [
            "'This is a sample string.' ends with 'string.'.\n"
          ]
        }
      ]
    },
    {
      "cell_type": "code",
      "source": [
        "#  19. Convert a string to title case (e.g., \"hello world\" to \"Hello World\").\n",
        "\n",
        "def to_title_case(s):\n",
        "  \"\"\"\n",
        "  Converts a string to title case.\n",
        "\n",
        "  Args:\n",
        "    s: The input string.\n",
        "\n",
        "  Returns:\n",
        "    The string in title case.\n",
        "  \"\"\"\n",
        "  return s.title()\n",
        "\n",
        "# Example usage\n",
        "string = \"hello world\"\n",
        "title_case_string = to_title_case(string)\n",
        "print(title_case_string)  # Output: Hello World\n"
      ],
      "metadata": {
        "colab": {
          "base_uri": "https://localhost:8080/"
        },
        "id": "RlJuM0SCZ3QQ",
        "outputId": "d5d97552-1a5e-4f74-a9ca-400c7f0584a9"
      },
      "execution_count": 20,
      "outputs": [
        {
          "output_type": "stream",
          "name": "stdout",
          "text": [
            "Hello World\n"
          ]
        }
      ]
    },
    {
      "cell_type": "code",
      "source": [
        "# 20. Find the longest word in a string.\n",
        "\n",
        "def find_longest_word(s):\n",
        "  \"\"\"\n",
        "  Finds the longest word in a string.\n",
        "\n",
        "  Args:\n",
        "    s: The input string.\n",
        "\n",
        "  Returns:\n",
        "    The longest word in the string.\n",
        "  \"\"\"\n",
        "  words = s.split()\n",
        "  longest_word = \"\"\n",
        "  for word in words:\n",
        "    if len(word) > len(longest_word):\n",
        "      longest_word = word\n",
        "  return longest_word\n",
        "\n",
        "# Example usage\n",
        "string = \"This is a sample string with some long words.\"\n",
        "longest_word = find_longest_word(string)\n",
        "print(f\"The longest word in the string is: {longest_word}\")\n"
      ],
      "metadata": {
        "colab": {
          "base_uri": "https://localhost:8080/"
        },
        "id": "XDUL9ioOZ3TC",
        "outputId": "0079edbc-7513-4265-a630-0c0efc4c8b3c"
      },
      "execution_count": 21,
      "outputs": [
        {
          "output_type": "stream",
          "name": "stdout",
          "text": [
            "The longest word in the string is: sample\n"
          ]
        }
      ]
    },
    {
      "cell_type": "code",
      "source": [
        "# 21. Find the shortest word in a string.\n",
        "\n",
        "def find_shortest_word(s):\n",
        "  \"\"\"\n",
        "  Finds the shortest word in a string.\n",
        "\n",
        "  Args:\n",
        "    s: The input string.\n",
        "\n",
        "  Returns:\n",
        "    The shortest word in the string.\n",
        "  \"\"\"\n",
        "  words = s.split()\n",
        "  if not words:\n",
        "    return \"\"\n",
        "  shortest_word = words[0]\n",
        "  for word in words:\n",
        "    if len(word) < len(shortest_word):\n",
        "      shortest_word = word\n",
        "  return shortest_word\n",
        "\n",
        "# Example usage\n",
        "string = \"This is a sample string with some long words.\"\n",
        "shortest_word = find_shortest_word(string)\n",
        "print(f\"The shortest word in the string is: {shortest_word}\")\n"
      ],
      "metadata": {
        "colab": {
          "base_uri": "https://localhost:8080/"
        },
        "id": "nhUhU_L0Z3Vl",
        "outputId": "6192503f-7b0b-4a8f-b1a4-4bfb4fb1b9d8"
      },
      "execution_count": 22,
      "outputs": [
        {
          "output_type": "stream",
          "name": "stdout",
          "text": [
            "The shortest word in the string is: a\n"
          ]
        }
      ]
    },
    {
      "cell_type": "code",
      "source": [
        "#  22. Reverse the order of words in a string.\n",
        "\n",
        "def reverse_words_in_string(s):\n",
        "  \"\"\"\n",
        "  Reverses the order of words in a string.\n",
        "\n",
        "  Args:\n",
        "    s: The input string.\n",
        "\n",
        "  Returns:\n",
        "    The string with words reversed.\n",
        "  \"\"\"\n",
        "  words = s.split()\n",
        "  reversed_words = words[::-1]\n",
        "  return \" \".join(reversed_words)\n",
        "\n",
        "# Example usage\n",
        "string = \"This is a sample string.\"\n",
        "reversed_string = reverse_words_in_string(string)\n",
        "print(reversed_string)  # Output: string. sample a is This\n"
      ],
      "metadata": {
        "colab": {
          "base_uri": "https://localhost:8080/"
        },
        "id": "jEmX7PhxZ3X9",
        "outputId": "0f91efd9-d13c-4b3f-dbce-4846bae946bb"
      },
      "execution_count": 23,
      "outputs": [
        {
          "output_type": "stream",
          "name": "stdout",
          "text": [
            "string. sample a is This\n"
          ]
        }
      ]
    },
    {
      "cell_type": "code",
      "source": [
        "#  23. Check if a string is alphanumeric.\n",
        "\n",
        "def is_alphanumeric(s):\n",
        "  \"\"\"\n",
        "  Checks if a string is alphanumeric.\n",
        "\n",
        "  Args:\n",
        "    s: The input string.\n",
        "\n",
        "  Returns:\n",
        "    True if the string is alphanumeric, False otherwise.\n",
        "  \"\"\"\n",
        "  return s.isalnum()\n",
        "\n",
        "# Example usage\n",
        "string = \"Hello123\"\n",
        "if is_alphanumeric(string):\n",
        "  print(f\"'{string}' is alphanumeric.\")\n",
        "else:\n",
        "  print(f\"'{string}' is not alphanumeric.\")\n"
      ],
      "metadata": {
        "colab": {
          "base_uri": "https://localhost:8080/"
        },
        "id": "UxkfDuLzZ3aF",
        "outputId": "9d82c7a2-ffb1-4fcd-e9d6-c94eb85367ad"
      },
      "execution_count": 24,
      "outputs": [
        {
          "output_type": "stream",
          "name": "stdout",
          "text": [
            "'Hello123' is alphanumeric.\n"
          ]
        }
      ]
    },
    {
      "cell_type": "code",
      "source": [
        "#  24. Extract all digits from a string.\n",
        "\n",
        "def extract_digits(s):\n",
        "  \"\"\"\n",
        "  Extracts all digits from a string.\n",
        "\n",
        "  Args:\n",
        "    s: The input string.\n",
        "\n",
        "  Returns:\n",
        "    A string containing all the digits from the input string.\n",
        "  \"\"\"\n",
        "  digits = \"\"\n",
        "  for char in s:\n",
        "    if char.isdigit():\n",
        "      digits += char\n",
        "  return digits\n",
        "\n",
        "# Example usage\n",
        "string = \"Hello123World456\"\n",
        "extracted_digits = extract_digits(string)\n",
        "print(f\"The digits in the string are: {extracted_digits}\")\n"
      ],
      "metadata": {
        "colab": {
          "base_uri": "https://localhost:8080/"
        },
        "id": "goDZekUCaaM5",
        "outputId": "3f691645-144f-4721-bc84-24a53750bf53"
      },
      "execution_count": 25,
      "outputs": [
        {
          "output_type": "stream",
          "name": "stdout",
          "text": [
            "The digits in the string are: 123456\n"
          ]
        }
      ]
    },
    {
      "cell_type": "code",
      "source": [
        "#  25. Extract all alphabets from a string.\n",
        "\n",
        "def extract_alphabets(s):\n",
        "  \"\"\"\n",
        "  Extracts all alphabets from a string.\n",
        "\n",
        "  Args:\n",
        "    s: The input string.\n",
        "\n",
        "  Returns:\n",
        "    A string containing only the alphabets from the input string.\n",
        "  \"\"\"\n",
        "  alphabets = \"\"\n",
        "  for char in s:\n",
        "    if char.isalpha():\n",
        "      alphabets += char\n",
        "  return alphabets\n",
        "\n",
        "# Example usage\n",
        "string = \"This is a string with numbers 123 and symbols @#$!\"\n",
        "extracted_alphabets = extract_alphabets(string)\n",
        "print(f\"Alphabets extracted from the string: {extracted_alphabets}\")\n"
      ],
      "metadata": {
        "colab": {
          "base_uri": "https://localhost:8080/"
        },
        "id": "cNVweClKaaPi",
        "outputId": "bdccadc6-9218-45e2-c351-748892b95798"
      },
      "execution_count": 26,
      "outputs": [
        {
          "output_type": "stream",
          "name": "stdout",
          "text": [
            "Alphabets extracted from the string: Thisisastringwithnumbersandsymbols\n"
          ]
        }
      ]
    },
    {
      "cell_type": "code",
      "source": [
        "#  26. Count the number of uppercase letters in a string.\n",
        "\n",
        "def count_uppercase_letters(s):\n",
        "  \"\"\"\n",
        "  Counts the number of uppercase letters in a string.\n",
        "\n",
        "  Args:\n",
        "    s: The input string.\n",
        "\n",
        "  Returns:\n",
        "    The number of uppercase letters in the string.\n",
        "  \"\"\"\n",
        "  count = 0\n",
        "  for char in s:\n",
        "    if char.isupper():\n",
        "      count += 1\n",
        "  return count\n",
        "\n",
        "# Example usage\n",
        "string = \"HeLlO WoRlD\"\n",
        "uppercase_count = count_uppercase_letters(string)\n",
        "print(f\"The number of uppercase letters in '{string}' is: {uppercase_count}\")\n"
      ],
      "metadata": {
        "colab": {
          "base_uri": "https://localhost:8080/"
        },
        "id": "7A03L7eJaaR9",
        "outputId": "f4ee7cee-02cb-4669-db56-6ef293f8c04d"
      },
      "execution_count": 27,
      "outputs": [
        {
          "output_type": "stream",
          "name": "stdout",
          "text": [
            "The number of uppercase letters in 'HeLlO WoRlD' is: 6\n"
          ]
        }
      ]
    },
    {
      "cell_type": "code",
      "source": [
        "#  27. Count the number of lowercase letters in a string.\n",
        "\n",
        "def count_lowercase_letters(s):\n",
        "  \"\"\"\n",
        "  Counts the number of lowercase letters in a string.\n",
        "\n",
        "  Args:\n",
        "    s: The input string.\n",
        "\n",
        "  Returns:\n",
        "    The number of lowercase letters in the string.\n",
        "  \"\"\"\n",
        "  count = 0\n",
        "  for char in s:\n",
        "    if char.islower():\n",
        "      count += 1\n",
        "  return count\n",
        "\n",
        "# Example usage\n",
        "string = \"Hello World\"\n",
        "lowercase_count = count_lowercase_letters(string)\n",
        "print(f\"The number of lowercase letters in '{string}' is: {lowercase_count}\")\n"
      ],
      "metadata": {
        "colab": {
          "base_uri": "https://localhost:8080/"
        },
        "id": "U35XXDizaaUW",
        "outputId": "533e1736-7d12-4c41-8db1-d95a3312bd84"
      },
      "execution_count": 28,
      "outputs": [
        {
          "output_type": "stream",
          "name": "stdout",
          "text": [
            "The number of lowercase letters in 'Hello World' is: 8\n"
          ]
        }
      ]
    },
    {
      "cell_type": "code",
      "source": [
        "# 28. Swap the case of each character in a string.\n",
        "\n",
        "def swap_case(s):\n",
        "  \"\"\"\n",
        "  Swaps the case of each character in a string.\n",
        "\n",
        "  Args:\n",
        "    s: The input string.\n",
        "\n",
        "  Returns:\n",
        "    The string with the case of each character swapped.\n",
        "  \"\"\"\n",
        "  result = \"\"\n",
        "  for char in s:\n",
        "    if char.islower():\n",
        "      result += char.upper()\n",
        "    elif char.isupper():\n",
        "      result += char.lower()\n",
        "    else:\n",
        "      result += char\n",
        "  return result\n",
        "\n",
        "# Example usage\n",
        "string = \"Hello World\"\n",
        "swapped_string = swap_case(string)\n",
        "print(swapped_string)  # Output: hELLO wORLD\n"
      ],
      "metadata": {
        "colab": {
          "base_uri": "https://localhost:8080/"
        },
        "id": "rpI9c7hTaaXH",
        "outputId": "573ce437-2dae-4502-dd50-65ee0f369f89"
      },
      "execution_count": 29,
      "outputs": [
        {
          "output_type": "stream",
          "name": "stdout",
          "text": [
            "hELLO wORLD\n"
          ]
        }
      ]
    },
    {
      "cell_type": "code",
      "source": [
        "# 29. Remove a specific word from a string.\n",
        "\n",
        "def remove_word(s, word):\n",
        "  \"\"\"\n",
        "  Removes a specific word from a string.\n",
        "\n",
        "  Args:\n",
        "    s: The input string.\n",
        "    word: The word to remove.\n",
        "\n",
        "  Returns:\n",
        "    The string with the word removed.\n",
        "  \"\"\"\n",
        "  words = s.split()\n",
        "  new_words = [w for w in words if w != word]\n",
        "  return \" \".join(new_words)\n",
        "\n",
        "# Example usage\n",
        "string = \"This is a sample string.\"\n",
        "word_to_remove = \"sample\"\n",
        "new_string = remove_word(string, word_to_remove)\n",
        "print(new_string)  # Output: This is a string.\n"
      ],
      "metadata": {
        "colab": {
          "base_uri": "https://localhost:8080/"
        },
        "id": "GOcurricaaaB",
        "outputId": "3f76d70f-f522-4774-adbe-5afce20ba27d"
      },
      "execution_count": 30,
      "outputs": [
        {
          "output_type": "stream",
          "name": "stdout",
          "text": [
            "This is a string.\n"
          ]
        }
      ]
    },
    {
      "cell_type": "code",
      "source": [
        "# 30. Check if a string is a valid email address.\n",
        "\n",
        "import re\n",
        "\n",
        "def is_valid_email(email):\n",
        "  \"\"\"\n",
        "  Checks if a string is a valid email address.\n",
        "\n",
        "  Args:\n",
        "    email: The input email string.\n",
        "\n",
        "  Returns:\n",
        "    True if the email is valid, False otherwise.\n",
        "  \"\"\"\n",
        "  pattern = r\"^[a-zA-Z0-9._%+-]+@[a-zA-Z0-9.-]+\\.[a-zA-Z]{2,}$\"\n",
        "  return bool(re.match(pattern, email))\n",
        "\n",
        "# Example usage\n",
        "email = \"test@example.com\"\n",
        "if is_valid_email(email):\n",
        "  print(f\"'{email}' is a valid email address.\")\n",
        "else:\n",
        "  print(f\"'{email}' is not a valid email address.\")\n"
      ],
      "metadata": {
        "colab": {
          "base_uri": "https://localhost:8080/"
        },
        "id": "xoKo7wbgaacj",
        "outputId": "d0646aec-26b5-4b66-b334-04b5bc7c7c1c"
      },
      "execution_count": 31,
      "outputs": [
        {
          "output_type": "stream",
          "name": "stdout",
          "text": [
            "'test@example.com' is a valid email address.\n"
          ]
        }
      ]
    },
    {
      "cell_type": "code",
      "source": [
        "# 31. Extract the username from an email address string.\n",
        "\n",
        "def extract_username(email):\n",
        "  \"\"\"\n",
        "  Extracts the username from an email address string.\n",
        "\n",
        "  Args:\n",
        "    email: The input email address string.\n",
        "\n",
        "  Returns:\n",
        "    The username extracted from the email address.\n",
        "  \"\"\"\n",
        "  try:\n",
        "    username = email.split('@')[0]\n",
        "    return username\n",
        "  except IndexError:\n",
        "    return \"\"\n",
        "\n",
        "# Example usage\n",
        "email = \"test@example.com\"\n",
        "username = extract_username(email)\n",
        "print(f\"Username: {username}\")  # Output: Username: test\n"
      ],
      "metadata": {
        "colab": {
          "base_uri": "https://localhost:8080/"
        },
        "id": "wjQisQs0a28C",
        "outputId": "5d3d1d48-f645-4113-dfc2-dc79ba1c47d2"
      },
      "execution_count": 32,
      "outputs": [
        {
          "output_type": "stream",
          "name": "stdout",
          "text": [
            "Username: test\n"
          ]
        }
      ]
    },
    {
      "cell_type": "code",
      "source": [
        "#  32. Extract the domain name from an email address string.\n",
        "\n",
        "import re\n",
        "\n",
        "def extract_domain_name(email):\n",
        "  \"\"\"\n",
        "  Extracts the domain name from an email address string.\n",
        "\n",
        "  Args:\n",
        "    email: The input email address string.\n",
        "\n",
        "  Returns:\n",
        "    The domain name extracted from the email address.\n",
        "  \"\"\"\n",
        "  try:\n",
        "    domain = email.split('@')[1]\n",
        "    return domain\n",
        "  except IndexError:\n",
        "    return \"\"\n",
        "\n",
        "# Example usage\n",
        "email = \"test@example.com\"\n",
        "domain_name = extract_domain_name(email)\n",
        "print(f\"Domain name: {domain_name}\")  # Output: Domain name: example.com\n"
      ],
      "metadata": {
        "colab": {
          "base_uri": "https://localhost:8080/"
        },
        "id": "tEifaP8La2-h",
        "outputId": "b836c080-f304-4325-cfcc-a8b9424be70f"
      },
      "execution_count": 33,
      "outputs": [
        {
          "output_type": "stream",
          "name": "stdout",
          "text": [
            "Domain name: example.com\n"
          ]
        }
      ]
    },
    {
      "cell_type": "code",
      "source": [
        "# 33. Replace multiple spaces in a string with a single space.\n",
        "\n",
        "def replace_multiple_spaces(s):\n",
        "  \"\"\"\n",
        "  Replaces multiple spaces in a string with a single space.\n",
        "\n",
        "  Args:\n",
        "    s: The input string.\n",
        "\n",
        "  Returns:\n",
        "    The string with multiple spaces replaced by a single space.\n",
        "  \"\"\"\n",
        "  return \" \".join(s.split())\n"
      ],
      "metadata": {
        "id": "4N6bj6-Ga3BX"
      },
      "execution_count": 34,
      "outputs": []
    },
    {
      "cell_type": "code",
      "source": [
        "#  34. Check if a string is a valid URL.\n",
        "\n",
        "import re\n",
        "\n",
        "def is_valid_url(url):\n",
        "  \"\"\"\n",
        "  Checks if a string is a valid URL.\n",
        "\n",
        "  Args:\n",
        "    url: The input URL string.\n",
        "\n",
        "  Returns:\n",
        "    True if the URL is valid, False otherwise.\n",
        "  \"\"\"\n",
        "  pattern = r\"^(https?|ftp)://[^\\s/$.?#].[^\\s]*$\"\n",
        "  return bool(re.match(pattern, url))\n",
        "\n",
        "# Example usage\n",
        "url = \"https://www.example.com\"\n",
        "if is_valid_url(url):\n",
        "  print(f\"'{url}' is a valid URL.\")\n",
        "else:\n",
        "  print(f\"'{url}' is not a valid URL.\")\n"
      ],
      "metadata": {
        "colab": {
          "base_uri": "https://localhost:8080/"
        },
        "id": "4JYaGRf3a3Eh",
        "outputId": "c1d3b19b-d196-4c2c-edb8-a90e31cde5de"
      },
      "execution_count": 35,
      "outputs": [
        {
          "output_type": "stream",
          "name": "stdout",
          "text": [
            "'https://www.example.com' is a valid URL.\n"
          ]
        }
      ]
    },
    {
      "cell_type": "code",
      "source": [
        "# 35. Extract the protocol (http or https) from a URL string.\n",
        "\n",
        "import re\n",
        "\n",
        "def extract_protocol(url):\n",
        "  \"\"\"\n",
        "  Extracts the protocol (http or https) from a URL string.\n",
        "\n",
        "  Args:\n",
        "    url: The input URL string.\n",
        "\n",
        "  Returns:\n",
        "    The protocol (http or https) or an empty string if not found.\n",
        "  \"\"\"\n",
        "  pattern = r\"^(https?)://\"\n",
        "  match = re.match(pattern, url)\n",
        "  if match:\n",
        "    return match.group(1)\n",
        "  else:\n",
        "    return \"\"\n",
        "\n",
        "# Example usage\n",
        "url = \"https://www.example.com\"\n",
        "protocol = extract_protocol(url)\n",
        "print(f\"Protocol: {protocol}\")  # Output: Protocol: https\n"
      ],
      "metadata": {
        "colab": {
          "base_uri": "https://localhost:8080/"
        },
        "id": "WMkexU4Xa3HX",
        "outputId": "437c5d79-3b31-42df-f3cc-9b5d209565bf"
      },
      "execution_count": 36,
      "outputs": [
        {
          "output_type": "stream",
          "name": "stdout",
          "text": [
            "Protocol: https\n"
          ]
        }
      ]
    },
    {
      "cell_type": "code",
      "source": [
        "# 36. Find the frequency of each character in a string.\n",
        "\n",
        "def char_frequency(s):\n",
        "  \"\"\"\n",
        "  Finds the frequency of each character in a string.\n",
        "\n",
        "  Args:\n",
        "    s: The input string.\n",
        "\n",
        "  Returns:\n",
        "    A dictionary where keys are characters and values are their frequencies.\n",
        "  \"\"\"\n",
        "  freq = {}\n",
        "  for char in s:\n",
        "    if char in freq:\n",
        "      freq[char] += 1\n",
        "    else:\n",
        "      freq[char] = 1\n",
        "  return freq\n",
        "\n",
        "# Example usage\n",
        "string = \"hello world\"\n",
        "frequency = char_frequency(string)\n",
        "print(frequency)  # Output: {'h': 1, 'e': 1, 'l': 3, 'o': 2, ' ': 1, 'w': 1, 'r': 1, 'd': 1}\n"
      ],
      "metadata": {
        "colab": {
          "base_uri": "https://localhost:8080/"
        },
        "id": "5hEpP2EOa3J0",
        "outputId": "2e2fc21d-d68b-420f-84cc-f97b68120c66"
      },
      "execution_count": 37,
      "outputs": [
        {
          "output_type": "stream",
          "name": "stdout",
          "text": [
            "{'h': 1, 'e': 1, 'l': 3, 'o': 2, ' ': 1, 'w': 1, 'r': 1, 'd': 1}\n"
          ]
        }
      ]
    },
    {
      "cell_type": "code",
      "source": [
        "# 37. Remove all punctuation from a string.\n",
        "\n",
        "import re\n",
        "\n",
        "def remove_punctuation(s):\n",
        "  \"\"\"\n",
        "  Removes all punctuation from a string.\n",
        "\n",
        "  Args:\n",
        "    s: The input string.\n",
        "\n",
        "  Returns:\n",
        "    The string with all punctuation removed.\n",
        "  \"\"\"\n",
        "  return re.sub(r'[^\\w\\s]', '', s)\n",
        "\n",
        "# Example usage\n",
        "string = \"This is a string with punctuation! It has commas, periods, and more.\"\n",
        "no_punctuation_string = remove_punctuation(string)\n",
        "print(no_punctuation_string)  # Output: This is a string with punctuation It has commas periods and more\n"
      ],
      "metadata": {
        "colab": {
          "base_uri": "https://localhost:8080/"
        },
        "id": "uCSNY1uEa3Mm",
        "outputId": "abd70592-014a-422a-92d8-5c59b9e6db00"
      },
      "execution_count": 38,
      "outputs": [
        {
          "output_type": "stream",
          "name": "stdout",
          "text": [
            "This is a string with punctuation It has commas periods and more\n"
          ]
        }
      ]
    },
    {
      "cell_type": "code",
      "source": [
        "# 38. Check if a string contains only digits.\n",
        "\n",
        "def contains_only_digits(s):\n",
        "  \"\"\"\n",
        "  Checks if a string contains only digits.\n",
        "\n",
        "  Args:\n",
        "    s: The input string.\n",
        "\n",
        "  Returns:\n",
        "    True if the string contains only digits, False otherwise.\n",
        "  \"\"\"\n",
        "  return s.isdigit()\n",
        "\n",
        "# Example usage\n",
        "string = \"12345\"\n",
        "if contains_only_digits(string):\n",
        "  print(f\"'{string}' contains only digits.\")\n",
        "else:\n",
        "  print(f\"'{string}' does not contain only digits.\")\n"
      ],
      "metadata": {
        "colab": {
          "base_uri": "https://localhost:8080/"
        },
        "id": "dbH-eTMNa3Pw",
        "outputId": "9f9dfaa7-430b-4d2f-fbb1-1c03a0bef623"
      },
      "execution_count": 39,
      "outputs": [
        {
          "output_type": "stream",
          "name": "stdout",
          "text": [
            "'12345' contains only digits.\n"
          ]
        }
      ]
    },
    {
      "cell_type": "code",
      "source": [
        "#  39. Check if a string contains only alphabets.\n",
        "\n",
        "def contains_only_alphabets(s):\n",
        "  \"\"\"\n",
        "  Checks if a string contains only alphabets.\n",
        "\n",
        "  Args:\n",
        "    s: The input string.\n",
        "\n",
        "  Returns:\n",
        "    True if the string contains only alphabets, False otherwise.\n",
        "  \"\"\"\n",
        "  return s.isalpha()\n",
        "\n",
        "# Example usage\n",
        "string = \"HelloWorld\"\n",
        "if contains_only_alphabets(string):\n",
        "  print(f\"'{string}' contains only alphabets.\")\n",
        "else:\n",
        "  print(f\"'{string}' contains non-alphabetic characters.\")\n"
      ],
      "metadata": {
        "colab": {
          "base_uri": "https://localhost:8080/"
        },
        "id": "7XOF391la3Sq",
        "outputId": "12d14814-d3fc-4e18-8261-df73dfc54f89"
      },
      "execution_count": 40,
      "outputs": [
        {
          "output_type": "stream",
          "name": "stdout",
          "text": [
            "'HelloWorld' contains only alphabets.\n"
          ]
        }
      ]
    },
    {
      "cell_type": "code",
      "source": [
        "#  40. Convert a string to a list of characters.\n",
        "\n",
        "def string_to_char_list(s):\n",
        "  \"\"\"\n",
        "  Converts a string to a list of characters.\n",
        "\n",
        "  Args:\n",
        "    s: The input string.\n",
        "\n",
        "  Returns:\n",
        "    A list of characters.\n",
        "  \"\"\"\n",
        "  return list(s)\n",
        "\n",
        "# Example usage\n",
        "string = \"Hello\"\n",
        "char_list = string_to_char_list(string)\n",
        "print(char_list)  # Output: ['H', 'e', 'l', 'l', 'o']\n"
      ],
      "metadata": {
        "colab": {
          "base_uri": "https://localhost:8080/"
        },
        "id": "-KHZil7ua3V0",
        "outputId": "2d764d51-69f6-44dc-c43a-b887117d01ee"
      },
      "execution_count": 41,
      "outputs": [
        {
          "output_type": "stream",
          "name": "stdout",
          "text": [
            "['H', 'e', 'l', 'l', 'o']\n"
          ]
        }
      ]
    },
    {
      "cell_type": "code",
      "source": [
        "#  41. Check if two strings are anagrams.\n",
        "\n",
        "def are_anagrams(str1, str2):\n",
        "  \"\"\"\n",
        "  Checks if two strings are anagrams.\n",
        "\n",
        "  Args:\n",
        "    str1: The first string.\n",
        "    str2: The second string.\n",
        "\n",
        "  Returns:\n",
        "    True if the strings are anagrams, False otherwise.\n",
        "  \"\"\"\n",
        "  str1 = str1.lower()\n",
        "  str2 = str2.lower()\n",
        "  if len(str1) != len(str2):\n",
        "    return False\n",
        "  sorted_str1 = sorted(str1)\n",
        "  sorted_str2 = sorted(str2)\n",
        "  if sorted_str1 == sorted_str2:\n",
        "    return True\n",
        "  else:\n",
        "    return False\n",
        "\n",
        "# Example usage\n",
        "string1 = \"listen\"\n",
        "string2 = \"silent\"\n",
        "if are_anagrams(string1, string2):\n",
        "  print(f\"'{string1}' and '{string2}' are anagrams.\")\n",
        "else:\n",
        "  print(f\"'{string1}' and '{string2}' are not anagrams.\")\n"
      ],
      "metadata": {
        "colab": {
          "base_uri": "https://localhost:8080/"
        },
        "id": "k1VZRmxPa3dM",
        "outputId": "0f63e52c-40e6-4c43-815c-ce7d14452764"
      },
      "execution_count": 42,
      "outputs": [
        {
          "output_type": "stream",
          "name": "stdout",
          "text": [
            "'listen' and 'silent' are anagrams.\n"
          ]
        }
      ]
    },
    {
      "cell_type": "code",
      "source": [
        "#  42. Encode a string using a Caesar cipher.\n",
        "\n",
        "def caesar_cipher_encode(text, shift):\n",
        "  \"\"\"\n",
        "  Encodes a string using a Caesar cipher.\n",
        "\n",
        "  Args:\n",
        "    text: The input string.\n",
        "    shift: The number of positions to shift the characters.\n",
        "\n",
        "  Returns:\n",
        "    The encoded string.\n",
        "  \"\"\"\n",
        "  result = ''\n",
        "  for char in text:\n",
        "    if char.isalpha():\n",
        "      start = ord('a') if char.islower() else ord('A')\n",
        "      shifted_char = chr(((ord(char) - start + shift) % 26) + start)\n",
        "    else:\n",
        "      shifted_char = char\n",
        "    result += shifted_char\n",
        "  return result\n",
        "\n",
        "# Example usage\n",
        "text = \"hello world\"\n",
        "shift = 3\n",
        "encoded_text = caesar_cipher_encode(text, shift)\n",
        "print(f\"Encoded text: {encoded_text}\")  # Output: Encoded text: khoor zruog\n"
      ],
      "metadata": {
        "colab": {
          "base_uri": "https://localhost:8080/"
        },
        "id": "Oo2XspyEa3hI",
        "outputId": "88e38ff0-4422-47dc-f144-354e71cd0d80"
      },
      "execution_count": 43,
      "outputs": [
        {
          "output_type": "stream",
          "name": "stdout",
          "text": [
            "Encoded text: khoor zruog\n"
          ]
        }
      ]
    },
    {
      "cell_type": "code",
      "source": [
        "#  43. Decode a Caesar cipher encoded string.\n",
        "\n",
        "def caesar_decode(text, shift):\n",
        "  \"\"\"\n",
        "  Decodes a Caesar cipher encoded string.\n",
        "\n",
        "  Args:\n",
        "    text: The encoded string.\n",
        "    shift: The shift value used in the cipher.\n",
        "\n",
        "  Returns:\n",
        "    The decoded string.\n",
        "  \"\"\"\n",
        "  result = ''\n",
        "  for char in text:\n",
        "    if char.isalpha():\n",
        "      start = ord('a') if char.islower() else ord('A')\n",
        "      shifted_char = chr(((ord(char) - start - shift) % 26 + 26) % 26 + start)\n",
        "    else:\n",
        "      shifted_char = char\n",
        "    result += shifted_char\n",
        "  return result\n"
      ],
      "metadata": {
        "id": "Q-k95EC1a3k4"
      },
      "execution_count": 44,
      "outputs": []
    },
    {
      "cell_type": "code",
      "source": [
        "# 44. Find the most frequent word in a string.\n",
        "\n",
        "from collections import Counter\n",
        "\n",
        "def find_most_frequent_word(s):\n",
        "  \"\"\"\n",
        "  Finds the most frequent word in a string.\n",
        "\n",
        "  Args:\n",
        "    s: The input string.\n",
        "\n",
        "  Returns:\n",
        "    The most frequent word in the string.\n",
        "  \"\"\"\n",
        "  words = s.split()\n",
        "  word_counts = Counter(words)\n",
        "  most_frequent_word = word_counts.most_common(1)[0][0]\n",
        "  return most_frequent_word\n",
        "\n",
        "# Example usage\n",
        "string = \"This is a sample string. This string contains the word sample.\"\n",
        "most_frequent = find_most_frequent_word(string)\n",
        "print(f\"The most frequent word is: {most_frequent}\")\n"
      ],
      "metadata": {
        "colab": {
          "base_uri": "https://localhost:8080/"
        },
        "id": "lw8TrVvra3pA",
        "outputId": "a9a6fd91-0e5c-4832-cb95-8c7ff62f45ee"
      },
      "execution_count": 45,
      "outputs": [
        {
          "output_type": "stream",
          "name": "stdout",
          "text": [
            "The most frequent word is: This\n"
          ]
        }
      ]
    },
    {
      "cell_type": "code",
      "source": [
        "# 45. Find all unique words in a string.\n",
        "\n",
        "def find_unique_words(s):\n",
        "  \"\"\"\n",
        "  Finds all unique words in a string.\n",
        "\n",
        "  Args:\n",
        "    s: The input string.\n",
        "\n",
        "  Returns:\n",
        "    A list of unique words in the string.\n",
        "  \"\"\"\n",
        "  words = s.split()\n",
        "  unique_words = []\n",
        "  for word in words:\n",
        "    if word not in unique_words:\n",
        "      unique_words.append(word)\n",
        "  return unique_words\n",
        "\n",
        "# Example usage\n",
        "string = \"This is a sample string. This string contains the word sample.\"\n",
        "unique_words = find_unique_words(string)\n",
        "print(f\"Unique words in the string: {unique_words}\")\n"
      ],
      "metadata": {
        "colab": {
          "base_uri": "https://localhost:8080/"
        },
        "id": "rvJeED4ba3tp",
        "outputId": "5f210c7d-11e5-4b37-e6cb-d8b9a6b17f8b"
      },
      "execution_count": 46,
      "outputs": [
        {
          "output_type": "stream",
          "name": "stdout",
          "text": [
            "Unique words in the string: ['This', 'is', 'a', 'sample', 'string.', 'string', 'contains', 'the', 'word', 'sample.']\n"
          ]
        }
      ]
    },
    {
      "cell_type": "code",
      "source": [
        "#  46. Count the number of syllables in a string.\n",
        "\n",
        "import re\n",
        "\n",
        "def count_syllables(word):\n",
        "  \"\"\"\n",
        "  Counts the number of syllables in a word.\n",
        "\n",
        "  Args:\n",
        "    word: The input word.\n",
        "\n",
        "  Returns:\n",
        "    The number of syllables in the word.\n",
        "  \"\"\"\n",
        "  word = word.lower()\n",
        "  count = 0\n",
        "  vowels = \"aeiouy\"\n",
        "  if word[0] in vowels:\n",
        "    count += 1\n",
        "  for index in range(1, len(word)):\n",
        "    if word[index] in vowels and word[index - 1] not in vowels:\n",
        "      count += 1\n",
        "  if word.endswith(\"e\"):\n",
        "    count -= 1\n",
        "  if count == 0:\n",
        "    count += 1\n",
        "  return count\n",
        "\n",
        "# Example usage\n",
        "word = \"syllable\"\n",
        "syllable_count = count_syllables(word)\n",
        "print(f\"The number of syllables in '{word}' is: {syllable_count}\")\n"
      ],
      "metadata": {
        "colab": {
          "base_uri": "https://localhost:8080/"
        },
        "id": "g2ay6onra3x2",
        "outputId": "13cb968a-c437-465d-83ab-ba8409835535"
      },
      "execution_count": 47,
      "outputs": [
        {
          "output_type": "stream",
          "name": "stdout",
          "text": [
            "The number of syllables in 'syllable' is: 2\n"
          ]
        }
      ]
    },
    {
      "cell_type": "code",
      "source": [
        "# 47. Check if a string contains any special characters.\n",
        "\n",
        "import re\n",
        "\n",
        "def contains_special_characters(s):\n",
        "  \"\"\"\n",
        "  Checks if a string contains any special characters.\n",
        "\n",
        "  Args:\n",
        "    s: The input string.\n",
        "\n",
        "  Returns:\n",
        "    True if the string contains special characters, False otherwise.\n",
        "  \"\"\"\n",
        "  pattern = r\"[^a-zA-Z0-9\\s]\"\n",
        "  if re.search(pattern, s):\n",
        "    return True\n",
        "  else:\n",
        "    return False\n",
        "\n",
        "# Example usage\n",
        "string = \"This is a string with special characters like @#$!\"\n",
        "if contains_special_characters(string):\n",
        "  print(f\"'{string}' contains special characters.\")\n",
        "else:\n",
        "  print(f\"'{string}' does not contain special characters.\")\n"
      ],
      "metadata": {
        "colab": {
          "base_uri": "https://localhost:8080/"
        },
        "id": "wKw3KO8Na32x",
        "outputId": "b4e8ba19-4f38-4441-8382-5ca68511b0ee"
      },
      "execution_count": 48,
      "outputs": [
        {
          "output_type": "stream",
          "name": "stdout",
          "text": [
            "'This is a string with special characters like @#$!' contains special characters.\n"
          ]
        }
      ]
    },
    {
      "cell_type": "code",
      "source": [
        "#  48. Remove the nth word from a string.\n",
        "\n",
        "def remove_nth_word(s, n):\n",
        "  \"\"\"\n",
        "  Removes the nth word from a string.\n",
        "\n",
        "  Args:\n",
        "    s: The input string.\n",
        "    n: The position of the word to remove (starting from 1).\n",
        "\n",
        "  Returns:\n",
        "    The string with the nth word removed.\n",
        "  \"\"\"\n",
        "  words = s.split()\n",
        "  if n > 0 and n <= len(words):\n",
        "    del words[n - 1]\n",
        "  return \" \".join(words)\n",
        "\n",
        "# Example usage\n",
        "string = \"This is a sample string.\"\n",
        "n = 3\n",
        "new_string = remove_nth_word(string, n)\n",
        "print(new_string)  # Output: This is sample string.\n"
      ],
      "metadata": {
        "colab": {
          "base_uri": "https://localhost:8080/"
        },
        "id": "XtywFltGa36r",
        "outputId": "f770d13f-4e76-4194-f449-4543b5b30773"
      },
      "execution_count": 49,
      "outputs": [
        {
          "output_type": "stream",
          "name": "stdout",
          "text": [
            "This is sample string.\n"
          ]
        }
      ]
    },
    {
      "cell_type": "code",
      "source": [
        "#  49. Insert a word at the nth position in a string.\n",
        "\n",
        "def insert_word_at_position(s, word, n):\n",
        "  \"\"\"\n",
        "  Inserts a word at the nth position in a string.\n",
        "\n",
        "  Args:\n",
        "    s: The input string.\n",
        "    word: The word to insert.\n",
        "    n: The position to insert the word.\n",
        "\n",
        "  Returns:\n",
        "    The string with the word inserted at the nth position.\n",
        "  \"\"\"\n",
        "  words = s.split()\n",
        "  if n <= 0:\n",
        "    words.insert(0, word)\n",
        "  elif n > len(words):\n",
        "    words.append(word)\n",
        "  else:\n",
        "    words.insert(n - 1, word)\n",
        "  return \" \".join(words)\n",
        "\n",
        "# Example usage\n",
        "string = \"This is a sample string.\"\n",
        "word_to_insert = \"new\"\n",
        "position = 3\n",
        "new_string = insert_word_at_position(string, word_to_insert, position)\n",
        "print(new_string)  # Output: This is new a sample string.\n"
      ],
      "metadata": {
        "colab": {
          "base_uri": "https://localhost:8080/"
        },
        "id": "xv2m9in1a3--",
        "outputId": "bbae9692-66e2-4f3e-a4d8-f87f13c223a5"
      },
      "execution_count": 50,
      "outputs": [
        {
          "output_type": "stream",
          "name": "stdout",
          "text": [
            "This is new a sample string.\n"
          ]
        }
      ]
    },
    {
      "cell_type": "code",
      "source": [
        "#  50. Convert a CSV string to a list of lists.\n",
        "\n",
        "import csv\n",
        "import io\n",
        "\n",
        "def csv_string_to_list_of_lists(csv_string):\n",
        "  \"\"\"\n",
        "  Converts a CSV string to a list of lists.\n",
        "\n",
        "  Args:\n",
        "    csv_string: The CSV string.\n",
        "\n",
        "  Returns:\n",
        "    A list of lists representing the CSV data.\n",
        "  \"\"\"\n",
        "  reader = csv.reader(io.StringIO(csv_string))\n",
        "  return list(reader)\n"
      ],
      "metadata": {
        "id": "BxZDQjHMa4DQ"
      },
      "execution_count": 51,
      "outputs": []
    },
    {
      "cell_type": "markdown",
      "source": [
        "**List Based Practice Problem :**"
      ],
      "metadata": {
        "id": "_vmB8vKecgkx"
      }
    },
    {
      "cell_type": "code",
      "source": [
        "#  1. Create a list with integers from 1 to 10.\n",
        "\n",
        "my_list = list(range(1, 11))\n"
      ],
      "metadata": {
        "id": "fxMyOjFxckzW"
      },
      "execution_count": 52,
      "outputs": []
    },
    {
      "cell_type": "code",
      "source": [
        "#  2. Find the length of a list without using the `len()` function.\n",
        "\n",
        "def list_length(lst):\n",
        "  \"\"\"\n",
        "  Finds the length of a list without using the `len()` function.\n",
        "\n",
        "  Args:\n",
        "    lst: The input list.\n",
        "\n",
        "  Returns:\n",
        "    The length of the list.\n",
        "  \"\"\"\n",
        "  count = 0\n",
        "  for _ in lst:\n",
        "    count += 1\n",
        "  return count\n"
      ],
      "metadata": {
        "id": "2C2OH0TWcnvc"
      },
      "execution_count": 53,
      "outputs": []
    },
    {
      "cell_type": "code",
      "source": [
        "#  3. Append an element to the end of a list.\n",
        "\n",
        "def append_to_list(lst, element):\n",
        "  \"\"\"\n",
        "  Appends an element to the end of a list.\n",
        "\n",
        "  Args:\n",
        "    lst: The input list.\n",
        "    element: The element to append.\n",
        "\n",
        "  Returns:\n",
        "    The list with the element appended.\n",
        "  \"\"\"\n",
        "  lst.append(element)\n",
        "  return lst\n",
        "\n",
        "# Example usage\n",
        "my_list = [1, 2, 3]\n",
        "new_element = 4\n",
        "updated_list = append_to_list(my_list, new_element)\n",
        "print(updated_list)  # Output: [1, 2, 3, 4]\n"
      ],
      "metadata": {
        "colab": {
          "base_uri": "https://localhost:8080/"
        },
        "id": "ht7yOid-cn_6",
        "outputId": "e4dfa71b-328d-4e43-e4d1-54c9d1024c36"
      },
      "execution_count": 54,
      "outputs": [
        {
          "output_type": "stream",
          "name": "stdout",
          "text": [
            "[1, 2, 3, 4]\n"
          ]
        }
      ]
    },
    {
      "cell_type": "code",
      "source": [
        "# 4. Insert an element at a specific index in a list.\n",
        "\n",
        "def insert_element_at_index(lst, element, index):\n",
        "  \"\"\"\n",
        "  Inserts an element at a specific index in a list.\n",
        "\n",
        "  Args:\n",
        "    lst: The input list.\n",
        "    element: The element to insert.\n",
        "    index: The index at which to insert the element.\n",
        "\n",
        "  Returns:\n",
        "    The list with the element inserted.\n",
        "  \"\"\"\n",
        "  lst.insert(index, element)\n",
        "  return lst\n",
        "\n",
        "# Example usage\n",
        "my_list = [1, 2, 3, 4, 5]\n",
        "element_to_insert = 10\n",
        "index_to_insert = 2\n",
        "new_list = insert_element_at_index(my_list, element_to_insert, index_to_insert)\n",
        "print(new_list)  # Output: [1, 2, 10, 3, 4, 5]\n"
      ],
      "metadata": {
        "colab": {
          "base_uri": "https://localhost:8080/"
        },
        "id": "7MMCwiF3coFz",
        "outputId": "01a509c9-eb82-4267-f21c-5bd3ba9b66e8"
      },
      "execution_count": 55,
      "outputs": [
        {
          "output_type": "stream",
          "name": "stdout",
          "text": [
            "[1, 2, 10, 3, 4, 5]\n"
          ]
        }
      ]
    },
    {
      "cell_type": "code",
      "source": [
        "# 5. Remove an element from a list by its value.\n",
        "\n",
        "def remove_element_by_value(lst, value):\n",
        "  \"\"\"\n",
        "  Removes an element from a list by its value.\n",
        "\n",
        "  Args:\n",
        "    lst: The input list.\n",
        "    value: The value to remove.\n",
        "\n",
        "  Returns:\n",
        "    The list with the value removed (if found).\n",
        "  \"\"\"\n",
        "  try:\n",
        "    lst.remove(value)\n",
        "  except ValueError:\n",
        "    print(f\"Value {value} not found in the list.\")\n",
        "  return lst\n",
        "\n",
        "# Example usage\n",
        "my_list = [1, 2, 3, 4, 5]\n",
        "value_to_remove = 3\n",
        "new_list = remove_element_by_value(my_list, value_to_remove)\n",
        "print(new_list)  # Output: [1, 2, 4, 5]\n"
      ],
      "metadata": {
        "colab": {
          "base_uri": "https://localhost:8080/"
        },
        "id": "JoElukSmcoKO",
        "outputId": "00aee8bb-91b0-48cd-903b-ddd5c5f0f854"
      },
      "execution_count": 56,
      "outputs": [
        {
          "output_type": "stream",
          "name": "stdout",
          "text": [
            "[1, 2, 4, 5]\n"
          ]
        }
      ]
    },
    {
      "cell_type": "code",
      "source": [
        "#  6. Remove an element from a list by its index.\n",
        "\n",
        "def remove_element_by_index(lst, index):\n",
        "  \"\"\"\n",
        "  Removes an element from a list by its index.\n",
        "\n",
        "  Args:\n",
        "    lst: The input list.\n",
        "    index: The index of the element to remove.\n",
        "\n",
        "  Returns:\n",
        "    The list with the element removed (if the index is valid).\n",
        "  \"\"\"\n",
        "  if 0 <= index < len(lst):\n",
        "    del lst[index]\n",
        "  else:\n",
        "    print(f\"Index {index} is out of range.\")\n",
        "  return lst\n",
        "\n",
        "# Example usage\n",
        "my_list = [1, 2, 3, 4, 5]\n",
        "index_to_remove = 2\n",
        "new_list = remove_element_by_index(my_list, index_to_remove)\n",
        "print(new_list)  # Output: [1, 2, 4, 5]\n"
      ],
      "metadata": {
        "colab": {
          "base_uri": "https://localhost:8080/"
        },
        "id": "93-zZQcxcoOv",
        "outputId": "5ef557e8-3a52-460a-f7d6-d1f25ffed21b"
      },
      "execution_count": 57,
      "outputs": [
        {
          "output_type": "stream",
          "name": "stdout",
          "text": [
            "[1, 2, 4, 5]\n"
          ]
        }
      ]
    },
    {
      "cell_type": "code",
      "source": [
        "#  7. Check if an element exists in a list.\n",
        "\n",
        "def element_exists(lst, element):\n",
        "  \"\"\"\n",
        "  Checks if an element exists in a list.\n",
        "\n",
        "  Args:\n",
        "    lst: The input list.\n",
        "    element: The element to check for.\n",
        "\n",
        "  Returns:\n",
        "    True if the element exists in the list, False otherwise.\n",
        "  \"\"\"\n",
        "  if element in lst:\n",
        "    return True\n",
        "  else:\n",
        "    return False\n"
      ],
      "metadata": {
        "id": "Dad9pdS5coSZ"
      },
      "execution_count": 58,
      "outputs": []
    },
    {
      "cell_type": "code",
      "source": [
        "#  8. Find the index of the first occurrence of an element in a list.\n",
        "\n",
        "def find_first_occurrence_index(lst, element):\n",
        "  \"\"\"\n",
        "  Finds the index of the first occurrence of an element in a list.\n",
        "\n",
        "  Args:\n",
        "    lst: The input list.\n",
        "    element: The element to find.\n",
        "\n",
        "  Returns:\n",
        "    The index of the first occurrence of the element, or -1 if not found.\n",
        "  \"\"\"\n",
        "  try:\n",
        "    index = lst.index(element)\n",
        "    return index\n",
        "  except ValueError:\n",
        "    return -1\n",
        "\n",
        "# Example usage\n",
        "my_list = [1, 2, 3, 4, 5, 2]\n",
        "element_to_find = 2\n",
        "index = find_first_occurrence_index(my_list, element_to_find)\n",
        "print(f\"The index of the first occurrence of {element_to_find} is: {index}\")  # Output: The index of the first occurrence of 2 is: 1\n"
      ],
      "metadata": {
        "colab": {
          "base_uri": "https://localhost:8080/"
        },
        "id": "cEQsHTxlcoWD",
        "outputId": "c0a9e26d-b2b5-4c7b-81ba-0b14e1f82ea3"
      },
      "execution_count": 59,
      "outputs": [
        {
          "output_type": "stream",
          "name": "stdout",
          "text": [
            "The index of the first occurrence of 2 is: 1\n"
          ]
        }
      ]
    },
    {
      "cell_type": "code",
      "source": [
        "#  9. Count the occurrences of an element in a list.\n",
        "\n",
        "def count_occurrences(lst, element):\n",
        "  \"\"\"\n",
        "  Counts the occurrences of an element in a list.\n",
        "\n",
        "  Args:\n",
        "    lst: The input list.\n",
        "    element: The element to count.\n",
        "\n",
        "  Returns:\n",
        "    The number of times the element appears in the list.\n",
        "  \"\"\"\n",
        "  count = 0\n",
        "  for item in lst:\n",
        "    if item == element:\n",
        "      count += 1\n",
        "  return count\n",
        "\n",
        "# Example usage\n",
        "my_list = [1, 2, 3, 2, 4, 2, 5]\n",
        "element_to_count = 2\n",
        "occurrences = count_occurrences(my_list, element_to_count)\n",
        "print(f\"The element {element_to_count} appears {occurrences} times in the list.\")\n"
      ],
      "metadata": {
        "colab": {
          "base_uri": "https://localhost:8080/"
        },
        "id": "TYVsgoVxcoZl",
        "outputId": "74d9fbc5-4881-45e7-c9d2-e36a04416bbc"
      },
      "execution_count": 60,
      "outputs": [
        {
          "output_type": "stream",
          "name": "stdout",
          "text": [
            "The element 2 appears 3 times in the list.\n"
          ]
        }
      ]
    },
    {
      "cell_type": "code",
      "source": [
        "# 10. Reverse the order of elements in a list.\n",
        "\n",
        "def reverse_list(lst):\n",
        "  \"\"\"\n",
        "  Reverses the order of elements in a list.\n",
        "\n",
        "  Args:\n",
        "    lst: The input list.\n",
        "\n",
        "  Returns:\n",
        "    The reversed list.\n",
        "  \"\"\"\n",
        "  return lst[::-1]\n",
        "\n",
        "# Example usage\n",
        "my_list = [1, 2, 3, 4, 5]\n",
        "reversed_list = reverse_list(my_list)\n",
        "print(reversed_list)  # Output: [5, 4, 3, 2, 1]\n"
      ],
      "metadata": {
        "colab": {
          "base_uri": "https://localhost:8080/"
        },
        "id": "DAVaRVwNcodq",
        "outputId": "22ed81dd-d565-4c57-cf1d-da24cc189c8d"
      },
      "execution_count": 61,
      "outputs": [
        {
          "output_type": "stream",
          "name": "stdout",
          "text": [
            "[5, 4, 3, 2, 1]\n"
          ]
        }
      ]
    },
    {
      "cell_type": "code",
      "source": [
        "# 11. Sort a list in ascending order.\n",
        "\n",
        "def sort_list_ascending(lst):\n",
        "  \"\"\"\n",
        "  Sorts a list in ascending order.\n",
        "\n",
        "  Args:\n",
        "    lst: The input list.\n",
        "\n",
        "  Returns:\n",
        "    The sorted list in ascending order.\n",
        "  \"\"\"\n",
        "  lst.sort()\n",
        "  return lst\n",
        "\n",
        "# Example usage\n",
        "my_list = [5, 2, 8, 1, 9]\n",
        "sorted_list = sort_list_ascending(my_list)\n",
        "print(sorted_list)  # Output: [1, 2, 5, 8, 9]\n"
      ],
      "metadata": {
        "colab": {
          "base_uri": "https://localhost:8080/"
        },
        "id": "dDmBr2zecohS",
        "outputId": "048ea9e2-4717-47d0-c7f2-4279fcd7afd3"
      },
      "execution_count": 62,
      "outputs": [
        {
          "output_type": "stream",
          "name": "stdout",
          "text": [
            "[1, 2, 5, 8, 9]\n"
          ]
        }
      ]
    },
    {
      "cell_type": "code",
      "source": [
        "# 12. Sort a list in descending order.\n",
        "\n",
        "def sort_list_descending(lst):\n",
        "  \"\"\"\n",
        "  Sorts a list in descending order.\n",
        "\n",
        "  Args:\n",
        "    lst: The input list.\n",
        "\n",
        "  Returns:\n",
        "    The list sorted in descending order.\n",
        "  \"\"\"\n",
        "  lst.sort(reverse=True)\n",
        "  return lst\n",
        "\n",
        "# Example usage\n",
        "my_list = [5, 2, 8, 1, 9]\n",
        "sorted_list = sort_list_descending(my_list)\n",
        "print(sorted_list)  # Output: [9, 8, 5, 2, 1]\n"
      ],
      "metadata": {
        "colab": {
          "base_uri": "https://localhost:8080/"
        },
        "id": "a9Ta6OStcolD",
        "outputId": "df5cd9f0-7cb3-482a-9b21-e994badc4638"
      },
      "execution_count": 63,
      "outputs": [
        {
          "output_type": "stream",
          "name": "stdout",
          "text": [
            "[9, 8, 5, 2, 1]\n"
          ]
        }
      ]
    },
    {
      "cell_type": "code",
      "source": [
        "#  13. Create a list of even numbers from 1 to 20.\n",
        "\n",
        "even_numbers = [num for num in range(1, 21) if num % 2 == 0]\n",
        "print(even_numbers)\n"
      ],
      "metadata": {
        "colab": {
          "base_uri": "https://localhost:8080/"
        },
        "id": "YA7Kf4UDcopW",
        "outputId": "3640c8c1-b614-4fd3-b7c0-5e7603679611"
      },
      "execution_count": 64,
      "outputs": [
        {
          "output_type": "stream",
          "name": "stdout",
          "text": [
            "[2, 4, 6, 8, 10, 12, 14, 16, 18, 20]\n"
          ]
        }
      ]
    },
    {
      "cell_type": "code",
      "source": [
        "# 14. Create a list of odd numbers from 1 to 20.\n",
        "\n",
        "odd_numbers = [num for num in range(1, 21) if num % 2 != 0]\n",
        "print(odd_numbers)\n"
      ],
      "metadata": {
        "colab": {
          "base_uri": "https://localhost:8080/"
        },
        "id": "ngvaGl2dcotP",
        "outputId": "86bfb83d-23d7-4d12-c9dd-6927dca93e21"
      },
      "execution_count": 65,
      "outputs": [
        {
          "output_type": "stream",
          "name": "stdout",
          "text": [
            "[1, 3, 5, 7, 9, 11, 13, 15, 17, 19]\n"
          ]
        }
      ]
    },
    {
      "cell_type": "code",
      "source": [
        "# 15. Find the sum of all elements in a list.\n",
        "\n",
        "def sum_of_list_elements(lst):\n",
        "  \"\"\"\n",
        "  Finds the sum of all elements in a list.\n",
        "\n",
        "  Args:\n",
        "    lst: The input list.\n",
        "\n",
        "  Returns:\n",
        "    The sum of all elements in the list.\n",
        "  \"\"\"\n",
        "  total = 0\n",
        "  for num in lst:\n",
        "    total += num\n",
        "  return total\n",
        "\n",
        "# Example usage\n",
        "my_list = [1, 2, 3, 4, 5]\n",
        "sum_of_elements = sum_of_list_elements(my_list)\n",
        "print(f\"The sum of elements in the list is: {sum_of_elements}\")\n"
      ],
      "metadata": {
        "colab": {
          "base_uri": "https://localhost:8080/"
        },
        "id": "nvLyufElcoxa",
        "outputId": "6b059003-6e7f-4937-e4ec-3dc8d2502af2"
      },
      "execution_count": 66,
      "outputs": [
        {
          "output_type": "stream",
          "name": "stdout",
          "text": [
            "The sum of elements in the list is: 15\n"
          ]
        }
      ]
    },
    {
      "cell_type": "code",
      "source": [
        "# 16. Find the maximum value in a list.\n",
        "\n",
        "def find_max_value(lst):\n",
        "  \"\"\"\n",
        "  Finds the maximum value in a list.\n",
        "\n",
        "  Args:\n",
        "    lst: The input list.\n",
        "\n",
        "  Returns:\n",
        "    The maximum value in the list.\n",
        "  \"\"\"\n",
        "  if not lst:\n",
        "    return None\n",
        "  max_value = lst[0]\n",
        "  for num in lst:\n",
        "    if num > max_value:\n",
        "      max_value = num\n",
        "  return max_value\n",
        "\n",
        "# Example usage\n",
        "my_list = [5, 2, 8, 1, 9]\n",
        "max_value = find_max_value(my_list)\n",
        "print(f\"The maximum value in the list is: {max_value}\")\n"
      ],
      "metadata": {
        "colab": {
          "base_uri": "https://localhost:8080/"
        },
        "id": "kafs8TuGco1j",
        "outputId": "f40626de-0436-4129-8ef2-a9da658f06a0"
      },
      "execution_count": 67,
      "outputs": [
        {
          "output_type": "stream",
          "name": "stdout",
          "text": [
            "The maximum value in the list is: 9\n"
          ]
        }
      ]
    },
    {
      "cell_type": "code",
      "source": [
        "# 17. Find the minimum value in a list.\n",
        "\n",
        "def find_minimum(lst):\n",
        "  \"\"\"\n",
        "  Finds the minimum value in a list.\n",
        "\n",
        "  Args:\n",
        "    lst: The input list.\n",
        "\n",
        "  Returns:\n",
        "    The minimum value in the list.\n",
        "  \"\"\"\n",
        "  if not lst:\n",
        "    return None\n",
        "  min_value = lst[0]\n",
        "  for num in lst:\n",
        "    if num < min_value:\n",
        "      min_value = num\n",
        "  return min_value\n"
      ],
      "metadata": {
        "id": "t09x69RFco5u"
      },
      "execution_count": 68,
      "outputs": []
    },
    {
      "cell_type": "code",
      "source": [
        "# 18. Create a list of squares of numbers from 1 to 10.\n",
        "\n",
        "squares = [num ** 2 for num in range(1, 11)]\n",
        "print(squares)\n"
      ],
      "metadata": {
        "colab": {
          "base_uri": "https://localhost:8080/"
        },
        "id": "lATktIvzco9r",
        "outputId": "fe124e76-ad4e-49d9-ed48-29fdf31397bb"
      },
      "execution_count": 69,
      "outputs": [
        {
          "output_type": "stream",
          "name": "stdout",
          "text": [
            "[1, 4, 9, 16, 25, 36, 49, 64, 81, 100]\n"
          ]
        }
      ]
    },
    {
      "cell_type": "code",
      "source": [
        "#  19. Create a list of random numbers.\n",
        "\n",
        "import random\n",
        "\n",
        "random_numbers = [random.randint(1, 100) for _ in range(10)]\n",
        "print(random_numbers)\n"
      ],
      "metadata": {
        "colab": {
          "base_uri": "https://localhost:8080/"
        },
        "id": "qTQK5ueocpBh",
        "outputId": "d10dd73d-dbd4-4264-98ab-e1153386c96e"
      },
      "execution_count": 70,
      "outputs": [
        {
          "output_type": "stream",
          "name": "stdout",
          "text": [
            "[51, 75, 43, 17, 53, 60, 66, 10, 4, 57]\n"
          ]
        }
      ]
    },
    {
      "cell_type": "code",
      "source": [
        "#  20. Remove duplicates from a list.\n",
        "\n",
        "def remove_duplicates(lst):\n",
        "  \"\"\"\n",
        "  Removes duplicates from a list.\n",
        "\n",
        "  Args:\n",
        "    lst: The input list.\n",
        "\n",
        "  Returns:\n",
        "    A new list with duplicates removed.\n",
        "  \"\"\"\n",
        "  unique_list = []\n",
        "  for item in lst:\n",
        "    if item not in unique_list:\n",
        "      unique_list.append(item)\n",
        "  return unique_list\n",
        "\n",
        "# Example usage\n",
        "my_list = [1, 2, 2, 3, 4, 4, 5]\n",
        "new_list = remove_duplicates(my_list)\n",
        "print(new_list)  # Output: [1, 2, 3, 4, 5]\n"
      ],
      "metadata": {
        "colab": {
          "base_uri": "https://localhost:8080/"
        },
        "id": "W4CupoJRcpFL",
        "outputId": "129d5320-bf14-40d2-a066-3ea3e8c167c5"
      },
      "execution_count": 71,
      "outputs": [
        {
          "output_type": "stream",
          "name": "stdout",
          "text": [
            "[1, 2, 3, 4, 5]\n"
          ]
        }
      ]
    },
    {
      "cell_type": "code",
      "source": [
        "#  21. Find the common elements between two lists.\n",
        "\n",
        "def find_common_elements(list1, list2):\n",
        "  \"\"\"\n",
        "  Finds the common elements between two lists.\n",
        "\n",
        "  Args:\n",
        "    list1: The first list.\n",
        "    list2: The second list.\n",
        "\n",
        "  Returns:\n",
        "    A list containing the common elements.\n",
        "  \"\"\"\n",
        "  common_elements = []\n",
        "  for element in list1:\n",
        "    if element in list2 and element not in common_elements:\n",
        "      common_elements.append(element)\n",
        "  return common_elements\n",
        "\n",
        "# Example usage\n",
        "list1 = [1, 2, 3, 4, 5]\n",
        "list2 = [4, 5, 6, 7, 8]\n",
        "common_elements = find_common_elements(list1, list2)\n",
        "print(f\"Common elements: {common_elements}\")\n"
      ],
      "metadata": {
        "colab": {
          "base_uri": "https://localhost:8080/"
        },
        "id": "nxPd4U15dzcE",
        "outputId": "b4007bef-a7ed-429a-9fed-daa70006772f"
      },
      "execution_count": 72,
      "outputs": [
        {
          "output_type": "stream",
          "name": "stdout",
          "text": [
            "Common elements: [4, 5]\n"
          ]
        }
      ]
    },
    {
      "cell_type": "code",
      "source": [
        "# 22. Find the difference between two lists.\n",
        "\n",
        "def find_difference_between_lists(list1, list2):\n",
        "  \"\"\"\n",
        "  Finds the difference between two lists.\n",
        "\n",
        "  Args:\n",
        "    list1: The first list.\n",
        "    list2: The second list.\n",
        "\n",
        "  Returns:\n",
        "    A list containing elements that are in list1 but not in list2.\n",
        "  \"\"\"\n",
        "  difference = [item for item in list1 if item not in list2]\n",
        "  return difference\n",
        "\n",
        "# Example usage\n",
        "list1 = [1, 2, 3, 4, 5]\n",
        "list2 = [3, 4, 5, 6, 7]\n",
        "difference = find_difference_between_lists(list1, list2)\n",
        "print(f\"Difference between the lists: {difference}\")\n"
      ],
      "metadata": {
        "colab": {
          "base_uri": "https://localhost:8080/"
        },
        "id": "n-dF94JUdzoY",
        "outputId": "025536af-9b3e-4375-957b-ad1539e0e92e"
      },
      "execution_count": 73,
      "outputs": [
        {
          "output_type": "stream",
          "name": "stdout",
          "text": [
            "Difference between the lists: [1, 2]\n"
          ]
        }
      ]
    },
    {
      "cell_type": "code",
      "source": [
        "#  23. Merge two lists.\n",
        "\n",
        "def merge_lists(list1, list2):\n",
        "  \"\"\"\n",
        "  Merges two lists into a single list.\n",
        "\n",
        "  Args:\n",
        "    list1: The first list.\n",
        "    list2: The second list.\n",
        "\n",
        "  Returns:\n",
        "    A new list containing all elements from both input lists.\n",
        "  \"\"\"\n",
        "  merged_list = list1 + list2\n",
        "  return merged_list\n",
        "\n",
        "# Example usage\n",
        "list1 = [1, 2, 3]\n",
        "list2 = [4, 5, 6]\n",
        "merged_list = merge_lists(list1, list2)\n",
        "print(f\"Merged list: {merged_list}\")\n"
      ],
      "metadata": {
        "colab": {
          "base_uri": "https://localhost:8080/"
        },
        "id": "gzp5EOqtdz1V",
        "outputId": "38f88f5e-3563-4d41-d41d-376e831e825c"
      },
      "execution_count": 74,
      "outputs": [
        {
          "output_type": "stream",
          "name": "stdout",
          "text": [
            "Merged list: [1, 2, 3, 4, 5, 6]\n"
          ]
        }
      ]
    },
    {
      "cell_type": "code",
      "source": [
        "# 24. Multiply all elements in a list by 2.\n",
        "\n",
        "def multiply_list_elements_by_two(lst):\n",
        "  \"\"\"\n",
        "  Multiplies all elements in a list by 2.\n",
        "\n",
        "  Args:\n",
        "    lst: The input list.\n",
        "\n",
        "  Returns:\n",
        "    A new list with all elements multiplied by 2.\n",
        "  \"\"\"\n",
        "  new_list = [num * 2 for num in lst]\n",
        "  return new_list\n",
        "\n",
        "# Example usage\n",
        "my_list = [1, 2, 3, 4, 5]\n",
        "multiplied_list = multiply_list_elements_by_two(my_list)\n",
        "print(multiplied_list)  # Output: [2, 4, 6, 8, 10]\n"
      ],
      "metadata": {
        "colab": {
          "base_uri": "https://localhost:8080/"
        },
        "id": "vtPoYSWNd0Gb",
        "outputId": "4d164f2b-db8b-4b8a-ecb9-9ee43e635e15"
      },
      "execution_count": 75,
      "outputs": [
        {
          "output_type": "stream",
          "name": "stdout",
          "text": [
            "[2, 4, 6, 8, 10]\n"
          ]
        }
      ]
    },
    {
      "cell_type": "code",
      "source": [
        "# 25. Filter out all even numbers from a list.\n",
        "\n",
        "def filter_even_numbers(lst):\n",
        "  \"\"\"\n",
        "  Filters out all even numbers from a list.\n",
        "\n",
        "  Args:\n",
        "    lst: The input list.\n",
        "\n",
        "  Returns:\n",
        "    A new list containing only the odd numbers.\n",
        "  \"\"\"\n",
        "  odd_numbers = [num for num in lst if num % 2 != 0]\n",
        "  return odd_numbers\n",
        "\n",
        "# Example usage\n",
        "my_list = [1, 2, 3, 4, 5, 6, 7, 8, 9, 10]\n",
        "filtered_list = filter_even_numbers(my_list)\n",
        "print(filtered_list)  # Output: [1, 3, 5, 7, 9]\n"
      ],
      "metadata": {
        "colab": {
          "base_uri": "https://localhost:8080/"
        },
        "id": "X0Le3hDdd0Ne",
        "outputId": "df6a570e-fda0-4600-c71d-4662cbc951e8"
      },
      "execution_count": 76,
      "outputs": [
        {
          "output_type": "stream",
          "name": "stdout",
          "text": [
            "[1, 3, 5, 7, 9]\n"
          ]
        }
      ]
    },
    {
      "cell_type": "code",
      "source": [
        "#  26. Convert a list of strings to a list of integers.\n",
        "\n",
        "def convert_strings_to_integers(str_list):\n",
        "  \"\"\"\n",
        "  Converts a list of strings to a list of integers.\n",
        "\n",
        "  Args:\n",
        "    str_list: The input list of strings.\n",
        "\n",
        "  Returns:\n",
        "    A new list with the strings converted to integers.\n",
        "  \"\"\"\n",
        "  int_list = []\n",
        "  for s in str_list:\n",
        "    try:\n",
        "      int_list.append(int(s))\n",
        "    except ValueError:\n",
        "      print(f\"Could not convert '{s}' to an integer.\")\n",
        "  return int_list\n",
        "\n",
        "# Example usage\n",
        "string_list = [\"1\", \"2\", \"3\", \"4\", \"5\"]\n",
        "integer_list = convert_strings_to_integers(string_list)\n",
        "print(integer_list)  # Output: [1, 2, 3, 4, 5]\n"
      ],
      "metadata": {
        "colab": {
          "base_uri": "https://localhost:8080/"
        },
        "id": "9qeOl38Nd0Tf",
        "outputId": "e089cc9a-d21f-42da-9d37-499ed56f52a0"
      },
      "execution_count": 77,
      "outputs": [
        {
          "output_type": "stream",
          "name": "stdout",
          "text": [
            "[1, 2, 3, 4, 5]\n"
          ]
        }
      ]
    },
    {
      "cell_type": "code",
      "source": [
        "#  27. Convert a list of integers to a list of strings.\n",
        "\n",
        "def int_list_to_str_list(int_list):\n",
        "  \"\"\"\n",
        "  Converts a list of integers to a list of strings.\n",
        "\n",
        "  Args:\n",
        "    int_list: The input list of integers.\n",
        "\n",
        "  Returns:\n",
        "    A new list with integers converted to strings.\n",
        "  \"\"\"\n",
        "  str_list = [str(num) for num in int_list]\n",
        "  return str_list\n",
        "\n",
        "# Example usage\n",
        "my_list = [1, 2, 3, 4, 5]\n",
        "str_list = int_list_to_str_list(my_list)\n",
        "print(str_list)  # Output: ['1', '2', '3', '4', '5']\n"
      ],
      "metadata": {
        "colab": {
          "base_uri": "https://localhost:8080/"
        },
        "id": "T-TiQh6Od0Z2",
        "outputId": "1eedd476-d1c0-42aa-8f03-c25ebcdddeec"
      },
      "execution_count": 78,
      "outputs": [
        {
          "output_type": "stream",
          "name": "stdout",
          "text": [
            "['1', '2', '3', '4', '5']\n"
          ]
        }
      ]
    },
    {
      "cell_type": "code",
      "source": [
        "#  28. Flatten a nested list.\n",
        "\n",
        "def flatten_list(nested_list):\n",
        "  \"\"\"\n",
        "  Flattens a nested list.\n",
        "\n",
        "  Args:\n",
        "    nested_list: The input nested list.\n",
        "\n",
        "  Returns:\n",
        "    A new list with all elements flattened.\n",
        "  \"\"\"\n",
        "  flat_list = []\n",
        "  for item in nested_list:\n",
        "    if isinstance(item, list):\n",
        "      flat_list.extend(flatten_list(item))\n",
        "    else:\n",
        "      flat_list.append(item)\n",
        "  return flat_list\n",
        "\n",
        "# Example usage\n",
        "nested_list = [[1, 2, 3], [4, 5], [6]]\n",
        "flattened_list = flatten_list(nested_list)\n",
        "print(flattened_list)  # Output: [1, 2, 3, 4, 5, 6]\n"
      ],
      "metadata": {
        "colab": {
          "base_uri": "https://localhost:8080/"
        },
        "id": "6bFBGeMRd0gO",
        "outputId": "2b581e8a-48dc-47a7-f14c-407514f39231"
      },
      "execution_count": 79,
      "outputs": [
        {
          "output_type": "stream",
          "name": "stdout",
          "text": [
            "[1, 2, 3, 4, 5, 6]\n"
          ]
        }
      ]
    },
    {
      "cell_type": "code",
      "source": [
        "#  29. Create a list of the first 10 Fibonacci numbers.\n",
        "\n",
        "def fibonacci_sequence(n):\n",
        "  \"\"\"\n",
        "  Generates a list of the first n Fibonacci numbers.\n",
        "\n",
        "  Args:\n",
        "    n: The number of Fibonacci numbers to generate.\n",
        "\n",
        "  Returns:\n",
        "    A list of the first n Fibonacci numbers.\n",
        "  \"\"\"\n",
        "  if n <= 0:\n",
        "    return []\n",
        "  elif n == 1:\n",
        "    return [0]\n",
        "  else:\n",
        "    fib_list = [0, 1]\n",
        "    while len(fib_list) < n:\n",
        "      next_fib = fib_list[-1] + fib_list[-2]\n",
        "      fib_list.append(next_fib)\n",
        "    return fib_list\n",
        "\n",
        "# Generate the first 10 Fibonacci numbers\n",
        "fibonacci_numbers = fibonacci_sequence(10)\n",
        "print(fibonacci_numbers)\n"
      ],
      "metadata": {
        "colab": {
          "base_uri": "https://localhost:8080/"
        },
        "id": "BCuZEjBQd0mX",
        "outputId": "42766f97-dc50-4c2a-b4f6-ed3d75c387d0"
      },
      "execution_count": 80,
      "outputs": [
        {
          "output_type": "stream",
          "name": "stdout",
          "text": [
            "[0, 1, 1, 2, 3, 5, 8, 13, 21, 34]\n"
          ]
        }
      ]
    },
    {
      "cell_type": "code",
      "source": [
        "# 30. Check if a list is sorted.\n",
        "\n",
        "def is_list_sorted(lst):\n",
        "  \"\"\"\n",
        "  Checks if a list is sorted in ascending order.\n",
        "\n",
        "  Args:\n",
        "    lst: The input list.\n",
        "\n",
        "  Returns:\n",
        "    True if the list is sorted, False otherwise.\n",
        "  \"\"\"\n",
        "  for i in range(1, len(lst)):\n",
        "    if lst[i] < lst[i - 1]:\n",
        "      return False\n",
        "  return True\n",
        "\n",
        "# Example usage\n",
        "my_list = [1, 2, 3, 4, 5]\n",
        "if is_list_sorted(my_list):\n",
        "  print(\"The list is sorted.\")\n",
        "else:\n",
        "  print(\"The list is not sorted.\")\n"
      ],
      "metadata": {
        "colab": {
          "base_uri": "https://localhost:8080/"
        },
        "id": "b7kRqCJ-d0sn",
        "outputId": "db854860-0894-40b5-c98a-209ac6ca222f"
      },
      "execution_count": 81,
      "outputs": [
        {
          "output_type": "stream",
          "name": "stdout",
          "text": [
            "The list is sorted.\n"
          ]
        }
      ]
    },
    {
      "cell_type": "code",
      "source": [
        "#  31. Rotate a list to the left by `n` positions.\n",
        "\n",
        "def rotate_list_left(lst, n):\n",
        "  \"\"\"\n",
        "  Rotates a list to the left by n positions.\n",
        "\n",
        "  Args:\n",
        "    lst: The input list.\n",
        "    n: The number of positions to rotate.\n",
        "\n",
        "  Returns:\n",
        "    The rotated list.\n",
        "  \"\"\"\n",
        "  n = n % len(lst)  # Handle cases where n is greater than the list length\n",
        "  rotated_list = lst[n:] + lst[:n]\n",
        "  return rotated_list\n"
      ],
      "metadata": {
        "id": "maIC6Acud0yy"
      },
      "execution_count": 82,
      "outputs": []
    },
    {
      "cell_type": "code",
      "source": [
        "#  32. Rotate a list to the right by `n` positions.\n",
        "\n",
        "def rotate_list_right(lst, n):\n",
        "  \"\"\"\n",
        "  Rotates a list to the right by n positions.\n",
        "\n",
        "  Args:\n",
        "    lst: The input list.\n",
        "    n: The number of positions to rotate.\n",
        "\n",
        "  Returns:\n",
        "    The rotated list.\n",
        "  \"\"\"\n",
        "  n = n % len(lst)  # Handle cases where n is greater than the list length\n",
        "  rotated_list = lst[-n:] + lst[:-n]\n",
        "  return rotated_list\n",
        "\n",
        "# Example usage\n",
        "my_list = [1, 2, 3, 4, 5]\n",
        "n = 2\n",
        "rotated_list = rotate_list_right(my_list, n)\n",
        "print(rotated_list)  # Output: [4, 5, 1, 2, 3]\n"
      ],
      "metadata": {
        "colab": {
          "base_uri": "https://localhost:8080/"
        },
        "id": "r6oyOrGVd05O",
        "outputId": "2e4df2dc-6988-4223-c808-6e9718bbb7d9"
      },
      "execution_count": 83,
      "outputs": [
        {
          "output_type": "stream",
          "name": "stdout",
          "text": [
            "[4, 5, 1, 2, 3]\n"
          ]
        }
      ]
    },
    {
      "cell_type": "code",
      "source": [
        "#  33. Create a list of prime numbers up to 50.\n",
        "\n",
        "def is_prime(n):\n",
        "  \"\"\"\n",
        "  Checks if a number is prime.\n",
        "\n",
        "  Args:\n",
        "    n: The number to check.\n",
        "\n",
        "  Returns:\n",
        "    True if the number is prime, False otherwise.\n",
        "  \"\"\"\n",
        "  if n <= 1:\n",
        "    return False\n",
        "  if n <= 3:\n",
        "    return True\n",
        "  if n % 2 == 0 or n % 3 == 0:\n",
        "    return False\n",
        "  i = 5\n",
        "  while i * i <= n:\n",
        "    if n % i == 0 or n % (i + 2) == 0:\n",
        "      return False\n",
        "    i += 6\n",
        "  return True\n",
        "\n",
        "prime_numbers = [num for num in range(2, 51) if is_prime(num)]\n",
        "print(prime_numbers)\n"
      ],
      "metadata": {
        "colab": {
          "base_uri": "https://localhost:8080/"
        },
        "id": "k9HJiEjBd0-j",
        "outputId": "30529613-2afe-4a71-8c52-e232053ce157"
      },
      "execution_count": 84,
      "outputs": [
        {
          "output_type": "stream",
          "name": "stdout",
          "text": [
            "[2, 3, 5, 7, 11, 13, 17, 19, 23, 29, 31, 37, 41, 43, 47]\n"
          ]
        }
      ]
    },
    {
      "cell_type": "code",
      "source": [
        "#  34. Split a list into chunks of size `n`.\n",
        "\n",
        "def split_list_into_chunks(lst, n):\n",
        "  \"\"\"\n",
        "  Splits a list into chunks of size n.\n",
        "\n",
        "  Args:\n",
        "    lst: The input list.\n",
        "    n: The size of each chunk.\n",
        "\n",
        "  Returns:\n",
        "    A list of chunks.\n",
        "  \"\"\"\n",
        "  chunks = []\n",
        "  for i in range(0, len(lst), n):\n",
        "    chunks.append(lst[i:i + n])\n",
        "  return chunks\n",
        "\n",
        "# Example usage\n",
        "my_list = [1, 2, 3, 4, 5, 6, 7, 8, 9, 10]\n",
        "chunk_size = 3\n",
        "chunks = split_list_into_chunks(my_list, chunk_size)\n",
        "print(chunks)  # Output: [[1, 2, 3], [4, 5, 6], [7, 8, 9], [10]]\n"
      ],
      "metadata": {
        "colab": {
          "base_uri": "https://localhost:8080/"
        },
        "id": "Up7HoXpzd1En",
        "outputId": "bc5d4825-e935-45f0-d362-99bcb215c9ca"
      },
      "execution_count": 85,
      "outputs": [
        {
          "output_type": "stream",
          "name": "stdout",
          "text": [
            "[[1, 2, 3], [4, 5, 6], [7, 8, 9], [10]]\n"
          ]
        }
      ]
    },
    {
      "cell_type": "code",
      "source": [
        "#  35. Find the second largest number in a list.\n",
        "\n",
        "def find_second_largest(lst):\n",
        "  \"\"\"\n",
        "  Finds the second largest number in a list.\n",
        "\n",
        "  Args:\n",
        "    lst: The input list.\n",
        "\n",
        "  Returns:\n",
        "    The second largest number in the list, or None if the list has less than two elements.\n",
        "  \"\"\"\n",
        "  if len(lst) < 2:\n",
        "    return None\n",
        "\n",
        "  largest = max(lst[0], lst[1])\n",
        "  second_largest = min(lst[0], lst[1])\n",
        "\n",
        "  for i in range(2, len(lst)):\n",
        "    if lst[i] > largest:\n",
        "      second_largest = largest\n",
        "      largest = lst[i]\n",
        "    elif lst[i] > second_largest and lst[i] != largest:\n",
        "      second_largest = lst[i]\n",
        "  return second_largest\n"
      ],
      "metadata": {
        "id": "M-NmidsNd1KL"
      },
      "execution_count": 86,
      "outputs": []
    },
    {
      "cell_type": "code",
      "source": [
        "# 36. Replace every element in a list with its square.\n",
        "\n",
        "def square_list_elements(lst):\n",
        "  \"\"\"\n",
        "  Replaces every element in a list with its square.\n",
        "\n",
        "  Args:\n",
        "    lst: The input list.\n",
        "\n",
        "  Returns:\n",
        "    A new list with each element squared.\n",
        "  \"\"\"\n",
        "  squared_list = [num ** 2 for num in lst]\n",
        "  return squared_list\n",
        "\n",
        "# Example usage\n",
        "my_list = [1, 2, 3, 4, 5]\n",
        "squared_list = square_list_elements(my_list)\n",
        "print(squared_list)  # Output: [1, 4, 9, 16, 25]\n"
      ],
      "metadata": {
        "colab": {
          "base_uri": "https://localhost:8080/"
        },
        "id": "IJh8J9Tgd1QB",
        "outputId": "d07fa5ef-a72a-4f01-9abe-546d35febd4b"
      },
      "execution_count": 87,
      "outputs": [
        {
          "output_type": "stream",
          "name": "stdout",
          "text": [
            "[1, 4, 9, 16, 25]\n"
          ]
        }
      ]
    },
    {
      "cell_type": "code",
      "source": [
        "# 37. Convert a list to a dictionary where list elements become keys and their\n",
        "# indices become values.\n",
        "\n",
        "def list_to_dict(lst):\n",
        "  \"\"\"\n",
        "  Converts a list to a dictionary where list elements become keys and their\n",
        "  indices become values.\n",
        "\n",
        "  Args:\n",
        "    lst: The input list.\n",
        "\n",
        "  Returns:\n",
        "    A dictionary with list elements as keys and their indices as values.\n",
        "  \"\"\"\n",
        "  result_dict = {}\n",
        "  for index, element in enumerate(lst):\n",
        "    result_dict[element] = index\n",
        "  return result_dict\n",
        "\n",
        "# Example usage\n",
        "my_list = [\"apple\", \"banana\", \"cherry\"]\n",
        "result = list_to_dict(my_list)\n",
        "print(result)  # Output: {'apple': 0, 'banana': 1, 'cherry': 2}\n"
      ],
      "metadata": {
        "colab": {
          "base_uri": "https://localhost:8080/"
        },
        "id": "COzEY9hgd1V4",
        "outputId": "7a7b0e32-28ef-4301-8367-ff276371f455"
      },
      "execution_count": 88,
      "outputs": [
        {
          "output_type": "stream",
          "name": "stdout",
          "text": [
            "{'apple': 0, 'banana': 1, 'cherry': 2}\n"
          ]
        }
      ]
    },
    {
      "cell_type": "code",
      "source": [
        "#  38. Shuffle the elements of a list randomly.\n",
        "\n",
        "import random\n",
        "\n",
        "def shuffle_list(lst):\n",
        "  \"\"\"\n",
        "  Shuffles the elements of a list randomly.\n",
        "\n",
        "  Args:\n",
        "    lst: The input list.\n",
        "\n",
        "  Returns:\n",
        "    The shuffled list.\n",
        "  \"\"\"\n",
        "  random.shuffle(lst)\n",
        "  return lst\n",
        "\n",
        "# Example usage\n",
        "my_list = [1, 2, 3, 4, 5]\n",
        "shuffled_list = shuffle_list(my_list)\n",
        "print(shuffled_list)\n"
      ],
      "metadata": {
        "colab": {
          "base_uri": "https://localhost:8080/"
        },
        "id": "1Y6Q9qIXd1bu",
        "outputId": "e505a528-6bff-4e4d-a76a-b90ea45856fe"
      },
      "execution_count": 89,
      "outputs": [
        {
          "output_type": "stream",
          "name": "stdout",
          "text": [
            "[1, 3, 4, 2, 5]\n"
          ]
        }
      ]
    },
    {
      "cell_type": "code",
      "source": [
        "#  39. Create a list of the first 10 factorial numbers.\n",
        "\n",
        "def factorial(n):\n",
        "  \"\"\"\n",
        "  Calculates the factorial of a number.\n",
        "\n",
        "  Args:\n",
        "    n: The number to calculate the factorial of.\n",
        "\n",
        "  Returns:\n",
        "    The factorial of the number.\n",
        "  \"\"\"\n",
        "  if n == 0:\n",
        "    return 1\n",
        "  else:\n",
        "    result = 1\n",
        "    for i in range(1, n + 1):\n",
        "      result *= i\n",
        "    return result\n",
        "\n",
        "# Create a list of the first 10 factorial numbers\n",
        "factorial_numbers = [factorial(i) for i in range(1, 11)]\n",
        "print(factorial_numbers)\n"
      ],
      "metadata": {
        "colab": {
          "base_uri": "https://localhost:8080/"
        },
        "id": "qMdfi-mnd1h2",
        "outputId": "65519e7a-e0e0-416c-dfc0-d053033ebd3b"
      },
      "execution_count": 90,
      "outputs": [
        {
          "output_type": "stream",
          "name": "stdout",
          "text": [
            "[1, 2, 6, 24, 120, 720, 5040, 40320, 362880, 3628800]\n"
          ]
        }
      ]
    },
    {
      "cell_type": "code",
      "source": [
        "#  40. Check if two lists have at least one element in common.\n",
        "\n",
        "def have_common_elements(list1, list2):\n",
        "  \"\"\"\n",
        "  Checks if two lists have at least one element in common.\n",
        "\n",
        "  Args:\n",
        "    list1: The first list.\n",
        "    list2: The second list.\n",
        "\n",
        "  Returns:\n",
        "    True if the lists have a common element, False otherwise.\n",
        "  \"\"\"\n",
        "  for element in list1:\n",
        "    if element in list2:\n",
        "      return True\n",
        "  return False\n",
        "\n"
      ],
      "metadata": {
        "id": "ixRHO-S-d1nT"
      },
      "execution_count": 91,
      "outputs": []
    },
    {
      "cell_type": "code",
      "source": [
        "#  41. Remove all elements from a list.\n",
        "\n",
        "def clear_list(lst):\n",
        "  \"\"\"\n",
        "  Removes all elements from a list.\n",
        "\n",
        "  Args:\n",
        "    lst: The input list.\n",
        "\n",
        "  Returns:\n",
        "    An empty list.\n",
        "  \"\"\"\n",
        "  lst.clear()\n",
        "  return lst\n",
        "\n",
        "# Example usage\n",
        "my_list = [1, 2, 3, 4, 5]\n",
        "cleared_list = clear_list(my_list)\n",
        "print(cleared_list)  # Output: []\n"
      ],
      "metadata": {
        "colab": {
          "base_uri": "https://localhost:8080/"
        },
        "id": "p39X4amsd1tS",
        "outputId": "4b94eb85-9409-4cca-d56d-192d6bd16914"
      },
      "execution_count": 92,
      "outputs": [
        {
          "output_type": "stream",
          "name": "stdout",
          "text": [
            "[]\n"
          ]
        }
      ]
    },
    {
      "cell_type": "code",
      "source": [
        "#  42. Replace negative numbers in a list with 0.\n",
        "\n",
        "def replace_negative_with_zero(lst):\n",
        "  \"\"\"\n",
        "  Replaces negative numbers in a list with 0.\n",
        "\n",
        "  Args:\n",
        "    lst: The input list.\n",
        "\n",
        "  Returns:\n",
        "    A new list with negative numbers replaced by 0.\n",
        "  \"\"\"\n",
        "  new_list = [num if num >= 0 else 0 for num in lst]\n",
        "  return new_list\n",
        "\n",
        "# Example usage\n",
        "my_list = [1, -2, 3, -4, 5]\n",
        "result_list = replace_negative_with_zero(my_list)\n",
        "print(result_list)  # Output: [1, 0, 3, 0, 5]\n"
      ],
      "metadata": {
        "colab": {
          "base_uri": "https://localhost:8080/"
        },
        "id": "iKdyb2b3d10G",
        "outputId": "e7bbc5fd-845a-42d4-81f2-c1f4c680ddd7"
      },
      "execution_count": 93,
      "outputs": [
        {
          "output_type": "stream",
          "name": "stdout",
          "text": [
            "[1, 0, 3, 0, 5]\n"
          ]
        }
      ]
    },
    {
      "cell_type": "code",
      "source": [
        "#  43. Convert a string into a list of words.\n",
        "\n",
        "def string_to_word_list(text):\n",
        "  \"\"\"\n",
        "  Converts a string into a list of words.\n",
        "\n",
        "  Args:\n",
        "    text: The input string.\n",
        "\n",
        "  Returns:\n",
        "    A list of words from the string.\n",
        "  \"\"\"\n",
        "  words = text.split()\n",
        "  return words\n",
        "\n",
        "# Example usage\n",
        "text = \"This is a sample string.\"\n",
        "word_list = string_to_word_list(text)\n",
        "print(word_list)  # Output: ['This', 'is', 'a', 'sample', 'string.']\n"
      ],
      "metadata": {
        "colab": {
          "base_uri": "https://localhost:8080/"
        },
        "id": "4l_OfHrrd16F",
        "outputId": "f36169a5-158b-4e50-e548-353af761eef1"
      },
      "execution_count": 94,
      "outputs": [
        {
          "output_type": "stream",
          "name": "stdout",
          "text": [
            "['This', 'is', 'a', 'sample', 'string.']\n"
          ]
        }
      ]
    },
    {
      "cell_type": "code",
      "source": [
        "#  44. Convert a list of words into a string.\n",
        "\n",
        "def word_list_to_string(word_list):\n",
        "  \"\"\"\n",
        "  Converts a list of words into a string.\n",
        "\n",
        "  Args:\n",
        "    word_list: The input list of words.\n",
        "\n",
        "  Returns:\n",
        "    A string containing the words from the list.\n",
        "  \"\"\"\n",
        "  text = \" \".join(word_list)\n",
        "  return text\n",
        "\n",
        "# Example usage\n",
        "word_list = [\"This\", \"is\", \"a\", \"sample\", \"string.\"]\n",
        "text = word_list_to_string(word_list)\n",
        "print(text)  # Output: This is a sample string.\n"
      ],
      "metadata": {
        "colab": {
          "base_uri": "https://localhost:8080/"
        },
        "id": "Avt1JqIed2Aj",
        "outputId": "c5e5a344-c7b9-43e9-bd47-1fdc21bdce59"
      },
      "execution_count": 95,
      "outputs": [
        {
          "output_type": "stream",
          "name": "stdout",
          "text": [
            "This is a sample string.\n"
          ]
        }
      ]
    },
    {
      "cell_type": "code",
      "source": [
        "# 45. Create a list of the first `n` powers of 2.\n",
        "\n",
        "def powers_of_two(n):\n",
        "  \"\"\"\n",
        "  Creates a list of the first n powers of 2.\n",
        "\n",
        "  Args:\n",
        "    n: The number of powers of 2 to generate.\n",
        "\n",
        "  Returns:\n",
        "    A list of the first n powers of 2.\n",
        "  \"\"\"\n",
        "  powers = []\n",
        "  for i in range(n):\n",
        "    powers.append(2 ** i)\n",
        "  return powers\n",
        "\n",
        "# Example usage\n",
        "n = 5\n",
        "powers_of_two_list = powers_of_two(n)\n",
        "print(powers_of_two_list)  # Output: [1, 2, 4, 8, 16]\n"
      ],
      "metadata": {
        "colab": {
          "base_uri": "https://localhost:8080/"
        },
        "id": "iV9VTtmsd2GK",
        "outputId": "fab226aa-4d9f-425d-f3dc-392492f6d40e"
      },
      "execution_count": 96,
      "outputs": [
        {
          "output_type": "stream",
          "name": "stdout",
          "text": [
            "[1, 2, 4, 8, 16]\n"
          ]
        }
      ]
    },
    {
      "cell_type": "code",
      "source": [
        "#  46. Find the longest string in a list of strings.\n",
        "\n",
        "def find_longest_string(str_list):\n",
        "  \"\"\"\n",
        "  Finds the longest string in a list of strings.\n",
        "\n",
        "  Args:\n",
        "    str_list: The input list of strings.\n",
        "\n",
        "  Returns:\n",
        "    The longest string in the list.\n",
        "  \"\"\"\n",
        "  if not str_list:\n",
        "    return None\n",
        "  longest_string = str_list[0]\n",
        "  for string in str_list:\n",
        "    if len(string) > len(longest_string):\n",
        "      longest_string = string\n",
        "  return longest_string\n"
      ],
      "metadata": {
        "id": "fkYr5GkXd2MA"
      },
      "execution_count": 97,
      "outputs": []
    },
    {
      "cell_type": "code",
      "source": [
        "#  47. Find the shortest string in a list of strings.\n",
        "\n",
        "def find_shortest_string(str_list):\n",
        "  \"\"\"\n",
        "  Finds the shortest string in a list of strings.\n",
        "\n",
        "  Args:\n",
        "    str_list: The input list of strings.\n",
        "\n",
        "  Returns:\n",
        "    The shortest string in the list.\n",
        "  \"\"\"\n",
        "  if not str_list:\n",
        "    return None\n",
        "  shortest_string = str_list[0]\n",
        "  for string in str_list:\n",
        "    if len(string) < len(shortest_string):\n",
        "      shortest_string = string\n",
        "  return shortest_string\n"
      ],
      "metadata": {
        "id": "x0LiIXrId2TP"
      },
      "execution_count": 98,
      "outputs": []
    },
    {
      "cell_type": "code",
      "source": [
        "#  48. Create a list of the first `n` triangular numbers.\n",
        "\n",
        "def triangular_numbers(n):\n",
        "  \"\"\"\n",
        "  Creates a list of the first n triangular numbers.\n",
        "\n",
        "  Args:\n",
        "    n: The number of triangular numbers to generate.\n",
        "\n",
        "  Returns:\n",
        "    A list of the first n triangular numbers.\n",
        "  \"\"\"\n",
        "  triangular_nums = []\n",
        "  for i in range(1, n + 1):\n",
        "    triangular_nums.append(i * (i + 1) // 2)\n",
        "  return triangular_nums\n",
        "\n",
        "# Example usage\n",
        "n = 10\n",
        "triangular_list = triangular_numbers(n)\n",
        "print(triangular_list)  # Output: [1, 3, 6, 10, 15, 21, 28, 36, 45, 55]\n"
      ],
      "metadata": {
        "colab": {
          "base_uri": "https://localhost:8080/"
        },
        "id": "z4RZeZhcd2Yg",
        "outputId": "7ef233aa-256b-4b26-ac1e-995d5cec45ca"
      },
      "execution_count": 99,
      "outputs": [
        {
          "output_type": "stream",
          "name": "stdout",
          "text": [
            "[1, 3, 6, 10, 15, 21, 28, 36, 45, 55]\n"
          ]
        }
      ]
    },
    {
      "cell_type": "code",
      "source": [
        "#  49. Check if a list contains another list as a subsequence.\n",
        "\n",
        "def contains_subsequence(main_list, sub_list):\n",
        "  \"\"\"\n",
        "  Checks if a list contains another list as a subsequence.\n",
        "\n",
        "  Args:\n",
        "    main_list: The main list.\n",
        "    sub_list: The potential subsequence.\n",
        "\n",
        "  Returns:\n",
        "    True if the main list contains the sub_list as a subsequence, False otherwise.\n",
        "  \"\"\"\n",
        "  i = 0\n",
        "  j = 0\n",
        "  while i < len(main_list) and j < len(sub_list):\n",
        "    if main_list[i] == sub_list[j]:\n",
        "      j += 1\n",
        "    i += 1\n",
        "  return j == len(sub_list)\n",
        "\n",
        "# Example usage\n",
        "main_list = [1, 2, 3, 4, 5, 6]\n",
        "sub_list = [2, 4, 6]\n",
        "if contains_subsequence(main_list, sub_list):\n",
        "  print(\"The main list contains the sub_list as a subsequence.\")\n",
        "else:\n",
        "  print(\"The main list does not contain the sub_list as a subsequence.\")\n"
      ],
      "metadata": {
        "colab": {
          "base_uri": "https://localhost:8080/"
        },
        "id": "0kmdYIP9d2eh",
        "outputId": "3d6e8023-659a-4a05-ca82-d225582eac69"
      },
      "execution_count": 100,
      "outputs": [
        {
          "output_type": "stream",
          "name": "stdout",
          "text": [
            "The main list contains the sub_list as a subsequence.\n"
          ]
        }
      ]
    },
    {
      "cell_type": "code",
      "source": [
        "# 50. Swap two elements in a list by their indices.\n",
        "\n",
        "def swap_elements_by_index(lst, index1, index2):\n",
        "  \"\"\"\n",
        "  Swaps two elements in a list by their indices.\n",
        "\n",
        "  Args:\n",
        "    lst: The input list.\n",
        "    index1: The index of the first element.\n",
        "    index2: The index of the second element.\n",
        "\n",
        "  Returns:\n",
        "    The list with the elements swapped.\n",
        "  \"\"\"\n",
        "  if index1 < 0 or index1 >= len(lst) or index2 < 0 or index2 >= len(lst):\n",
        "    return \"Invalid indices\"\n",
        "  lst[index1], lst[index2] = lst[index2], lst[index1]\n",
        "  return lst\n",
        "\n",
        "# Example usage\n",
        "my_list = [1, 2, 3, 4, 5]\n",
        "index1 = 1\n",
        "index2 = 3\n",
        "swapped_list = swap_elements_by_index(my_list, index1, index2)\n",
        "print(swapped_list)  # Output: [1, 4, 3, 2, 5]\n"
      ],
      "metadata": {
        "colab": {
          "base_uri": "https://localhost:8080/"
        },
        "id": "vLmyVaKwd2kf",
        "outputId": "e01190c3-4a07-456e-e97b-14885ea46632"
      },
      "execution_count": 101,
      "outputs": [
        {
          "output_type": "stream",
          "name": "stdout",
          "text": [
            "[1, 4, 3, 2, 5]\n"
          ]
        }
      ]
    },
    {
      "cell_type": "markdown",
      "source": [
        "**Tuple Based Practice Problem :**"
      ],
      "metadata": {
        "id": "fCleufgStwgL"
      }
    },
    {
      "cell_type": "code",
      "source": [
        "#  1. Create a tuple with integers from 1 to 5.\n",
        "\n",
        "# 1. Create a tuple with integers from 1 to 5.\n",
        "my_tuple = (1, 2, 3, 4, 5)\n",
        "print(my_tuple)\n"
      ],
      "metadata": {
        "colab": {
          "base_uri": "https://localhost:8080/"
        },
        "id": "4Xqrcm_Bt0g_",
        "outputId": "7e0a9838-cbb0-4e8e-e49e-87669e024314"
      },
      "execution_count": 154,
      "outputs": [
        {
          "output_type": "stream",
          "name": "stdout",
          "text": [
            "(1, 2, 3, 4, 5)\n"
          ]
        }
      ]
    },
    {
      "cell_type": "code",
      "source": [
        "#  2. Access the third element of a tuple.\n",
        "\n",
        "# Access the third element of a tuple.\n",
        "third_element = my_tuple[2]\n",
        "print(third_element)\n"
      ],
      "metadata": {
        "colab": {
          "base_uri": "https://localhost:8080/"
        },
        "id": "vge9s59Ot1CJ",
        "outputId": "f5db2aaa-0c79-482d-aa77-369df31604d2"
      },
      "execution_count": 155,
      "outputs": [
        {
          "output_type": "stream",
          "name": "stdout",
          "text": [
            "3\n"
          ]
        }
      ]
    },
    {
      "cell_type": "code",
      "source": [
        "#  3. Find the length of a tuple without using the `len()` function.\n",
        "\n",
        "def find_tuple_length(my_tuple):\n",
        "  \"\"\"\n",
        "  Finds the length of a tuple without using the `len()` function.\n",
        "\n",
        "  Args:\n",
        "    my_tuple: The input tuple.\n",
        "\n",
        "  Returns:\n",
        "    The length of the tuple.\n",
        "  \"\"\"\n",
        "  count = 0\n",
        "  for _ in my_tuple:\n",
        "    count += 1\n",
        "  return count\n"
      ],
      "metadata": {
        "id": "k-zqJHSdt1HU"
      },
      "execution_count": 156,
      "outputs": []
    },
    {
      "cell_type": "code",
      "source": [
        "#  4. Count the occurrences of an element in a tuple.\n",
        "\n",
        "def count_occurrences(my_tuple, element):\n",
        "  \"\"\"\n",
        "  Counts the occurrences of an element in a tuple.\n",
        "\n",
        "  Args:\n",
        "    my_tuple: The input tuple.\n",
        "    element: The element to count.\n",
        "\n",
        "  Returns:\n",
        "    The number of occurrences of the element in the tuple.\n",
        "  \"\"\"\n",
        "  count = 0\n",
        "  for item in my_tuple:\n",
        "    if item == element:\n",
        "      count += 1\n",
        "  return count\n",
        "\n",
        "# Example usage\n",
        "my_tuple = (1, 2, 2, 3, 4, 2, 5)\n",
        "element = 2\n",
        "occurrences = count_occurrences(my_tuple, element)\n",
        "print(f\"The element {element} appears {occurrences} times in the tuple.\")\n"
      ],
      "metadata": {
        "colab": {
          "base_uri": "https://localhost:8080/"
        },
        "id": "5Yxx2M43t1LP",
        "outputId": "c3937126-6588-4543-ef15-0103a1816ef1"
      },
      "execution_count": 157,
      "outputs": [
        {
          "output_type": "stream",
          "name": "stdout",
          "text": [
            "The element 2 appears 3 times in the tuple.\n"
          ]
        }
      ]
    },
    {
      "cell_type": "code",
      "source": [
        "#  5. Find the index of the first occurrence of an element in a tuple.\n",
        "\n",
        "def find_first_occurrence_index(my_tuple, element):\n",
        "  \"\"\"\n",
        "  Finds the index of the first occurrence of an element in a tuple.\n",
        "\n",
        "  Args:\n",
        "    my_tuple: The input tuple.\n",
        "    element: The element to find.\n",
        "\n",
        "  Returns:\n",
        "    The index of the first occurrence of the element, or -1 if not found.\n",
        "  \"\"\"\n",
        "  try:\n",
        "    index = my_tuple.index(element)\n",
        "    return index\n",
        "  except ValueError:\n",
        "    return -1\n",
        "\n",
        "# Example usage\n",
        "my_tuple = (1, 2, 3, 4, 5, 2)\n",
        "element = 2\n",
        "index = find_first_occurrence_index(my_tuple, element)\n",
        "print(f\"The index of the first occurrence of {element} is {index}\")\n"
      ],
      "metadata": {
        "colab": {
          "base_uri": "https://localhost:8080/"
        },
        "id": "R75ORZVft1Pr",
        "outputId": "c4b33ff4-f13b-4273-ef27-343d82abc0df"
      },
      "execution_count": 158,
      "outputs": [
        {
          "output_type": "stream",
          "name": "stdout",
          "text": [
            "The index of the first occurrence of 2 is 1\n"
          ]
        }
      ]
    },
    {
      "cell_type": "code",
      "source": [
        "# 6. Check if an element exists in a tuple.\n",
        "\n",
        "def element_exists_in_tuple(my_tuple, element):\n",
        "  \"\"\"\n",
        "  Checks if an element exists in a tuple.\n",
        "\n",
        "  Args:\n",
        "    my_tuple: The input tuple.\n",
        "    element: The element to check for.\n",
        "\n",
        "  Returns:\n",
        "    True if the element exists in the tuple, False otherwise.\n",
        "  \"\"\"\n",
        "  if element in my_tuple:\n",
        "    return True\n",
        "  else:\n",
        "    return False\n",
        "\n",
        "# Example usage\n",
        "my_tuple = (1, 2, 3, 4, 5)\n",
        "element = 3\n",
        "if element_exists_in_tuple(my_tuple, element):\n",
        "  print(f\"{element} exists in the tuple.\")\n",
        "else:\n",
        "  print(f\"{element} does not exist in the tuple.\")\n"
      ],
      "metadata": {
        "colab": {
          "base_uri": "https://localhost:8080/"
        },
        "id": "PD1ooONPt1UF",
        "outputId": "23d8bdc4-638c-49d7-d994-e4f0a45b41ef"
      },
      "execution_count": 159,
      "outputs": [
        {
          "output_type": "stream",
          "name": "stdout",
          "text": [
            "3 exists in the tuple.\n"
          ]
        }
      ]
    },
    {
      "cell_type": "code",
      "source": [
        "#  7. Convert a tuple to a list.\n",
        "\n",
        "def tuple_to_list(my_tuple):\n",
        "  \"\"\"\n",
        "  Converts a tuple to a list.\n",
        "\n",
        "  Args:\n",
        "    my_tuple: The input tuple.\n",
        "\n",
        "  Returns:\n",
        "    A list containing the elements of the tuple.\n",
        "  \"\"\"\n",
        "  my_list = list(my_tuple)\n",
        "  return my_list\n",
        "\n",
        "# Example usage\n",
        "my_tuple = (1, 2, 3, 4, 5)\n",
        "my_list = tuple_to_list(my_tuple)\n",
        "print(my_list)  # Output: [1, 2, 3, 4, 5]\n"
      ],
      "metadata": {
        "colab": {
          "base_uri": "https://localhost:8080/"
        },
        "id": "RbEGueCOt1YA",
        "outputId": "9f02ed32-03a9-41ee-ca0c-7cedf108f358"
      },
      "execution_count": 160,
      "outputs": [
        {
          "output_type": "stream",
          "name": "stdout",
          "text": [
            "[1, 2, 3, 4, 5]\n"
          ]
        }
      ]
    },
    {
      "cell_type": "code",
      "source": [
        "#  8. Convert a list to a tuple.\n",
        "\n",
        "def list_to_tuple(my_list):\n",
        "  \"\"\"\n",
        "  Converts a list to a tuple.\n",
        "\n",
        "  Args:\n",
        "    my_list: The input list.\n",
        "\n",
        "  Returns:\n",
        "    A tuple containing the elements of the list.\n",
        "  \"\"\"\n",
        "  my_tuple = tuple(my_list)\n",
        "  return my_tuple\n",
        "\n",
        "# Example usage\n",
        "my_list = [1, 2, 3, 4, 5]\n",
        "my_tuple = list_to_tuple(my_list)\n",
        "print(my_tuple)  # Output: (1, 2, 3, 4, 5)\n"
      ],
      "metadata": {
        "colab": {
          "base_uri": "https://localhost:8080/"
        },
        "id": "IRB-TDdnt1b4",
        "outputId": "924bc166-16b7-45aa-bd10-73c1a36e6f5c"
      },
      "execution_count": 161,
      "outputs": [
        {
          "output_type": "stream",
          "name": "stdout",
          "text": [
            "(1, 2, 3, 4, 5)\n"
          ]
        }
      ]
    },
    {
      "cell_type": "code",
      "source": [
        "#  9. Unpack the elements of a tuple into variables.\n",
        "\n",
        "my_tuple = (10, 20, 30)\n",
        "a, b, c = my_tuple\n",
        "print(a)  # Output: 10\n",
        "print(b)  # Output: 20\n",
        "print(c)  # Output: 30\n"
      ],
      "metadata": {
        "colab": {
          "base_uri": "https://localhost:8080/"
        },
        "id": "tghTHTC7t1fL",
        "outputId": "5efe0cfd-3e92-4763-93d5-822947655f34"
      },
      "execution_count": 162,
      "outputs": [
        {
          "output_type": "stream",
          "name": "stdout",
          "text": [
            "10\n",
            "20\n",
            "30\n"
          ]
        }
      ]
    },
    {
      "cell_type": "code",
      "source": [
        "#  10. Create a tuple of even numbers from 1 to 10.\n",
        "\n",
        "even_numbers = tuple(num for num in range(2, 11, 2))\n",
        "print(even_numbers)\n"
      ],
      "metadata": {
        "colab": {
          "base_uri": "https://localhost:8080/"
        },
        "id": "d_mJioaXt1jF",
        "outputId": "707f1abb-7ef4-42f1-c6e2-fbc93140a593"
      },
      "execution_count": 163,
      "outputs": [
        {
          "output_type": "stream",
          "name": "stdout",
          "text": [
            "(2, 4, 6, 8, 10)\n"
          ]
        }
      ]
    },
    {
      "cell_type": "code",
      "source": [
        "#  11. Create a tuple of odd numbers from 1 to 10.\n",
        "\n",
        "odd_numbers = tuple(num for num in range(1, 11, 2))\n",
        "print(odd_numbers)\n"
      ],
      "metadata": {
        "colab": {
          "base_uri": "https://localhost:8080/"
        },
        "id": "vGboslAGt7lS",
        "outputId": "9b5a93e2-b2e4-4a2c-b678-b0f4eca3b8aa"
      },
      "execution_count": 164,
      "outputs": [
        {
          "output_type": "stream",
          "name": "stdout",
          "text": [
            "(1, 3, 5, 7, 9)\n"
          ]
        }
      ]
    },
    {
      "cell_type": "code",
      "source": [
        "#  12. Concatenate two tuples.\n",
        "\n",
        "tuple1 = (1, 2, 3)\n",
        "tuple2 = (4, 5, 6)\n",
        "concatenated_tuple = tuple1 + tuple2\n",
        "print(concatenated_tuple)  # Output: (1, 2, 3, 4, 5, 6)\n"
      ],
      "metadata": {
        "colab": {
          "base_uri": "https://localhost:8080/"
        },
        "id": "oPzHNpt5t7v2",
        "outputId": "5101620c-c7e7-4d5f-9a7b-4e033fadbba3"
      },
      "execution_count": 165,
      "outputs": [
        {
          "output_type": "stream",
          "name": "stdout",
          "text": [
            "(1, 2, 3, 4, 5, 6)\n"
          ]
        }
      ]
    },
    {
      "cell_type": "code",
      "source": [
        "#  13. Repeat a tuple three times.\n",
        "\n",
        "my_tuple = (1, 2, 3)\n",
        "repeated_tuple = my_tuple * 3\n",
        "print(repeated_tuple)  # Output: (1, 2, 3, 1, 2, 3, 1, 2, 3)\n"
      ],
      "metadata": {
        "colab": {
          "base_uri": "https://localhost:8080/"
        },
        "id": "tjArFbsot740",
        "outputId": "b08af084-a6c7-44eb-e381-3eeec104204d"
      },
      "execution_count": 166,
      "outputs": [
        {
          "output_type": "stream",
          "name": "stdout",
          "text": [
            "(1, 2, 3, 1, 2, 3, 1, 2, 3)\n"
          ]
        }
      ]
    },
    {
      "cell_type": "code",
      "source": [
        "#  14. Check if a tuple is empty.\n",
        "\n",
        "def is_tuple_empty(my_tuple):\n",
        "  \"\"\"\n",
        "  Checks if a tuple is empty.\n",
        "\n",
        "  Args:\n",
        "    my_tuple: The input tuple.\n",
        "\n",
        "  Returns:\n",
        "    True if the tuple is empty, False otherwise.\n",
        "  \"\"\"\n",
        "  if not my_tuple:\n",
        "    return True\n",
        "  else:\n",
        "    return False\n",
        "\n",
        "# Example usage\n",
        "empty_tuple = ()\n",
        "non_empty_tuple = (1, 2, 3)\n",
        "\n",
        "if is_tuple_empty(empty_tuple):\n",
        "  print(\"The tuple is empty.\")\n",
        "else:\n",
        "  print(\"The tuple is not empty.\")\n",
        "\n",
        "if is_tuple_empty(non_empty_tuple):\n",
        "  print(\"The tuple is empty.\")\n",
        "else:\n",
        "  print(\"The tuple is not empty.\")\n"
      ],
      "metadata": {
        "colab": {
          "base_uri": "https://localhost:8080/"
        },
        "id": "kz27_s7Dt7-P",
        "outputId": "298a47c5-3c3f-4b91-8524-91b2cc2e54b6"
      },
      "execution_count": 167,
      "outputs": [
        {
          "output_type": "stream",
          "name": "stdout",
          "text": [
            "The tuple is empty.\n",
            "The tuple is not empty.\n"
          ]
        }
      ]
    },
    {
      "cell_type": "code",
      "source": [
        "#  15. Create a nested tuple.\n",
        "\n",
        "nested_tuple = ((1, 2, 3), ('a', 'b', 'c'), (True, False))\n",
        "print(nested_tuple)\n"
      ],
      "metadata": {
        "colab": {
          "base_uri": "https://localhost:8080/"
        },
        "id": "TNjkUTXct8DC",
        "outputId": "a1cda6b0-43c3-4048-bcd8-1556122f4a3b"
      },
      "execution_count": 168,
      "outputs": [
        {
          "output_type": "stream",
          "name": "stdout",
          "text": [
            "((1, 2, 3), ('a', 'b', 'c'), (True, False))\n"
          ]
        }
      ]
    },
    {
      "cell_type": "code",
      "source": [
        "#  16. Access the first element of a nested tuple.\n",
        "\n",
        "nested_tuple = ((1, 2, 3), ('a', 'b', 'c'), (True, False))\n",
        "first_element = nested_tuple[0][0]\n",
        "print(first_element)  # Output: 1\n"
      ],
      "metadata": {
        "colab": {
          "base_uri": "https://localhost:8080/"
        },
        "id": "TSoYZP8rt8H5",
        "outputId": "87afd5e4-820a-41cf-8711-9e261d94b2be"
      },
      "execution_count": 169,
      "outputs": [
        {
          "output_type": "stream",
          "name": "stdout",
          "text": [
            "1\n"
          ]
        }
      ]
    },
    {
      "cell_type": "code",
      "source": [
        "#  17. Create a tuple with a single element.\n",
        "\n",
        "single_element_tuple = (1,)\n",
        "print(single_element_tuple)\n"
      ],
      "metadata": {
        "colab": {
          "base_uri": "https://localhost:8080/"
        },
        "id": "HRU9wBCLt8ND",
        "outputId": "257955c8-5b75-4cb4-e639-67bb385ce005"
      },
      "execution_count": 170,
      "outputs": [
        {
          "output_type": "stream",
          "name": "stdout",
          "text": [
            "(1,)\n"
          ]
        }
      ]
    },
    {
      "cell_type": "code",
      "source": [
        "#  18. Compare two tuples.\n",
        "\n",
        "def compare_tuples(tuple1, tuple2):\n",
        "  \"\"\"\n",
        "  Compares two tuples.\n",
        "\n",
        "  Args:\n",
        "    tuple1: The first tuple.\n",
        "    tuple2: The second tuple.\n",
        "\n",
        "  Returns:\n",
        "    -1 if tuple1 is less than tuple2,\n",
        "     0 if tuple1 is equal to tuple2,\n",
        "     1 if tuple1 is greater than tuple2.\n",
        "  \"\"\"\n",
        "  if tuple1 < tuple2:\n",
        "    return -1\n",
        "  elif tuple1 == tuple2:\n",
        "    return 0\n",
        "  else:\n",
        "    return 1\n",
        "\n",
        "# Example usage\n",
        "tuple1 = (1, 2, 3)\n",
        "tuple2 = (4, 5, 6)\n",
        "result = compare_tuples(tuple1, tuple2)\n",
        "print(result)  # Output: -1\n"
      ],
      "metadata": {
        "colab": {
          "base_uri": "https://localhost:8080/"
        },
        "id": "2myAi9MNt8Rs",
        "outputId": "07fa7984-be17-44a9-b02d-fd5aee4a4b12"
      },
      "execution_count": 171,
      "outputs": [
        {
          "output_type": "stream",
          "name": "stdout",
          "text": [
            "-1\n"
          ]
        }
      ]
    },
    {
      "cell_type": "code",
      "source": [
        "# 19. Delete a tuple.\n",
        "\n",
        "my_tuple = (1, 2, 3)\n",
        "del my_tuple\n",
        "# Now my_tuple is no longer defined\n"
      ],
      "metadata": {
        "id": "GGKoK571t8Wn"
      },
      "execution_count": 172,
      "outputs": []
    },
    {
      "cell_type": "code",
      "source": [
        "#  20. Slice a tuple.\n",
        "\n",
        "my_tuple = (1, 2, 3, 4, 5)\n",
        "sliced_tuple = my_tuple[1:4]  # Slice from index 1 to 3\n",
        "print(sliced_tuple)  # Output: (2, 3, 4)\n"
      ],
      "metadata": {
        "colab": {
          "base_uri": "https://localhost:8080/"
        },
        "id": "6p_eATrDt8a_",
        "outputId": "df681335-a6cd-40b2-ddaa-794509ca2689"
      },
      "execution_count": 173,
      "outputs": [
        {
          "output_type": "stream",
          "name": "stdout",
          "text": [
            "(2, 3, 4)\n"
          ]
        }
      ]
    },
    {
      "cell_type": "code",
      "source": [
        "#  21. Find the maximum value in a tuple.\n",
        "\n",
        "def find_max_in_tuple(my_tuple):\n",
        "  \"\"\"\n",
        "  Finds the maximum value in a tuple.\n",
        "\n",
        "  Args:\n",
        "    my_tuple: The input tuple.\n",
        "\n",
        "  Returns:\n",
        "    The maximum value in the tuple.\n",
        "  \"\"\"\n",
        "  if not my_tuple:\n",
        "    return None\n",
        "  max_value = my_tuple[0]\n",
        "  for element in my_tuple:\n",
        "    if element > max_value:\n",
        "      max_value = element\n",
        "  return max_value\n",
        "\n"
      ],
      "metadata": {
        "id": "8MofFCUst8f6"
      },
      "execution_count": 174,
      "outputs": []
    },
    {
      "cell_type": "code",
      "source": [
        "#  22. Find the minimum value in a tuple.\n",
        "\n",
        "def find_min_in_tuple(my_tuple):\n",
        "  \"\"\"\n",
        "  Finds the minimum value in a tuple.\n",
        "\n",
        "  Args:\n",
        "    my_tuple: The input tuple.\n",
        "\n",
        "  Returns:\n",
        "    The minimum value in the tuple.\n",
        "  \"\"\"\n",
        "  if not my_tuple:\n",
        "    return None\n",
        "  min_value = my_tuple[0]\n",
        "  for element in my_tuple:\n",
        "    if element < min_value:\n",
        "      min_value = element\n",
        "  return min_value\n"
      ],
      "metadata": {
        "id": "Ti4OQkbWt8k0"
      },
      "execution_count": 175,
      "outputs": []
    },
    {
      "cell_type": "code",
      "source": [
        "#  23. Convert a string to a tuple of characters.\n",
        "\n",
        "def string_to_tuple(text):\n",
        "  \"\"\"\n",
        "  Converts a string to a tuple of characters.\n",
        "\n",
        "  Args:\n",
        "    text: The input string.\n",
        "\n",
        "  Returns:\n",
        "    A tuple of characters from the string.\n",
        "  \"\"\"\n",
        "  return tuple(text)\n",
        "\n",
        "# Example usage\n",
        "text = \"Hello\"\n",
        "char_tuple = string_to_tuple(text)\n",
        "print(char_tuple)  # Output: ('H', 'e', 'l', 'l', 'o')\n"
      ],
      "metadata": {
        "colab": {
          "base_uri": "https://localhost:8080/"
        },
        "id": "QOCpHtuht8ph",
        "outputId": "37f192e1-ee60-4377-9f5c-81cf1e0f9b17"
      },
      "execution_count": 176,
      "outputs": [
        {
          "output_type": "stream",
          "name": "stdout",
          "text": [
            "('H', 'e', 'l', 'l', 'o')\n"
          ]
        }
      ]
    },
    {
      "cell_type": "code",
      "source": [
        "#  24. Convert a tuple of characters to a string.\n",
        "\n",
        "def tuple_to_string(char_tuple):\n",
        "  \"\"\"\n",
        "  Converts a tuple of characters to a string.\n",
        "\n",
        "  Args:\n",
        "    char_tuple: The input tuple of characters.\n",
        "\n",
        "  Returns:\n",
        "    A string containing the characters from the tuple.\n",
        "  \"\"\"\n",
        "  return \"\".join(char_tuple)\n",
        "\n",
        "# Example usage\n",
        "char_tuple = ('H', 'e', 'l', 'l', 'o')\n",
        "text = tuple_to_string(char_tuple)\n",
        "print(text)  # Output: Hello\n"
      ],
      "metadata": {
        "colab": {
          "base_uri": "https://localhost:8080/"
        },
        "id": "64alGXeht8uC",
        "outputId": "a5f83c2e-6b22-4f6d-bc62-9e3b30f757b9"
      },
      "execution_count": 177,
      "outputs": [
        {
          "output_type": "stream",
          "name": "stdout",
          "text": [
            "Hello\n"
          ]
        }
      ]
    },
    {
      "cell_type": "code",
      "source": [
        "# 25. Create a tuple from multiple data types.\n",
        "\n",
        "my_tuple = (1, \"hello\", 3.14, True)\n",
        "print(my_tuple)\n"
      ],
      "metadata": {
        "colab": {
          "base_uri": "https://localhost:8080/"
        },
        "id": "vBzlgVGnt8y2",
        "outputId": "dac96bdd-035c-4d71-dea5-b892fc83a6ab"
      },
      "execution_count": 178,
      "outputs": [
        {
          "output_type": "stream",
          "name": "stdout",
          "text": [
            "(1, 'hello', 3.14, True)\n"
          ]
        }
      ]
    },
    {
      "cell_type": "code",
      "source": [
        "#  26. Check if two tuples are identical.\n",
        "\n",
        "def are_tuples_identical(tuple1, tuple2):\n",
        "  \"\"\"\n",
        "  Checks if two tuples are identical.\n",
        "\n",
        "  Args:\n",
        "    tuple1: The first tuple.\n",
        "    tuple2: The second tuple.\n",
        "\n",
        "  Returns:\n",
        "    True if the tuples are identical, False otherwise.\n",
        "  \"\"\"\n",
        "  if tuple1 == tuple2:\n",
        "    return True\n",
        "  else:\n",
        "    return False\n"
      ],
      "metadata": {
        "id": "o4q6M8Itt83n"
      },
      "execution_count": 179,
      "outputs": []
    },
    {
      "cell_type": "code",
      "source": [
        "#  27. Sort the elements of a tuple.\n",
        "\n",
        "def sort_tuple(my_tuple):\n",
        "  \"\"\"\n",
        "  Sorts the elements of a tuple.\n",
        "\n",
        "  Args:\n",
        "    my_tuple: The input tuple.\n",
        "\n",
        "  Returns:\n",
        "    A new tuple with elements sorted in ascending order.\n",
        "  \"\"\"\n",
        "  sorted_list = sorted(my_tuple)\n",
        "  sorted_tuple = tuple(sorted_list)\n",
        "  return sorted_tuple\n",
        "\n",
        "# Example usage\n",
        "my_tuple = (3, 1, 4, 1, 5, 9, 2, 6)\n",
        "sorted_tuple = sort_tuple(my_tuple)\n",
        "print(sorted_tuple)  # Output: (1, 1, 2, 3, 4, 5, 6, 9)\n"
      ],
      "metadata": {
        "colab": {
          "base_uri": "https://localhost:8080/"
        },
        "id": "3Z4d87pct88S",
        "outputId": "46f0c90d-cf2d-40f9-9378-84301655ab25"
      },
      "execution_count": 180,
      "outputs": [
        {
          "output_type": "stream",
          "name": "stdout",
          "text": [
            "(1, 1, 2, 3, 4, 5, 6, 9)\n"
          ]
        }
      ]
    },
    {
      "cell_type": "code",
      "source": [
        "#  28. Convert a tuple of integers to a tuple of strings.\n",
        "\n",
        "def int_tuple_to_str_tuple(int_tuple):\n",
        "  \"\"\"\n",
        "  Converts a tuple of integers to a tuple of strings.\n",
        "\n",
        "  Args:\n",
        "    int_tuple: The input tuple of integers.\n",
        "\n",
        "  Returns:\n",
        "    A tuple of strings.\n",
        "  \"\"\"\n",
        "  str_tuple = tuple(str(num) for num in int_tuple)\n",
        "  return str_tuple\n",
        "\n",
        "# Example usage\n",
        "int_tuple = (1, 2, 3, 4, 5)\n",
        "str_tuple = int_tuple_to_str_tuple(int_tuple)\n",
        "print(str_tuple)  # Output: ('1', '2', '3', '4', '5')\n"
      ],
      "metadata": {
        "colab": {
          "base_uri": "https://localhost:8080/"
        },
        "id": "CQ4EliYzt9BX",
        "outputId": "7ebe60e1-5b96-4a33-9374-f470bf5a3446"
      },
      "execution_count": 181,
      "outputs": [
        {
          "output_type": "stream",
          "name": "stdout",
          "text": [
            "('1', '2', '3', '4', '5')\n"
          ]
        }
      ]
    },
    {
      "cell_type": "code",
      "source": [
        "# 29. Convert a tuple of strings to a tuple of integers.\n",
        "\n",
        "def str_tuple_to_int_tuple(str_tuple):\n",
        "  \"\"\"\n",
        "  Converts a tuple of strings to a tuple of integers.\n",
        "\n",
        "  Args:\n",
        "    str_tuple: The input tuple of strings.\n",
        "\n",
        "  Returns:\n",
        "    A tuple of integers.\n",
        "  \"\"\"\n",
        "  int_tuple = tuple(int(num) for num in str_tuple)\n",
        "  return int_tuple\n",
        "\n",
        "# Example usage\n",
        "str_tuple = ('1', '2', '3', '4', '5')\n",
        "int_tuple = str_tuple_to_int_tuple(str_tuple)\n",
        "print(int_tuple)  # Output: (1, 2, 3, 4, 5)\n"
      ],
      "metadata": {
        "colab": {
          "base_uri": "https://localhost:8080/"
        },
        "id": "MPVYdrAut9Gj",
        "outputId": "d1700ff6-771f-4ab0-ea26-48a0115b74ec"
      },
      "execution_count": 182,
      "outputs": [
        {
          "output_type": "stream",
          "name": "stdout",
          "text": [
            "(1, 2, 3, 4, 5)\n"
          ]
        }
      ]
    },
    {
      "cell_type": "code",
      "source": [
        "#  30. Merge two tuples.\n",
        "\n",
        "def merge_tuples(tuple1, tuple2):\n",
        "  \"\"\"\n",
        "  Merges two tuples.\n",
        "\n",
        "  Args:\n",
        "    tuple1: The first tuple.\n",
        "    tuple2: The second tuple.\n",
        "\n",
        "  Returns:\n",
        "    A new tuple containing the elements of both input tuples.\n",
        "  \"\"\"\n",
        "  merged_tuple = tuple1 + tuple2\n",
        "  return merged_tuple\n",
        "\n",
        "# Example usage\n",
        "tuple1 = (1, 2, 3)\n",
        "tuple2 = (4, 5, 6)\n",
        "merged_tuple = merge_tuples(tuple1, tuple2)\n",
        "print(merged_tuple)  # Output: (1, 2, 3, 4, 5, 6)\n"
      ],
      "metadata": {
        "colab": {
          "base_uri": "https://localhost:8080/"
        },
        "id": "aCRtEnn5t9LL",
        "outputId": "d1fb7b4a-e69e-49b3-d028-212523200664"
      },
      "execution_count": 183,
      "outputs": [
        {
          "output_type": "stream",
          "name": "stdout",
          "text": [
            "(1, 2, 3, 4, 5, 6)\n"
          ]
        }
      ]
    },
    {
      "cell_type": "code",
      "source": [
        "#  31. Flatten a nested tuple.\n",
        "\n",
        "def flatten_tuple(nested_tuple):\n",
        "  \"\"\"\n",
        "  Flattens a nested tuple.\n",
        "\n",
        "  Args:\n",
        "    nested_tuple: The input nested tuple.\n",
        "\n",
        "  Returns:\n",
        "    A flattened tuple.\n",
        "  \"\"\"\n",
        "  result = []\n",
        "  for item in nested_tuple:\n",
        "    if isinstance(item, tuple):\n",
        "      result.extend(flatten_tuple(item))\n",
        "    else:\n",
        "      result.append(item)\n",
        "  return tuple(result)\n",
        "\n",
        "# Example usage\n",
        "nested_tuple = ((1, 2), (3, 4, 5), (6,))\n",
        "flattened_tuple = flatten_tuple(nested_tuple)\n",
        "print(flattened_tuple)  # Output: (1, 2, 3, 4, 5, 6)\n"
      ],
      "metadata": {
        "colab": {
          "base_uri": "https://localhost:8080/"
        },
        "id": "tC1sFsHmt9Qs",
        "outputId": "0475e67e-6151-4c91-f462-f14112dae9da"
      },
      "execution_count": 184,
      "outputs": [
        {
          "output_type": "stream",
          "name": "stdout",
          "text": [
            "(1, 2, 3, 4, 5, 6)\n"
          ]
        }
      ]
    },
    {
      "cell_type": "code",
      "source": [
        "#  32. Create a tuple of the first 5 prime numbers.\n",
        "\n",
        "def is_prime(n):\n",
        "  \"\"\"\n",
        "  Checks if a number is prime.\n",
        "\n",
        "  Args:\n",
        "    n: The number to check.\n",
        "\n",
        "  Returns:\n",
        "    True if the number is prime, False otherwise.\n",
        "  \"\"\"\n",
        "  if n <= 1:\n",
        "    return False\n",
        "  if n <= 3:\n",
        "    return True\n",
        "  if n % 2 == 0 or n % 3 == 0:\n",
        "    return False\n",
        "  i = 5\n",
        "  while i * i <= n:\n",
        "    if n % i == 0 or n % (i + 2) == 0:\n",
        "      return False\n",
        "    i += 6\n",
        "  return True\n",
        "\n",
        "def first_n_primes(n):\n",
        "  \"\"\"\n",
        "  Creates a tuple of the first n prime numbers.\n",
        "\n",
        "  Args:\n",
        "    n: The number of prime numbers to find.\n",
        "\n",
        "  Returns:\n",
        "    A tuple containing the first n prime numbers.\n",
        "  \"\"\"\n",
        "  prime_numbers = []\n",
        "  num = 2\n",
        "  while len(prime_numbers) < n:\n",
        "    if is_prime(num):\n",
        "      prime_numbers.append(num)\n",
        "    num += 1\n",
        "  return tuple(prime_numbers)\n",
        "\n",
        "# Create a tuple of the first 5 prime numbers\n",
        "prime_tuple = first_n_primes(5)\n",
        "print(prime_tuple)  # Output: (2, 3, 5, 7, 11)\n"
      ],
      "metadata": {
        "colab": {
          "base_uri": "https://localhost:8080/"
        },
        "id": "DktY5HDSt9Vb",
        "outputId": "c95e3054-d2d2-48a9-ec9e-dd7e2bf2322a"
      },
      "execution_count": 185,
      "outputs": [
        {
          "output_type": "stream",
          "name": "stdout",
          "text": [
            "(2, 3, 5, 7, 11)\n"
          ]
        }
      ]
    },
    {
      "cell_type": "code",
      "source": [
        "#  33. Check if a tuple is a palindrome.\n",
        "\n",
        "def is_palindrome_tuple(my_tuple):\n",
        "  \"\"\"\n",
        "  Checks if a tuple is a palindrome.\n",
        "\n",
        "  Args:\n",
        "    my_tuple: The input tuple.\n",
        "\n",
        "  Returns:\n",
        "    True if the tuple is a palindrome, False otherwise.\n",
        "  \"\"\"\n",
        "  # Convert the tuple to a string for easier comparison\n",
        "  tuple_str = \"\".join(str(x) for x in my_tuple)\n",
        "  # Check if the string is equal to its reversed version\n",
        "  return tuple_str == tuple_str[::-1]\n",
        "\n",
        "# Example usage\n",
        "my_tuple = (1, 2, 3, 2, 1)\n",
        "if is_palindrome_tuple(my_tuple):\n",
        "  print(\"The tuple is a palindrome.\")\n",
        "else:\n",
        "  print(\"The tuple is not a palindrome.\")\n"
      ],
      "metadata": {
        "colab": {
          "base_uri": "https://localhost:8080/"
        },
        "id": "qsJf-uGMt9af",
        "outputId": "5e6b1604-ff18-405a-8e68-948e854bcf77"
      },
      "execution_count": 186,
      "outputs": [
        {
          "output_type": "stream",
          "name": "stdout",
          "text": [
            "The tuple is a palindrome.\n"
          ]
        }
      ]
    },
    {
      "cell_type": "code",
      "source": [
        "# 34. Create a tuple of squares of numbers from 1 to 5.\n",
        "\n",
        "squares_tuple = tuple(x**2 for x in range(1, 6))\n",
        "print(squares_tuple)\n"
      ],
      "metadata": {
        "colab": {
          "base_uri": "https://localhost:8080/"
        },
        "id": "HXEWRGmTt9fb",
        "outputId": "bc374624-d566-4f0a-d521-16a44884be04"
      },
      "execution_count": 187,
      "outputs": [
        {
          "output_type": "stream",
          "name": "stdout",
          "text": [
            "(1, 4, 9, 16, 25)\n"
          ]
        }
      ]
    },
    {
      "cell_type": "code",
      "source": [
        "#  35. Filter out all even numbers from a tuple.\n",
        "\n",
        "def filter_even_numbers(my_tuple):\n",
        "  \"\"\"\n",
        "  Filters out all even numbers from a tuple.\n",
        "\n",
        "  Args:\n",
        "    my_tuple: The input tuple.\n",
        "\n",
        "  Returns:\n",
        "    A new tuple containing only the odd numbers from the input tuple.\n",
        "  \"\"\"\n",
        "  odd_numbers = tuple(num for num in my_tuple if num % 2 != 0)\n",
        "  return odd_numbers\n",
        "\n",
        "# Example usage\n",
        "my_tuple = (1, 2, 3, 4, 5, 6)\n",
        "odd_tuple = filter_even_numbers(my_tuple)\n",
        "print(odd_tuple)  # Output: (1, 3, 5)\n"
      ],
      "metadata": {
        "colab": {
          "base_uri": "https://localhost:8080/"
        },
        "id": "8puwhDyUt9kX",
        "outputId": "2540eda5-3a90-4c96-d55c-15c90af1be88"
      },
      "execution_count": 188,
      "outputs": [
        {
          "output_type": "stream",
          "name": "stdout",
          "text": [
            "(1, 3, 5)\n"
          ]
        }
      ]
    },
    {
      "cell_type": "code",
      "source": [
        "#  36. Multiply all elements in a tuple by 2.\n",
        "\n",
        "def multiply_tuple_elements_by_two(my_tuple):\n",
        "  \"\"\"\n",
        "  Multiplies all elements in a tuple by 2.\n",
        "\n",
        "  Args:\n",
        "    my_tuple: The input tuple.\n",
        "\n",
        "  Returns:\n",
        "    A new tuple with all elements multiplied by 2.\n",
        "  \"\"\"\n",
        "  result = tuple(x * 2 for x in my_tuple)\n",
        "  return result\n",
        "\n",
        "# Example usage\n",
        "my_tuple = (1, 2, 3, 4, 5)\n",
        "multiplied_tuple = multiply_tuple_elements_by_two(my_tuple)\n",
        "print(multiplied_tuple)  # Output: (2, 4, 6, 8, 10)\n"
      ],
      "metadata": {
        "colab": {
          "base_uri": "https://localhost:8080/"
        },
        "id": "bSTvJ96wt9pU",
        "outputId": "60b4be7e-69ab-4c75-aba4-296cc1fd8250"
      },
      "execution_count": 189,
      "outputs": [
        {
          "output_type": "stream",
          "name": "stdout",
          "text": [
            "(2, 4, 6, 8, 10)\n"
          ]
        }
      ]
    },
    {
      "cell_type": "code",
      "source": [
        "#  37. Create a tuple of random numbers.\n",
        "\n",
        "import random\n",
        "\n",
        "def create_random_number_tuple(n):\n",
        "  \"\"\"\n",
        "  Creates a tuple of random numbers.\n",
        "\n",
        "  Args:\n",
        "    n: The number of random numbers to generate.\n",
        "\n",
        "  Returns:\n",
        "    A tuple of random numbers.\n",
        "  \"\"\"\n",
        "  random_numbers = [random.randint(1, 100) for _ in range(n)]\n",
        "  return tuple(random_numbers)\n",
        "\n",
        "# Example usage\n",
        "n = 5\n",
        "random_tuple = create_random_number_tuple(n)\n",
        "print(random_tuple)\n"
      ],
      "metadata": {
        "colab": {
          "base_uri": "https://localhost:8080/"
        },
        "id": "TKlIejeWt9t7",
        "outputId": "65298aae-a2e6-4bce-e59d-dd52dcbd9e0d"
      },
      "execution_count": 190,
      "outputs": [
        {
          "output_type": "stream",
          "name": "stdout",
          "text": [
            "(76, 100, 47, 83, 100)\n"
          ]
        }
      ]
    },
    {
      "cell_type": "code",
      "source": [
        "#  38. Check if a tuple is sorted.\n",
        "\n",
        "def is_tuple_sorted(my_tuple):\n",
        "  \"\"\"\n",
        "  Checks if a tuple is sorted in ascending order.\n",
        "\n",
        "  Args:\n",
        "    my_tuple: The input tuple.\n",
        "\n",
        "  Returns:\n",
        "    True if the tuple is sorted, False otherwise.\n",
        "  \"\"\"\n",
        "  for i in range(len(my_tuple) - 1):\n",
        "    if my_tuple[i] > my_tuple[i + 1]:\n",
        "      return False\n",
        "  return True\n",
        "\n",
        "# Example usage\n",
        "sorted_tuple = (1, 2, 3, 4, 5)\n",
        "unsorted_tuple = (1, 3, 2, 4, 5)\n",
        "\n",
        "if is_tuple_sorted(sorted_tuple):\n",
        "  print(\"The tuple is sorted.\")\n",
        "else:\n",
        "  print(\"The tuple is not sorted.\")\n",
        "\n",
        "if is_tuple_sorted(unsorted_tuple):\n",
        "  print(\"The tuple is sorted.\")\n",
        "else:\n",
        "  print(\"The tuple is not sorted.\")\n"
      ],
      "metadata": {
        "colab": {
          "base_uri": "https://localhost:8080/"
        },
        "id": "lCIJ6uXnt9yc",
        "outputId": "766e32b4-91e4-4dff-ee3a-2f1dcf8b22ef"
      },
      "execution_count": 191,
      "outputs": [
        {
          "output_type": "stream",
          "name": "stdout",
          "text": [
            "The tuple is sorted.\n",
            "The tuple is not sorted.\n"
          ]
        }
      ]
    },
    {
      "cell_type": "code",
      "source": [
        "# 39. Rotate a tuple to the left by `n` positions.\n",
        "\n",
        "def rotate_tuple_left(my_tuple, n):\n",
        "  \"\"\"\n",
        "  Rotates a tuple to the left by n positions.\n",
        "\n",
        "  Args:\n",
        "    my_tuple: The input tuple.\n",
        "    n: The number of positions to rotate.\n",
        "\n",
        "  Returns:\n",
        "    The rotated tuple.\n",
        "  \"\"\"\n",
        "  n = n % len(my_tuple)  # Handle cases where n is greater than the length of the tuple\n",
        "  rotated_tuple = my_tuple[n:] + my_tuple[:n]\n",
        "  return rotated_tuple\n",
        "\n",
        "# Example usage\n",
        "my_tuple = (1, 2, 3, 4, 5)\n",
        "n = 2\n",
        "rotated_tuple = rotate_tuple_left(my_tuple, n)\n",
        "print(rotated_tuple)  # Output: (3, 4, 5, 1, 2)\n"
      ],
      "metadata": {
        "colab": {
          "base_uri": "https://localhost:8080/"
        },
        "id": "0lQqY_Nct93O",
        "outputId": "db2f5669-7a63-44fe-e681-241921d802b2"
      },
      "execution_count": 192,
      "outputs": [
        {
          "output_type": "stream",
          "name": "stdout",
          "text": [
            "(3, 4, 5, 1, 2)\n"
          ]
        }
      ]
    },
    {
      "cell_type": "code",
      "source": [
        "#  40. Rotate a tuple to the right by `n` positions.\n",
        "\n",
        "def rotate_tuple_right(my_tuple, n):\n",
        "  \"\"\"\n",
        "  Rotates a tuple to the right by n positions.\n",
        "\n",
        "  Args:\n",
        "    my_tuple: The input tuple.\n",
        "    n: The number of positions to rotate.\n",
        "\n",
        "  Returns:\n",
        "    The rotated tuple.\n",
        "  \"\"\"\n",
        "  n = n % len(my_tuple)  # Handle cases where n is greater than the length of the tuple\n",
        "  rotated_tuple = my_tuple[-n:] + my_tuple[:-n]\n",
        "  return rotated_tuple\n",
        "\n",
        "# Example usage\n",
        "my_tuple = (1, 2, 3, 4, 5)\n",
        "n = 2\n",
        "rotated_tuple = rotate_tuple_right(my_tuple, n)\n",
        "print(rotated_tuple)  # Output: (4, 5, 1, 2, 3)\n"
      ],
      "metadata": {
        "colab": {
          "base_uri": "https://localhost:8080/"
        },
        "id": "-5waUlkVt98D",
        "outputId": "70f9a0c4-4008-46a8-8557-f014827957a0"
      },
      "execution_count": 193,
      "outputs": [
        {
          "output_type": "stream",
          "name": "stdout",
          "text": [
            "(4, 5, 1, 2, 3)\n"
          ]
        }
      ]
    },
    {
      "cell_type": "code",
      "source": [
        "#  41. Create a tuple of the first 5 Fibonacci numbers.\n",
        "\n",
        "def fibonacci_tuple(n):\n",
        "  \"\"\"\n",
        "  Creates a tuple of the first n Fibonacci numbers.\n",
        "\n",
        "  Args:\n",
        "    n: The number of Fibonacci numbers to generate.\n",
        "\n",
        "  Returns:\n",
        "    A tuple containing the first n Fibonacci numbers.\n",
        "  \"\"\"\n",
        "  if n <= 0:\n",
        "    return ()\n",
        "  elif n == 1:\n",
        "    return (0,)\n",
        "  else:\n",
        "    fib_list = [0, 1]\n",
        "    while len(fib_list) < n:\n",
        "      next_fib = fib_list[-1] + fib_list[-2]\n",
        "      fib_list.append(next_fib)\n",
        "    return tuple(fib_list)\n",
        "\n",
        "# Create a tuple of the first 5 Fibonacci numbers\n",
        "fib_tuple = fibonacci_tuple(5)\n",
        "print(fib_tuple)  # Output: (0, 1, 1, 2, 3)\n"
      ],
      "metadata": {
        "colab": {
          "base_uri": "https://localhost:8080/"
        },
        "id": "CXu3bWvBt-By",
        "outputId": "22242ecd-e815-48f4-e2dc-9b6cf318b6c4"
      },
      "execution_count": 194,
      "outputs": [
        {
          "output_type": "stream",
          "name": "stdout",
          "text": [
            "(0, 1, 1, 2, 3)\n"
          ]
        }
      ]
    },
    {
      "cell_type": "code",
      "source": [
        "#  42. Create a tuple from user input.\n",
        "\n",
        "def create_tuple_from_input():\n",
        "  \"\"\"\n",
        "  Creates a tuple from user input.\n",
        "\n",
        "  Returns:\n",
        "    A tuple containing the user-provided values.\n",
        "  \"\"\"\n",
        "  input_str = input(\"Enter elements separated by spaces: \")\n",
        "  elements = input_str.split()\n",
        "  my_tuple = tuple(elements)\n",
        "  return my_tuple\n",
        "\n",
        "# Example usage\n",
        "user_tuple = create_tuple_from_input()\n",
        "print(user_tuple)\n"
      ],
      "metadata": {
        "colab": {
          "base_uri": "https://localhost:8080/"
        },
        "id": "AA4Wvey9t-GN",
        "outputId": "7ba477fc-e9b8-4797-deda-a8b34dd20493"
      },
      "execution_count": 195,
      "outputs": [
        {
          "output_type": "stream",
          "name": "stdout",
          "text": [
            "Enter elements separated by spaces: 22 25 23 22 27 25\n",
            "('22', '25', '23', '22', '27', '25')\n"
          ]
        }
      ]
    },
    {
      "cell_type": "code",
      "source": [
        "#  43. Swap two elements in a tuple.\n",
        "\n",
        "def swap_tuple_elements(my_tuple, index1, index2):\n",
        "  \"\"\"\n",
        "  Swaps two elements in a tuple.\n",
        "\n",
        "  Args:\n",
        "    my_tuple: The input tuple.\n",
        "    index1: The index of the first element.\n",
        "    index2: The index of the second element.\n",
        "\n",
        "  Returns:\n",
        "    A new tuple with the elements swapped.\n",
        "  \"\"\"\n",
        "  if index1 < 0 or index1 >= len(my_tuple) or index2 < 0 or index2 >= len(my_tuple):\n",
        "    return \"Invalid indices\"\n",
        "\n",
        "  list_tuple = list(my_tuple)\n",
        "  list_tuple[index1], list_tuple[index2] = list_tuple[index2], list_tuple[index1]\n",
        "  return tuple(list_tuple)\n",
        "\n",
        "# Example usage\n",
        "my_tuple = (1, 2, 3, 4, 5)\n",
        "index1 = 1\n",
        "index2 = 3\n",
        "swapped_tuple = swap_tuple_elements(my_tuple, index1, index2)\n",
        "print(swapped_tuple)  # Output: (1, 4, 3, 2, 5)\n"
      ],
      "metadata": {
        "colab": {
          "base_uri": "https://localhost:8080/"
        },
        "id": "cfIHAhd1t-Lc",
        "outputId": "bed20f74-299d-4b35-ba4a-4c3a69c61b14"
      },
      "execution_count": 196,
      "outputs": [
        {
          "output_type": "stream",
          "name": "stdout",
          "text": [
            "(1, 4, 3, 2, 5)\n"
          ]
        }
      ]
    },
    {
      "cell_type": "code",
      "source": [
        "#  44. Reverse the elements of a tuple.\n",
        "\n",
        "def reverse_tuple(my_tuple):\n",
        "  \"\"\"\n",
        "  Reverses the elements of a tuple.\n",
        "\n",
        "  Args:\n",
        "    my_tuple: The input tuple.\n",
        "\n",
        "  Returns:\n",
        "    A new tuple with the elements reversed.\n",
        "  \"\"\"\n",
        "  reversed_tuple = my_tuple[::-1]\n",
        "  return reversed_tuple\n",
        "\n",
        "# Example usage\n",
        "my_tuple = (1, 2, 3, 4, 5)\n",
        "reversed_tuple = reverse_tuple(my_tuple)\n",
        "print(reversed_tuple)  # Output: (5, 4, 3, 2, 1)\n"
      ],
      "metadata": {
        "colab": {
          "base_uri": "https://localhost:8080/"
        },
        "id": "JcFWqiput-QT",
        "outputId": "0599a5d4-39dc-4ec9-ded2-106fc181378d"
      },
      "execution_count": 197,
      "outputs": [
        {
          "output_type": "stream",
          "name": "stdout",
          "text": [
            "(5, 4, 3, 2, 1)\n"
          ]
        }
      ]
    },
    {
      "cell_type": "code",
      "source": [
        "#  45. Create a tuple of the first `n` powers of 2.\n",
        "\n",
        "def powers_of_two(n):\n",
        "  \"\"\"\n",
        "  Creates a tuple of the first n powers of 2.\n",
        "\n",
        "  Args:\n",
        "    n: The number of powers of 2 to generate.\n",
        "\n",
        "  Returns:\n",
        "    A tuple of the first n powers of 2.\n",
        "  \"\"\"\n",
        "  powers_of_two_list = [2**i for i in range(n)]\n",
        "  return tuple(powers_of_two_list)\n",
        "\n",
        "# Example usage\n",
        "n = 5\n",
        "powers_of_two_tuple = powers_of_two(n)\n",
        "print(powers_of_two_tuple)  # Output: (1, 2, 4, 8, 16)\n"
      ],
      "metadata": {
        "colab": {
          "base_uri": "https://localhost:8080/"
        },
        "id": "tzTfwDF4t-VT",
        "outputId": "dd956691-6c98-4893-e4b0-f51131b750f4"
      },
      "execution_count": 198,
      "outputs": [
        {
          "output_type": "stream",
          "name": "stdout",
          "text": [
            "(1, 2, 4, 8, 16)\n"
          ]
        }
      ]
    },
    {
      "cell_type": "code",
      "source": [
        "#  46. Find the longest string in a tuple of strings.\n",
        "\n",
        "def find_longest_string(str_tuple):\n",
        "  \"\"\"\n",
        "  Finds the longest string in a tuple of strings.\n",
        "\n",
        "  Args:\n",
        "    str_tuple: The input tuple of strings.\n",
        "\n",
        "  Returns:\n",
        "    The longest string in the tuple.\n",
        "  \"\"\"\n",
        "  if not str_tuple:\n",
        "    return None\n",
        "  longest_string = str_tuple[0]\n",
        "  for string in str_tuple:\n",
        "    if len(string) > len(longest_string):\n",
        "      longest_string = string\n",
        "  return longest_string\n",
        "\n",
        "# Example usage\n",
        "my_tuple = (\"apple\", \"banana\", \"cherry\", \"date\")\n",
        "longest_str = find_longest_string(my_tuple)\n",
        "print(longest_str)  # Output: banana\n"
      ],
      "metadata": {
        "colab": {
          "base_uri": "https://localhost:8080/"
        },
        "id": "jF9lMz86t-aB",
        "outputId": "e5d452f2-975f-479e-ae22-b29ea483a024"
      },
      "execution_count": 199,
      "outputs": [
        {
          "output_type": "stream",
          "name": "stdout",
          "text": [
            "banana\n"
          ]
        }
      ]
    },
    {
      "cell_type": "code",
      "source": [
        "#  47. Find the shortest string in a tuple of strings.\n",
        "\n",
        "def find_shortest_string(str_tuple):\n",
        "  \"\"\"\n",
        "  Finds the shortest string in a tuple of strings.\n",
        "\n",
        "  Args:\n",
        "    str_tuple: The input tuple of strings.\n",
        "\n",
        "  Returns:\n",
        "    The shortest string in the tuple.\n",
        "  \"\"\"\n",
        "  if not str_tuple:\n",
        "    return None\n",
        "  shortest_string = str_tuple[0]\n",
        "  for string in str_tuple:\n",
        "    if len(string) < len(shortest_string):\n",
        "      shortest_string = string\n",
        "  return shortest_string\n",
        "\n",
        "# Example usage\n",
        "my_tuple = (\"apple\", \"banana\", \"cherry\", \"date\")\n",
        "shortest_str = find_shortest_string(my_tuple)\n",
        "print(shortest_str)  # Output: date\n"
      ],
      "metadata": {
        "colab": {
          "base_uri": "https://localhost:8080/"
        },
        "id": "pkJOhsg-t-ez",
        "outputId": "b8790312-d6b5-4baf-ab3c-c7812837c1d8"
      },
      "execution_count": 200,
      "outputs": [
        {
          "output_type": "stream",
          "name": "stdout",
          "text": [
            "date\n"
          ]
        }
      ]
    },
    {
      "cell_type": "code",
      "source": [
        "#  48. Create a tuple of the first `n` triangular numbers.\n",
        "\n",
        "def triangular_numbers(n):\n",
        "  \"\"\"\n",
        "  Creates a tuple of the first n triangular numbers.\n",
        "\n",
        "  Args:\n",
        "    n: The number of triangular numbers to generate.\n",
        "\n",
        "  Returns:\n",
        "    A tuple containing the first n triangular numbers.\n",
        "  \"\"\"\n",
        "  triangular_numbers = []\n",
        "  for i in range(1, n + 1):\n",
        "    triangular_numbers.append(i * (i + 1) // 2)\n",
        "  return tuple(triangular_numbers)\n",
        "\n",
        "# Example usage\n",
        "n = 5\n",
        "triangular_tuple = triangular_numbers(n)\n",
        "print(triangular_tuple)  # Output: (1, 3, 6, 10, 15)\n"
      ],
      "metadata": {
        "colab": {
          "base_uri": "https://localhost:8080/"
        },
        "id": "6Q6jAjJyt-jr",
        "outputId": "ef29474c-f686-4d92-d4bf-50724367dddd"
      },
      "execution_count": 201,
      "outputs": [
        {
          "output_type": "stream",
          "name": "stdout",
          "text": [
            "(1, 3, 6, 10, 15)\n"
          ]
        }
      ]
    },
    {
      "cell_type": "code",
      "source": [
        "# 49. Check if a tuple contains another tuple as a subsequence.\n",
        "\n",
        "def contains_subsequence(main_tuple, sub_tuple):\n",
        "  \"\"\"\n",
        "  Checks if a tuple contains another tuple as a subsequence.\n",
        "\n",
        "  Args:\n",
        "    main_tuple: The main tuple.\n",
        "    sub_tuple: The sub-tuple to check for.\n",
        "\n",
        "  Returns:\n",
        "    True if the main tuple contains the sub-tuple as a subsequence, False otherwise.\n",
        "  \"\"\"\n",
        "  i = 0\n",
        "  j = 0\n",
        "  while i < len(main_tuple) and j < len(sub_tuple):\n",
        "    if main_tuple[i] == sub_tuple[j]:\n",
        "      j += 1\n",
        "    i += 1\n",
        "  return j == len(sub_tuple)\n",
        "\n",
        "# Example usage\n",
        "main_tuple = (1, 2, 3, 4, 5)\n",
        "sub_tuple = (2, 3)\n",
        "if contains_subsequence(main_tuple, sub_tuple):\n",
        "  print(\"The main tuple contains the sub-tuple as a subsequence.\")\n",
        "else:\n",
        "  print(\"The main tuple does not contain the sub-tuple as a subsequence.\")\n"
      ],
      "metadata": {
        "colab": {
          "base_uri": "https://localhost:8080/"
        },
        "id": "KMbC3Xxrt-on",
        "outputId": "0ed75159-cc40-40e1-b333-80878d5f4c6e"
      },
      "execution_count": 202,
      "outputs": [
        {
          "output_type": "stream",
          "name": "stdout",
          "text": [
            "The main tuple contains the sub-tuple as a subsequence.\n"
          ]
        }
      ]
    },
    {
      "cell_type": "code",
      "source": [
        "# 50. Create a tuple of alternating 1s and 0s of length `n`.\n",
        "\n",
        "def alternating_ones_zeros(n):\n",
        "  \"\"\"\n",
        "  Creates a tuple of alternating 1s and 0s of length n.\n",
        "\n",
        "  Args:\n",
        "    n: The length of the tuple.\n",
        "\n",
        "  Returns:\n",
        "    A tuple of alternating 1s and 0s.\n",
        "  \"\"\"\n",
        "  result = []\n",
        "  for i in range(n):\n",
        "    if i % 2 == 0:\n",
        "      result.append(1)\n",
        "    else:\n",
        "      result.append(0)\n",
        "  return tuple(result)\n",
        "\n",
        "# Example usage\n",
        "n = 5\n",
        "alternating_tuple = alternating_ones_zeros(n)\n",
        "print(alternating_tuple)  # Output: (1, 0, 1, 0, 1)\n"
      ],
      "metadata": {
        "colab": {
          "base_uri": "https://localhost:8080/"
        },
        "id": "2eJaaDwBt-tR",
        "outputId": "daf080c1-6ed7-4ac8-ed1b-8180c7cf881b"
      },
      "execution_count": 203,
      "outputs": [
        {
          "output_type": "stream",
          "name": "stdout",
          "text": [
            "(1, 0, 1, 0, 1)\n"
          ]
        }
      ]
    },
    {
      "cell_type": "markdown",
      "source": [
        "**Set Based Practice Problem :**"
      ],
      "metadata": {
        "id": "I_6p8aI1vlHz"
      }
    },
    {
      "cell_type": "code",
      "source": [
        "#  1. Create a set with integers from 1 to 5.\n",
        "\n",
        "my_set = {1, 2, 3, 4, 5}\n",
        "print(my_set)\n"
      ],
      "metadata": {
        "colab": {
          "base_uri": "https://localhost:8080/"
        },
        "id": "bja8VenkvmoF",
        "outputId": "a4962079-b7cd-4a8d-d62d-748e0e8b2e97"
      },
      "execution_count": 114,
      "outputs": [
        {
          "output_type": "stream",
          "name": "stdout",
          "text": [
            "{1, 2, 3, 4, 5}\n"
          ]
        }
      ]
    },
    {
      "cell_type": "code",
      "source": [
        "#  2. Add an element to a set.\n",
        "\n",
        "my_set.add(6)\n",
        "print(my_set)\n"
      ],
      "metadata": {
        "colab": {
          "base_uri": "https://localhost:8080/"
        },
        "id": "Kr167PeLvnnQ",
        "outputId": "d6e47e29-0e75-4751-9ee7-158fa7099fff"
      },
      "execution_count": 115,
      "outputs": [
        {
          "output_type": "stream",
          "name": "stdout",
          "text": [
            "{1, 2, 3, 4, 5, 6}\n"
          ]
        }
      ]
    },
    {
      "cell_type": "code",
      "source": [
        "#  3. Remove an element from a set.\n",
        "\n",
        "my_set.remove(4)\n",
        "print(my_set)\n"
      ],
      "metadata": {
        "colab": {
          "base_uri": "https://localhost:8080/"
        },
        "id": "F_TJqoJnvnuP",
        "outputId": "b3558064-aa26-437f-f9bd-4f51808671b1"
      },
      "execution_count": 116,
      "outputs": [
        {
          "output_type": "stream",
          "name": "stdout",
          "text": [
            "{1, 2, 3, 5, 6}\n"
          ]
        }
      ]
    },
    {
      "cell_type": "code",
      "source": [
        "#  4. Check if an element exists in a set.\n",
        "\n",
        "def element_exists_in_set(my_set, element):\n",
        "  \"\"\"\n",
        "  Checks if an element exists in a set.\n",
        "\n",
        "  Args:\n",
        "    my_set: The input set.\n",
        "    element: The element to check for.\n",
        "\n",
        "  Returns:\n",
        "    True if the element exists in the set, False otherwise.\n",
        "  \"\"\"\n",
        "  if element in my_set:\n",
        "    return True\n",
        "  else:\n",
        "    return False\n",
        "\n",
        "# Example usage\n",
        "my_set = {1, 2, 3, 4, 5}\n",
        "element = 3\n",
        "if element_exists_in_set(my_set, element):\n",
        "  print(f\"{element} exists in the set.\")\n",
        "else:\n",
        "  print(f\"{element} does not exist in the set.\")\n"
      ],
      "metadata": {
        "colab": {
          "base_uri": "https://localhost:8080/"
        },
        "id": "c8moFm5gvn0B",
        "outputId": "d3477131-c9d1-4eee-f764-fe13526002de"
      },
      "execution_count": 117,
      "outputs": [
        {
          "output_type": "stream",
          "name": "stdout",
          "text": [
            "3 exists in the set.\n"
          ]
        }
      ]
    },
    {
      "cell_type": "code",
      "source": [
        "#  5. Find the length of a set without using the `len()` function.\n",
        "\n",
        "def find_set_length(my_set):\n",
        "  \"\"\"\n",
        "  Finds the length of a set without using the `len()` function.\n",
        "\n",
        "  Args:\n",
        "    my_set: The input set.\n",
        "\n",
        "  Returns:\n",
        "    The length of the set.\n",
        "  \"\"\"\n",
        "  count = 0\n",
        "  for _ in my_set:\n",
        "    count += 1\n",
        "  return count\n",
        "\n",
        "# Example usage\n",
        "my_set = {1, 2, 3, 4, 5}\n",
        "length = find_set_length(my_set)\n",
        "print(length)  # Output: 5\n"
      ],
      "metadata": {
        "colab": {
          "base_uri": "https://localhost:8080/"
        },
        "id": "Tai_9EQ4vn6e",
        "outputId": "d9aaccf9-f168-4d0c-fe7f-6b61595a4786"
      },
      "execution_count": 118,
      "outputs": [
        {
          "output_type": "stream",
          "name": "stdout",
          "text": [
            "5\n"
          ]
        }
      ]
    },
    {
      "cell_type": "code",
      "source": [
        "#  6. Clear all elements from a set.\n",
        "\n",
        "my_set = {1, 2, 3, 4, 5}  # Example set\n",
        "my_set.clear()\n",
        "print(my_set)  # Output: set()\n"
      ],
      "metadata": {
        "colab": {
          "base_uri": "https://localhost:8080/"
        },
        "id": "C9S_o6aBvn-o",
        "outputId": "58c087a5-7e06-44e8-bae0-ac9c74421854"
      },
      "execution_count": 119,
      "outputs": [
        {
          "output_type": "stream",
          "name": "stdout",
          "text": [
            "set()\n"
          ]
        }
      ]
    },
    {
      "cell_type": "code",
      "source": [
        "# 7. Create a set of even numbers from 1 to 10.\n",
        "\n",
        "even_numbers = set(num for num in range(2, 11, 2))\n",
        "print(even_numbers)\n"
      ],
      "metadata": {
        "colab": {
          "base_uri": "https://localhost:8080/"
        },
        "id": "aHdtcz1evoEB",
        "outputId": "7af6c1ed-0fe9-4f4f-9934-5b8b166d59b3"
      },
      "execution_count": 120,
      "outputs": [
        {
          "output_type": "stream",
          "name": "stdout",
          "text": [
            "{2, 4, 6, 8, 10}\n"
          ]
        }
      ]
    },
    {
      "cell_type": "code",
      "source": [
        "#  8. Create a set of odd numbers from 1 to 10.\n",
        "\n",
        "odd_numbers = set(num for num in range(1, 11, 2))\n",
        "print(odd_numbers)\n"
      ],
      "metadata": {
        "colab": {
          "base_uri": "https://localhost:8080/"
        },
        "id": "AmBKr9BZvoJt",
        "outputId": "90aa887b-3f0b-4be0-97d0-22195efea9a1"
      },
      "execution_count": 121,
      "outputs": [
        {
          "output_type": "stream",
          "name": "stdout",
          "text": [
            "{1, 3, 5, 7, 9}\n"
          ]
        }
      ]
    },
    {
      "cell_type": "code",
      "source": [
        "#  9. Find the union of two sets.\n",
        "\n",
        "def find_union_of_sets(set1, set2):\n",
        "  \"\"\"\n",
        "  Finds the union of two sets.\n",
        "\n",
        "  Args:\n",
        "    set1: The first set.\n",
        "    set2: The second set.\n",
        "\n",
        "  Returns:\n",
        "    A new set containing the union of the two input sets.\n",
        "  \"\"\"\n",
        "  union_set = set1 | set2\n",
        "  return union_set\n",
        "\n",
        "# Example usage\n",
        "set1 = {1, 2, 3}\n",
        "set2 = {3, 4, 5}\n",
        "union_set = find_union_of_sets(set1, set2)\n",
        "print(union_set)  # Output: {1, 2, 3, 4, 5}\n"
      ],
      "metadata": {
        "colab": {
          "base_uri": "https://localhost:8080/"
        },
        "id": "JB1XiTGhvoPQ",
        "outputId": "c4f3bba9-04ad-4fd9-b570-3dac06ef1a3d"
      },
      "execution_count": 122,
      "outputs": [
        {
          "output_type": "stream",
          "name": "stdout",
          "text": [
            "{1, 2, 3, 4, 5}\n"
          ]
        }
      ]
    },
    {
      "cell_type": "code",
      "source": [
        "# 10. Find the intersection of two sets.\n",
        "\n",
        "def find_intersection_of_sets(set1, set2):\n",
        "  \"\"\"\n",
        "  Finds the intersection of two sets.\n",
        "\n",
        "  Args:\n",
        "    set1: The first set.\n",
        "    set2: The second set.\n",
        "\n",
        "  Returns:\n",
        "    A new set containing the intersection of the two input sets.\n",
        "  \"\"\"\n",
        "  intersection_set = set1 & set2\n",
        "  return intersection_set\n",
        "\n",
        "# Example usage\n",
        "set1 = {1, 2, 3}\n",
        "set2 = {3, 4, 5}\n",
        "intersection_set = find_intersection_of_sets(set1, set2)\n",
        "print(intersection_set)  # Output: {3}\n"
      ],
      "metadata": {
        "colab": {
          "base_uri": "https://localhost:8080/"
        },
        "id": "2tOXk8xgvoUr",
        "outputId": "215ca470-117a-46b0-89af-5362024776a5"
      },
      "execution_count": 123,
      "outputs": [
        {
          "output_type": "stream",
          "name": "stdout",
          "text": [
            "{3}\n"
          ]
        }
      ]
    },
    {
      "cell_type": "code",
      "source": [
        "#  11. Find the difference between two sets.\n",
        "\n",
        "def find_difference_of_sets(set1, set2):\n",
        "  \"\"\"\n",
        "  Finds the difference between two sets.\n",
        "\n",
        "  Args:\n",
        "    set1: The first set.\n",
        "    set2: The second set.\n",
        "\n",
        "  Returns:\n",
        "    A new set containing the difference between the two input sets (set1 - set2).\n",
        "  \"\"\"\n",
        "  difference_set = set1 - set2\n",
        "  return difference_set\n",
        "\n",
        "# Example usage\n",
        "set1 = {1, 2, 3, 4}\n",
        "set2 = {3, 4, 5}\n",
        "difference_set = find_difference_of_sets(set1, set2)\n",
        "print(difference_set)  # Output: {1, 2}\n"
      ],
      "metadata": {
        "colab": {
          "base_uri": "https://localhost:8080/"
        },
        "id": "24xP6pb5voaF",
        "outputId": "bffd33b3-edc8-4b5c-cc46-2552f43d9bcc"
      },
      "execution_count": 124,
      "outputs": [
        {
          "output_type": "stream",
          "name": "stdout",
          "text": [
            "{1, 2}\n"
          ]
        }
      ]
    },
    {
      "cell_type": "code",
      "source": [
        "#  12. Check if a set is a subset of another set.\n",
        "\n",
        "def is_subset(set1, set2):\n",
        "  \"\"\"\n",
        "  Checks if set1 is a subset of set2.\n",
        "\n",
        "  Args:\n",
        "    set1: The first set.\n",
        "    set2: The second set.\n",
        "\n",
        "  Returns:\n",
        "    True if set1 is a subset of set2, False otherwise.\n",
        "  \"\"\"\n",
        "  return set1.issubset(set2)\n",
        "\n",
        "# Example usage\n",
        "set1 = {1, 2, 3}\n",
        "set2 = {1, 2, 3, 4, 5}\n",
        "if is_subset(set1, set2):\n",
        "  print(\"set1 is a subset of set2.\")\n",
        "else:\n",
        "  print(\"set1 is not a subset of set2.\")\n"
      ],
      "metadata": {
        "colab": {
          "base_uri": "https://localhost:8080/"
        },
        "id": "kJuapEGKvofm",
        "outputId": "185e5cab-5687-4b4b-fb8a-0af9969eafe4"
      },
      "execution_count": 125,
      "outputs": [
        {
          "output_type": "stream",
          "name": "stdout",
          "text": [
            "set1 is a subset of set2.\n"
          ]
        }
      ]
    },
    {
      "cell_type": "code",
      "source": [
        "#  13. Check if a set is a superset of another set.\n",
        "\n",
        "def is_superset(set1, set2):\n",
        "  \"\"\"\n",
        "  Checks if set1 is a superset of set2.\n",
        "\n",
        "  Args:\n",
        "    set1: The first set.\n",
        "    set2: The second set.\n",
        "\n",
        "  Returns:\n",
        "    True if set1 is a superset of set2, False otherwise.\n",
        "  \"\"\"\n",
        "  return set1.issuperset(set2)\n",
        "\n",
        "# Example usage\n",
        "set1 = {1, 2, 3, 4, 5}\n",
        "set2 = {1, 2, 3}\n",
        "if is_superset(set1, set2):\n",
        "  print(\"set1 is a superset of set2.\")\n",
        "else:\n",
        "  print(\"set1 is not a superset of set2.\")\n"
      ],
      "metadata": {
        "colab": {
          "base_uri": "https://localhost:8080/"
        },
        "id": "Fo6GHryovolI",
        "outputId": "c3433efa-2a26-4324-99aa-524d62413a3a"
      },
      "execution_count": 126,
      "outputs": [
        {
          "output_type": "stream",
          "name": "stdout",
          "text": [
            "set1 is a superset of set2.\n"
          ]
        }
      ]
    },
    {
      "cell_type": "code",
      "source": [
        "#  14. Create a set from a list.\n",
        "\n",
        "my_list = [1, 2, 3, 4, 5, 5, 6]\n",
        "my_set = set(my_list)\n",
        "print(my_set)  # Output: {1, 2, 3, 4, 5, 6}\n"
      ],
      "metadata": {
        "colab": {
          "base_uri": "https://localhost:8080/"
        },
        "id": "uix7rhmGvoqf",
        "outputId": "ce8443fc-1660-4012-ddc1-87b6d0bbfcd9"
      },
      "execution_count": 127,
      "outputs": [
        {
          "output_type": "stream",
          "name": "stdout",
          "text": [
            "{1, 2, 3, 4, 5, 6}\n"
          ]
        }
      ]
    },
    {
      "cell_type": "code",
      "source": [
        "# 15. Convert a set to a list.\n",
        "\n",
        "my_set = {1, 2, 3, 4, 5}\n",
        "my_list = list(my_set)\n",
        "print(my_list)  # Output: [1, 2, 3, 4, 5]\n"
      ],
      "metadata": {
        "colab": {
          "base_uri": "https://localhost:8080/"
        },
        "id": "GEXEdwHtvov-",
        "outputId": "7e751ba4-29e1-4ab6-9324-08700c9998d0"
      },
      "execution_count": 128,
      "outputs": [
        {
          "output_type": "stream",
          "name": "stdout",
          "text": [
            "[1, 2, 3, 4, 5]\n"
          ]
        }
      ]
    },
    {
      "cell_type": "code",
      "source": [
        "#  16. Remove a random element from a set.\n",
        "\n",
        "import random\n",
        "\n",
        "def remove_random_element(my_set):\n",
        "  \"\"\"\n",
        "  Removes a random element from a set.\n",
        "\n",
        "  Args:\n",
        "    my_set: The input set.\n",
        "\n",
        "  Returns:\n",
        "    The set with a random element removed.\n",
        "  \"\"\"\n",
        "  if not my_set:\n",
        "    return \"Set is empty.\"\n",
        "\n",
        "  random_element = random.choice(list(my_set))\n",
        "  my_set.remove(random_element)\n",
        "  return my_set\n",
        "\n",
        "# Example usage\n",
        "my_set = {1, 2, 3, 4, 5}\n",
        "result_set = remove_random_element(my_set)\n",
        "print(result_set)\n"
      ],
      "metadata": {
        "colab": {
          "base_uri": "https://localhost:8080/"
        },
        "id": "OBgq4sLdvo1t",
        "outputId": "e068395a-49c4-4233-87bc-da31a36b53c7"
      },
      "execution_count": 129,
      "outputs": [
        {
          "output_type": "stream",
          "name": "stdout",
          "text": [
            "{1, 3, 4, 5}\n"
          ]
        }
      ]
    },
    {
      "cell_type": "code",
      "source": [
        "#  17. Pop an element from a set.\n",
        "\n",
        "my_set = {1, 2, 3, 4, 5}\n",
        "element = my_set.pop()\n",
        "print(element)  # Output: 1 (or any other element in the set)\n",
        "print(my_set)  # Output: {2, 3, 4, 5}\n"
      ],
      "metadata": {
        "colab": {
          "base_uri": "https://localhost:8080/"
        },
        "id": "QGHkgxsGvo7c",
        "outputId": "82bb12a7-eb87-43af-e1e0-482f91535854"
      },
      "execution_count": 130,
      "outputs": [
        {
          "output_type": "stream",
          "name": "stdout",
          "text": [
            "1\n",
            "{2, 3, 4, 5}\n"
          ]
        }
      ]
    },
    {
      "cell_type": "code",
      "source": [
        "#  18. Check if two sets have no elements in common.\n",
        "\n",
        "def sets_have_no_common_elements(set1, set2):\n",
        "  \"\"\"\n",
        "  Checks if two sets have no elements in common.\n",
        "\n",
        "  Args:\n",
        "    set1: The first set.\n",
        "    set2: The second set.\n",
        "\n",
        "  Returns:\n",
        "    True if the sets have no common elements, False otherwise.\n",
        "  \"\"\"\n",
        "  return set1.isdisjoint(set2)\n",
        "\n",
        "# Example usage\n",
        "set1 = {1, 2, 3}\n",
        "set2 = {4, 5, 6}\n",
        "if sets_have_no_common_elements(set1, set2):\n",
        "  print(\"The sets have no common elements.\")\n",
        "else:\n",
        "  print(\"The sets have common elements.\")\n"
      ],
      "metadata": {
        "colab": {
          "base_uri": "https://localhost:8080/"
        },
        "id": "1JhFe9u9vpBY",
        "outputId": "29e0b07b-1765-4df6-d4fd-85a84e76eec8"
      },
      "execution_count": 131,
      "outputs": [
        {
          "output_type": "stream",
          "name": "stdout",
          "text": [
            "The sets have no common elements.\n"
          ]
        }
      ]
    },
    {
      "cell_type": "code",
      "source": [
        "# 19. Find the symmetric difference between two sets.\n",
        "\n",
        "def find_symmetric_difference_of_sets(set1, set2):\n",
        "  \"\"\"\n",
        "  Finds the symmetric difference between two sets.\n",
        "\n",
        "  Args:\n",
        "    set1: The first set.\n",
        "    set2: The second set.\n",
        "\n",
        "  Returns:\n",
        "    A new set containing the symmetric difference of the two input sets.\n",
        "  \"\"\"\n",
        "  symmetric_difference_set = set1 ^ set2\n",
        "  return symmetric_difference_set\n",
        "\n",
        "# Example usage\n",
        "set1 = {1, 2, 3}\n",
        "set2 = {3, 4, 5}\n",
        "symmetric_difference_set = find_symmetric_difference_of_sets(set1, set2)\n",
        "print(symmetric_difference_set)  # Output: {1, 2, 4, 5}\n"
      ],
      "metadata": {
        "colab": {
          "base_uri": "https://localhost:8080/"
        },
        "id": "uUWNF10kvpG6",
        "outputId": "4f470be3-3c10-47b8-e3f0-488e284a5bc6"
      },
      "execution_count": 132,
      "outputs": [
        {
          "output_type": "stream",
          "name": "stdout",
          "text": [
            "{1, 2, 4, 5}\n"
          ]
        }
      ]
    },
    {
      "cell_type": "code",
      "source": [
        "# 20. Update a set with elements from another set.\n",
        "\n",
        "set1 = {1, 2, 3}\n",
        "set2 = {3, 4, 5}\n",
        "set1.update(set2)\n",
        "print(set1)  # Output: {1, 2, 3, 4, 5}\n"
      ],
      "metadata": {
        "colab": {
          "base_uri": "https://localhost:8080/"
        },
        "id": "x6t_Ny1RvpMW",
        "outputId": "45882039-0cb6-4c5c-fb57-faedfb1476dd"
      },
      "execution_count": 133,
      "outputs": [
        {
          "output_type": "stream",
          "name": "stdout",
          "text": [
            "{1, 2, 3, 4, 5}\n"
          ]
        }
      ]
    },
    {
      "cell_type": "code",
      "source": [
        "#  21. Create a set of the first 5 prime numbers.\n",
        "\n",
        "def is_prime(n):\n",
        "  \"\"\"\n",
        "  Checks if a number is prime.\n",
        "\n",
        "  Args:\n",
        "    n: The number to check.\n",
        "\n",
        "  Returns:\n",
        "    True if the number is prime, False otherwise.\n",
        "  \"\"\"\n",
        "  if n <= 1:\n",
        "    return False\n",
        "  if n <= 3:\n",
        "    return True\n",
        "  if n % 2 == 0 or n % 3 == 0:\n",
        "    return False\n",
        "  i = 5\n",
        "  while i * i <= n:\n",
        "    if n % i == 0 or n % (i + 2) == 0:\n",
        "      return False\n",
        "    i += 6\n",
        "  return True\n",
        "\n",
        "def first_n_primes(n):\n",
        "  \"\"\"\n",
        "  Creates a set of the first n prime numbers.\n",
        "\n",
        "  Args:\n",
        "    n: The number of prime numbers to find.\n",
        "\n",
        "  Returns:\n",
        "    A set containing the first n prime numbers.\n",
        "  \"\"\"\n",
        "  prime_numbers = []\n",
        "  num = 2\n",
        "  while len(prime_numbers) < n:\n",
        "    if is_prime(num):\n",
        "      prime_numbers.append(num)\n",
        "    num += 1\n",
        "  return set(prime_numbers)\n",
        "\n",
        "# Create a set of the first 5 prime numbers\n",
        "prime_set = first_n_primes(5)\n",
        "print(prime_set)  # Output: {2, 3, 5, 7, 11}\n"
      ],
      "metadata": {
        "colab": {
          "base_uri": "https://localhost:8080/"
        },
        "id": "uUKTUkQkvpSb",
        "outputId": "9bdb374e-268a-41c3-f2ac-d7fb8f332ba9"
      },
      "execution_count": 134,
      "outputs": [
        {
          "output_type": "stream",
          "name": "stdout",
          "text": [
            "{2, 3, 5, 7, 11}\n"
          ]
        }
      ]
    },
    {
      "cell_type": "code",
      "source": [
        "# 22. Check if two sets are identical.\n",
        "\n",
        "def are_sets_identical(set1, set2):\n",
        "  \"\"\"\n",
        "  Checks if two sets are identical.\n",
        "\n",
        "  Args:\n",
        "    set1: The first set.\n",
        "    set2: The second set.\n",
        "\n",
        "  Returns:\n",
        "    True if the sets are identical, False otherwise.\n",
        "  \"\"\"\n",
        "  return set1 == set2\n",
        "\n",
        "# Example usage\n",
        "set1 = {1, 2, 3}\n",
        "set2 = {3, 2, 1}\n",
        "if are_sets_identical(set1, set2):\n",
        "  print(\"The sets are identical.\")\n",
        "else:\n",
        "  print(\"The sets are not identical.\")\n"
      ],
      "metadata": {
        "colab": {
          "base_uri": "https://localhost:8080/"
        },
        "id": "gHDYGFizvpYN",
        "outputId": "5269cc19-be51-47b7-bf55-bd4e5ee9587f"
      },
      "execution_count": 135,
      "outputs": [
        {
          "output_type": "stream",
          "name": "stdout",
          "text": [
            "The sets are identical.\n"
          ]
        }
      ]
    },
    {
      "cell_type": "code",
      "source": [
        "#  23. Create a frozen set.\n",
        "\n",
        "my_frozenset = frozenset([1, 2, 3, 4, 5])\n",
        "print(my_frozenset)\n"
      ],
      "metadata": {
        "colab": {
          "base_uri": "https://localhost:8080/"
        },
        "id": "nY3F7pKJvpd0",
        "outputId": "9ef73f05-4d9a-4ffd-f361-824887d81b77"
      },
      "execution_count": 136,
      "outputs": [
        {
          "output_type": "stream",
          "name": "stdout",
          "text": [
            "frozenset({1, 2, 3, 4, 5})\n"
          ]
        }
      ]
    },
    {
      "cell_type": "code",
      "source": [
        "#  24. Check if a set is disjoint with another set.\n",
        "\n",
        "def are_sets_disjoint(set1, set2):\n",
        "  \"\"\"\n",
        "  Checks if two sets are disjoint (have no common elements).\n",
        "\n",
        "  Args:\n",
        "    set1: The first set.\n",
        "    set2: The second set.\n",
        "\n",
        "  Returns:\n",
        "    True if the sets are disjoint, False otherwise.\n",
        "  \"\"\"\n",
        "  return set1.isdisjoint(set2)\n",
        "\n",
        "# Example usage\n",
        "set1 = {1, 2, 3}\n",
        "set2 = {4, 5, 6}\n",
        "if are_sets_disjoint(set1, set2):\n",
        "  print(\"The sets are disjoint.\")\n",
        "else:\n",
        "  print(\"The sets are not disjoint.\")\n"
      ],
      "metadata": {
        "colab": {
          "base_uri": "https://localhost:8080/"
        },
        "id": "E_Po9Z-avpjW",
        "outputId": "f54adf5e-4b42-45d5-f97e-366477b6f852"
      },
      "execution_count": 137,
      "outputs": [
        {
          "output_type": "stream",
          "name": "stdout",
          "text": [
            "The sets are disjoint.\n"
          ]
        }
      ]
    },
    {
      "cell_type": "code",
      "source": [
        "#  25. Create a set of squares of numbers from 1 to 5.\n",
        "\n",
        "squares_set = {x**2 for x in range(1, 6)}\n",
        "print(squares_set)\n"
      ],
      "metadata": {
        "colab": {
          "base_uri": "https://localhost:8080/"
        },
        "id": "cY2slbGwvppC",
        "outputId": "6a7112f2-7cd2-4b82-9663-fc5fdba57e78"
      },
      "execution_count": 138,
      "outputs": [
        {
          "output_type": "stream",
          "name": "stdout",
          "text": [
            "{1, 4, 9, 16, 25}\n"
          ]
        }
      ]
    },
    {
      "cell_type": "code",
      "source": [
        "# 26. Filter out all even numbers from a set.\n",
        "\n",
        "def filter_even_numbers_from_set(my_set):\n",
        "  \"\"\"\n",
        "  Filters out all even numbers from a set.\n",
        "\n",
        "  Args:\n",
        "    my_set: The input set.\n",
        "\n",
        "  Returns:\n",
        "    A new set containing only the odd numbers from the input set.\n",
        "  \"\"\"\n",
        "  odd_numbers = set(num for num in my_set if num % 2 != 0)\n",
        "  return odd_numbers\n",
        "\n",
        "# Example usage\n",
        "my_set = {1, 2, 3, 4, 5, 6}\n",
        "odd_set = filter_even_numbers_from_set(my_set)\n",
        "print(odd_set)  # Output: {1, 3, 5}\n"
      ],
      "metadata": {
        "colab": {
          "base_uri": "https://localhost:8080/"
        },
        "id": "crtO9501vpuj",
        "outputId": "277c8475-4741-4042-8e03-3312f90b3ee2"
      },
      "execution_count": 139,
      "outputs": [
        {
          "output_type": "stream",
          "name": "stdout",
          "text": [
            "{1, 3, 5}\n"
          ]
        }
      ]
    },
    {
      "cell_type": "code",
      "source": [
        "# 27. Multiply all elements in a set by 2.\n",
        "\n",
        "def multiply_set_elements_by_two(my_set):\n",
        "  \"\"\"\n",
        "  Multiplies all elements in a set by 2.\n",
        "\n",
        "  Args:\n",
        "    my_set: The input set.\n",
        "\n",
        "  Returns:\n",
        "    A new set with all elements multiplied by 2.\n",
        "  \"\"\"\n",
        "  result = set(x * 2 for x in my_set)\n",
        "  return result\n",
        "\n",
        "# Example usage\n",
        "my_set = {1, 2, 3, 4, 5}\n",
        "multiplied_set = multiply_set_elements_by_two(my_set)\n",
        "print(multiplied_set)  # Output: {2, 4, 6, 8, 10}\n"
      ],
      "metadata": {
        "colab": {
          "base_uri": "https://localhost:8080/"
        },
        "id": "vHjFjPDrvp0Y",
        "outputId": "8a39bd2a-af65-49c6-fd65-1c202eab4c18"
      },
      "execution_count": 140,
      "outputs": [
        {
          "output_type": "stream",
          "name": "stdout",
          "text": [
            "{2, 4, 6, 8, 10}\n"
          ]
        }
      ]
    },
    {
      "cell_type": "code",
      "source": [
        "#  28. Create a set of random numbers.\n",
        "\n",
        "import random\n",
        "\n",
        "def create_random_number_set(n):\n",
        "  \"\"\"\n",
        "  Creates a set of random numbers.\n",
        "\n",
        "  Args:\n",
        "    n: The number of random numbers to generate.\n",
        "\n",
        "  Returns:\n",
        "    A set of random numbers.\n",
        "  \"\"\"\n",
        "  random_numbers = [random.randint(1, 100) for _ in range(n)]\n",
        "  return set(random_numbers)\n",
        "\n",
        "# Example usage\n",
        "n = 5\n",
        "random_set = create_random_number_set(n)\n",
        "print(random_set)\n"
      ],
      "metadata": {
        "colab": {
          "base_uri": "https://localhost:8080/"
        },
        "id": "PGm3dwftvp5q",
        "outputId": "b8313624-c955-43ed-f484-914426b0e0f4"
      },
      "execution_count": 141,
      "outputs": [
        {
          "output_type": "stream",
          "name": "stdout",
          "text": [
            "{96, 60, 53, 54, 28}\n"
          ]
        }
      ]
    },
    {
      "cell_type": "code",
      "source": [
        "#  29. Check if a set is empty.\n",
        "\n",
        "def is_set_empty(my_set):\n",
        "  \"\"\"\n",
        "  Checks if a set is empty.\n",
        "\n",
        "  Args:\n",
        "    my_set: The input set.\n",
        "\n",
        "  Returns:\n",
        "    True if the set is empty, False otherwise.\n",
        "  \"\"\"\n",
        "  if not my_set:\n",
        "    return True\n",
        "  else:\n",
        "    return False\n",
        "\n",
        "# Example usage\n",
        "empty_set = set()\n",
        "non_empty_set = {1, 2, 3}\n",
        "\n",
        "if is_set_empty(empty_set):\n",
        "  print(\"The set is empty.\")\n",
        "else:\n",
        "  print(\"The set is not empty.\")\n",
        "\n",
        "if is_set_empty(non_empty_set):\n",
        "  print(\"The set is empty.\")\n",
        "else:\n",
        "  print(\"The set is not empty.\")\n"
      ],
      "metadata": {
        "colab": {
          "base_uri": "https://localhost:8080/"
        },
        "id": "eQSHFEcYvp_I",
        "outputId": "b8a53ad3-e8a2-46c8-d319-457f2733d50c"
      },
      "execution_count": 142,
      "outputs": [
        {
          "output_type": "stream",
          "name": "stdout",
          "text": [
            "The set is empty.\n",
            "The set is not empty.\n"
          ]
        }
      ]
    },
    {
      "cell_type": "code",
      "source": [
        "#  30. Create a nested set (hint: use frozenset).\n",
        "\n",
        "nested_set = {frozenset({1, 2}), frozenset({3, 4})}\n",
        "print(nested_set)\n"
      ],
      "metadata": {
        "colab": {
          "base_uri": "https://localhost:8080/"
        },
        "id": "gO_LyEA9vqEb",
        "outputId": "8903fe77-4d6a-4e4e-f959-3276f1b15d27"
      },
      "execution_count": 143,
      "outputs": [
        {
          "output_type": "stream",
          "name": "stdout",
          "text": [
            "{frozenset({3, 4}), frozenset({1, 2})}\n"
          ]
        }
      ]
    },
    {
      "cell_type": "code",
      "source": [
        "# 31. Remove an element from a set using the discard method.\n",
        "\n",
        "my_set = {1, 2, 3, 4, 5}\n",
        "my_set.discard(3)\n",
        "print(my_set)  # Output: {1, 2, 4, 5}\n"
      ],
      "metadata": {
        "colab": {
          "base_uri": "https://localhost:8080/"
        },
        "id": "uzsVbueRvqKF",
        "outputId": "68b4214b-0d94-4538-b9f9-a37d40a2e98c"
      },
      "execution_count": 144,
      "outputs": [
        {
          "output_type": "stream",
          "name": "stdout",
          "text": [
            "{1, 2, 4, 5}\n"
          ]
        }
      ]
    },
    {
      "cell_type": "code",
      "source": [
        "# 32. Compare two sets.\n",
        "\n",
        "def compare_sets(set1, set2):\n",
        "  \"\"\"\n",
        "  Compares two sets and prints information about their relationship.\n",
        "\n",
        "  Args:\n",
        "    set1: The first set.\n",
        "    set2: The second set.\n",
        "  \"\"\"\n",
        "  if set1 == set2:\n",
        "    print(\"The sets are identical.\")\n",
        "  elif set1.issubset(set2):\n",
        "    print(\"set1 is a subset of set2.\")\n",
        "  elif set1.issuperset(set2):\n",
        "    print(\"set1 is a superset of set2.\")\n",
        "  elif set1.isdisjoint(set2):\n",
        "    print(\"The sets are disjoint.\")\n",
        "  else:\n",
        "    print(\"The sets have some common elements but are not subsets or supersets.\")\n",
        "\n",
        "# Example usage\n",
        "set1 = {1, 2, 3}\n",
        "set2 = {3, 2, 1, 4}\n",
        "compare_sets(set1, set2)\n"
      ],
      "metadata": {
        "colab": {
          "base_uri": "https://localhost:8080/"
        },
        "id": "KukWAclfvqPz",
        "outputId": "18742543-d0d5-4b25-c4dc-5155bb9c6a5b"
      },
      "execution_count": 145,
      "outputs": [
        {
          "output_type": "stream",
          "name": "stdout",
          "text": [
            "set1 is a subset of set2.\n"
          ]
        }
      ]
    },
    {
      "cell_type": "code",
      "source": [
        "#  33. Create a set from a string.\n",
        "\n",
        "my_string = \"hello\"\n",
        "my_set = set(my_string)\n",
        "print(my_set)\n"
      ],
      "metadata": {
        "colab": {
          "base_uri": "https://localhost:8080/"
        },
        "id": "q7Q5fQNXvqWD",
        "outputId": "4aad6a70-7365-4947-ac2e-2664a3ddf87a"
      },
      "execution_count": 146,
      "outputs": [
        {
          "output_type": "stream",
          "name": "stdout",
          "text": [
            "{'o', 'e', 'l', 'h'}\n"
          ]
        }
      ]
    },
    {
      "cell_type": "code",
      "source": [
        "#  34. Convert a set of strings to a set of integers.\n",
        "\n",
        "def convert_strings_to_integers(string_set):\n",
        "  \"\"\"\n",
        "  Converts a set of strings to a set of integers.\n",
        "\n",
        "  Args:\n",
        "    string_set: The input set of strings.\n",
        "\n",
        "  Returns:\n",
        "    A new set containing the integer values.\n",
        "  \"\"\"\n",
        "  integer_set = set()\n",
        "  for string in string_set:\n",
        "    try:\n",
        "      integer_set.add(int(string))\n",
        "    except ValueError:\n",
        "      print(f\"Could not convert '{string}' to an integer.\")\n",
        "  return integer_set\n",
        "\n",
        "# Example usage\n",
        "string_set = {\"1\", \"2\", \"3\", \"4\", \"5\"}\n",
        "integer_set = convert_strings_to_integers(string_set)\n",
        "print(integer_set)  # Output: {1, 2, 3, 4, 5}\n"
      ],
      "metadata": {
        "colab": {
          "base_uri": "https://localhost:8080/"
        },
        "id": "651sYlj6vqbf",
        "outputId": "9a17f5c7-2637-45b9-be2e-2253bde97e3d"
      },
      "execution_count": 147,
      "outputs": [
        {
          "output_type": "stream",
          "name": "stdout",
          "text": [
            "{1, 2, 3, 4, 5}\n"
          ]
        }
      ]
    },
    {
      "cell_type": "code",
      "source": [
        "#  35. Convert a set of integers to a set of strings.\n",
        "\n",
        "def convert_integers_to_strings(integer_set):\n",
        "  \"\"\"\n",
        "  Converts a set of integers to a set of strings.\n",
        "\n",
        "  Args:\n",
        "    integer_set: The input set of integers.\n",
        "\n",
        "  Returns:\n",
        "    A new set containing the string values.\n",
        "  \"\"\"\n",
        "  string_set = set()\n",
        "  for integer in integer_set:\n",
        "    string_set.add(str(integer))\n",
        "  return string_set\n",
        "\n",
        "# Example usage\n",
        "integer_set = {1, 2, 3, 4, 5}\n",
        "string_set = convert_integers_to_strings(integer_set)\n",
        "print(string_set)  # Output: {'1', '2', '3', '4', '5'}\n"
      ],
      "metadata": {
        "colab": {
          "base_uri": "https://localhost:8080/"
        },
        "id": "1J938CDlvqhR",
        "outputId": "267754f9-e87d-48b2-de84-31d64b47b406"
      },
      "execution_count": 148,
      "outputs": [
        {
          "output_type": "stream",
          "name": "stdout",
          "text": [
            "{'2', '3', '5', '4', '1'}\n"
          ]
        }
      ]
    },
    {
      "cell_type": "code",
      "source": [
        "#  36. Create a set from a tuple.\n",
        "\n",
        "my_tuple = (1, 2, 3, 4, 5)\n",
        "my_set = set(my_tuple)\n",
        "print(my_set)\n"
      ],
      "metadata": {
        "colab": {
          "base_uri": "https://localhost:8080/"
        },
        "id": "MSOZ5wXevqm-",
        "outputId": "e69773ce-9060-4b75-9678-80834537c5d4"
      },
      "execution_count": 149,
      "outputs": [
        {
          "output_type": "stream",
          "name": "stdout",
          "text": [
            "{1, 2, 3, 4, 5}\n"
          ]
        }
      ]
    },
    {
      "cell_type": "code",
      "source": [
        "#  37. Convert a set to a tuple.\n",
        "\n",
        "my_set = {1, 2, 3, 4, 5}\n",
        "my_tuple = tuple(my_set)\n",
        "print(my_tuple)\n"
      ],
      "metadata": {
        "colab": {
          "base_uri": "https://localhost:8080/"
        },
        "id": "1erwD_vNvqss",
        "outputId": "15685b7c-6f2c-4900-b5f0-f3abd308cb02"
      },
      "execution_count": 150,
      "outputs": [
        {
          "output_type": "stream",
          "name": "stdout",
          "text": [
            "(1, 2, 3, 4, 5)\n"
          ]
        }
      ]
    },
    {
      "cell_type": "code",
      "source": [
        "#  38. Find the maximum value in a set.\n",
        "\n",
        "def find_max_in_set(my_set):\n",
        "  \"\"\"\n",
        "  Finds the maximum value in a set.\n",
        "\n",
        "  Args:\n",
        "    my_set: The input set.\n",
        "\n",
        "  Returns:\n",
        "    The maximum value in the set, or None if the set is empty.\n",
        "  \"\"\"\n",
        "  if not my_set:\n",
        "    return None\n",
        "  return max(my_set)\n"
      ],
      "metadata": {
        "id": "WoE-8OF2vqyl"
      },
      "execution_count": 151,
      "outputs": []
    },
    {
      "cell_type": "code",
      "source": [
        "# 39. Find the minimum value in a set.\n",
        "\n",
        "def find_min_in_set(my_set):\n",
        "  \"\"\"\n",
        "  Finds the minimum value in a set.\n",
        "\n",
        "  Args:\n",
        "    my_set: The input set.\n",
        "\n",
        "  Returns:\n",
        "    The minimum value in the set, or None if the set is empty.\n",
        "  \"\"\"\n",
        "  if not my_set:\n",
        "    return None\n",
        "  return min(my_set)\n"
      ],
      "metadata": {
        "id": "x3eR_S8Gvq4Z"
      },
      "execution_count": 152,
      "outputs": []
    },
    {
      "cell_type": "code",
      "source": [
        "#  40. Create a set from user input.\n",
        "\n",
        "def create_set_from_input():\n",
        "  \"\"\"\n",
        "  Creates a set from user input.\n",
        "\n",
        "  Returns:\n",
        "    A set containing the user-provided values.\n",
        "  \"\"\"\n",
        "  input_str = input(\"Enter elements separated by spaces: \")\n",
        "  elements = input_str.split()\n",
        "  my_set = set(elements)\n",
        "  return my_set\n",
        "\n",
        "# Example usage\n",
        "user_set = create_set_from_input()\n",
        "print(user_set)\n"
      ],
      "metadata": {
        "colab": {
          "base_uri": "https://localhost:8080/"
        },
        "id": "K6NrNc9vvq99",
        "outputId": "1132f404-606c-47e0-ce0e-d4876640dca0"
      },
      "execution_count": 153,
      "outputs": [
        {
          "output_type": "stream",
          "name": "stdout",
          "text": [
            "Enter elements separated by spaces: 12 24 25 45\n",
            "{'25', '24', '45', '12'}\n"
          ]
        }
      ]
    },
    {
      "cell_type": "code",
      "source": [
        "#  41. Check if the intersection of two sets is empty.\n",
        "\n",
        "def is_intersection_empty(set1, set2):\n",
        "  \"\"\"\n",
        "  Checks if the intersection of two sets is empty.\n",
        "\n",
        "  Args:\n",
        "    set1: The first set.\n",
        "    set2: The second set.\n",
        "\n",
        "  Returns:\n",
        "    True if the intersection is empty, False otherwise.\n",
        "  \"\"\"\n",
        "  return set1.isdisjoint(set2)\n",
        "\n",
        "# Example usage\n",
        "set1 = {1, 2, 3}\n",
        "set2 = {4, 5, 6}\n",
        "if is_intersection_empty(set1, set2):\n",
        "  print(\"The intersection of the two sets is empty.\")\n",
        "else:\n",
        "  print(\"The intersection of the two sets is not empty.\")\n"
      ],
      "metadata": {
        "colab": {
          "base_uri": "https://localhost:8080/"
        },
        "id": "SYJ6ZkY2vrEH",
        "outputId": "49a2fdfc-6283-4d0d-a084-fab7405209a6"
      },
      "execution_count": 113,
      "outputs": [
        {
          "output_type": "stream",
          "name": "stdout",
          "text": [
            "The intersection of the two sets is empty.\n"
          ]
        }
      ]
    },
    {
      "cell_type": "code",
      "source": [
        "# 42. Create a set of the first 5 Fibonacci numbers.\n",
        "\n",
        "def fibonacci_numbers(n):\n",
        "  \"\"\"\n",
        "  Creates a set of the first n Fibonacci numbers.\n",
        "\n",
        "  Args:\n",
        "    n: The number of Fibonacci numbers to generate.\n",
        "\n",
        "  Returns:\n",
        "    A set containing the first n Fibonacci numbers.\n",
        "  \"\"\"\n",
        "  if n <= 0:\n",
        "    return set()\n",
        "  elif n == 1:\n",
        "    return {0}\n",
        "  else:\n",
        "    fib_list = [0, 1]\n",
        "    while len(fib_list) < n:\n",
        "      next_fib = fib_list[-1] + fib_list[-2]\n",
        "      fib_list.append(next_fib)\n",
        "    return set(fib_list)\n",
        "\n",
        "# Create a set of the first 5 Fibonacci numbers\n",
        "fibonacci_set = fibonacci_numbers(5)\n",
        "print(fibonacci_set)  # Output: {0, 1, 2, 3, 5}\n"
      ],
      "metadata": {
        "colab": {
          "base_uri": "https://localhost:8080/"
        },
        "id": "y390X2akvrKF",
        "outputId": "d764dde9-d6f6-4a5e-c275-d333efc41241"
      },
      "execution_count": 112,
      "outputs": [
        {
          "output_type": "stream",
          "name": "stdout",
          "text": [
            "{0, 1, 2, 3}\n"
          ]
        }
      ]
    },
    {
      "cell_type": "code",
      "source": [
        "#  43. Remove duplicates from a list using sets.\n",
        "\n",
        "def remove_duplicates_with_sets(my_list):\n",
        "  \"\"\"\n",
        "  Removes duplicates from a list using sets.\n",
        "\n",
        "  Args:\n",
        "    my_list: The input list.\n",
        "\n",
        "  Returns:\n",
        "    A new list with duplicates removed.\n",
        "  \"\"\"\n",
        "  unique_elements = set(my_list)\n",
        "  return list(unique_elements)\n",
        "\n",
        "# Example usage\n",
        "my_list = [1, 2, 2, 3, 4, 4, 5]\n",
        "result_list = remove_duplicates_with_sets(my_list)\n",
        "print(result_list)  # Output: [1, 2, 3, 4, 5]\n"
      ],
      "metadata": {
        "colab": {
          "base_uri": "https://localhost:8080/"
        },
        "id": "__CbAT_UvrP2",
        "outputId": "d3340c9a-b211-4093-c903-d2452ea1ad5c"
      },
      "execution_count": 110,
      "outputs": [
        {
          "output_type": "stream",
          "name": "stdout",
          "text": [
            "[1, 2, 3, 4, 5]\n"
          ]
        }
      ]
    },
    {
      "cell_type": "code",
      "source": [
        "#  44. Check if two sets have the same elements, regardless of their count.\n",
        "\n",
        "def have_same_elements(set1, set2):\n",
        "  \"\"\"\n",
        "  Checks if two sets have the same elements, regardless of their count.\n",
        "\n",
        "  Args:\n",
        "    set1: The first set.\n",
        "    set2: The second set.\n",
        "\n",
        "  Returns:\n",
        "    True if the sets have the same elements, False otherwise.\n",
        "  \"\"\"\n",
        "  return set1 == set2\n",
        "\n",
        "# Example usage\n",
        "set1 = {1, 2, 3}\n",
        "set2 = {3, 2, 1, 1}\n",
        "if have_same_elements(set1, set2):\n",
        "  print(\"The sets have the same elements.\")\n",
        "else:\n",
        "  print(\"The sets do not have the same elements.\")\n"
      ],
      "metadata": {
        "colab": {
          "base_uri": "https://localhost:8080/"
        },
        "id": "SAvRTrnfvrVz",
        "outputId": "e2ef815f-bcd2-478e-d9d6-62a399a02be0"
      },
      "execution_count": 108,
      "outputs": [
        {
          "output_type": "stream",
          "name": "stdout",
          "text": [
            "The sets have the same elements.\n"
          ]
        }
      ]
    },
    {
      "cell_type": "code",
      "source": [
        "#  45. Create a set of the first `n` powers of 2.\n",
        "\n",
        "def powers_of_two_set(n):\n",
        "  \"\"\"\n",
        "  Creates a set of the first n powers of 2.\n",
        "\n",
        "  Args:\n",
        "    n: The number of powers of 2 to generate.\n",
        "\n",
        "  Returns:\n",
        "    A set of the first n powers of 2.\n",
        "  \"\"\"\n",
        "  powers_of_two_list = [2**i for i in range(n)]\n",
        "  return set(powers_of_two_list)\n",
        "\n",
        "# Example usage\n",
        "n = 5\n",
        "powers_of_two_set_result = powers_of_two_set(n)\n",
        "print(powers_of_two_set_result)  # Output: {1, 2, 4, 8, 16}\n"
      ],
      "metadata": {
        "colab": {
          "base_uri": "https://localhost:8080/"
        },
        "id": "Sg_yG0mAvrb4",
        "outputId": "e603be23-bace-4d8d-ff3d-90791fbe9687"
      },
      "execution_count": 107,
      "outputs": [
        {
          "output_type": "stream",
          "name": "stdout",
          "text": [
            "{1, 2, 4, 8, 16}\n"
          ]
        }
      ]
    },
    {
      "cell_type": "code",
      "source": [
        "#  46. Find the common elements between a set and a list.\n",
        "\n",
        "def find_common_elements(my_set, my_list):\n",
        "  \"\"\"\n",
        "  Finds the common elements between a set and a list.\n",
        "\n",
        "  Args:\n",
        "    my_set: The input set.\n",
        "    my_list: The input list.\n",
        "\n",
        "  Returns:\n",
        "    A new set containing the common elements.\n",
        "  \"\"\"\n",
        "  common_elements = set(my_list) & my_set\n",
        "  return common_elements\n",
        "\n",
        "# Example usage\n",
        "my_set = {1, 2, 3, 4, 5}\n",
        "my_list = [3, 4, 5, 6, 7]\n",
        "common_elements = find_common_elements(my_set, my_list)\n",
        "print(common_elements)  # Output: {3, 4, 5}\n"
      ],
      "metadata": {
        "colab": {
          "base_uri": "https://localhost:8080/"
        },
        "id": "2uCwNsjGvrh8",
        "outputId": "3ebe68ba-32b5-4bf1-e5dc-1d4b413656c2"
      },
      "execution_count": 106,
      "outputs": [
        {
          "output_type": "stream",
          "name": "stdout",
          "text": [
            "{3, 4, 5}\n"
          ]
        }
      ]
    },
    {
      "cell_type": "code",
      "source": [
        "#  47. Create a set of the first `n` triangular numbers.\n",
        "\n",
        "def triangular_numbers_set(n):\n",
        "  \"\"\"\n",
        "  Creates a set of the first n triangular numbers.\n",
        "\n",
        "  Args:\n",
        "    n: The number of triangular numbers to generate.\n",
        "\n",
        "  Returns:\n",
        "    A set containing the first n triangular numbers.\n",
        "  \"\"\"\n",
        "  triangular_numbers = []\n",
        "  for i in range(1, n + 1):\n",
        "    triangular_numbers.append(i * (i + 1) // 2)\n",
        "  return set(triangular_numbers)\n",
        "\n",
        "# Example usage\n",
        "n = 5\n",
        "triangular_set = triangular_numbers_set(n)\n",
        "print(triangular_set)  # Output: {1, 3, 6, 10, 15}\n"
      ],
      "metadata": {
        "colab": {
          "base_uri": "https://localhost:8080/"
        },
        "id": "FXZznhpJvrng",
        "outputId": "4add7a3e-1b0e-4767-d06f-479af2e3b43d"
      },
      "execution_count": 105,
      "outputs": [
        {
          "output_type": "stream",
          "name": "stdout",
          "text": [
            "{1, 3, 6, 10, 15}\n"
          ]
        }
      ]
    },
    {
      "cell_type": "code",
      "source": [
        "#  48. Check if a set contains another set as a subset.\n",
        "\n",
        "def contains_subset(main_set, sub_set):\n",
        "  \"\"\"\n",
        "  Checks if a set contains another set as a subset.\n",
        "\n",
        "  Args:\n",
        "    main_set: The main set.\n",
        "    sub_set: The subset to check for.\n",
        "\n",
        "  Returns:\n",
        "    True if the main set contains the sub_set as a subset, False otherwise.\n",
        "  \"\"\"\n",
        "  return sub_set.issubset(main_set)\n",
        "\n",
        "# Example usage\n",
        "main_set = {1, 2, 3, 4, 5}\n",
        "sub_set = {2, 3}\n",
        "if contains_subset(main_set, sub_set):\n",
        "  print(\"The main set contains the sub_set as a subset.\")\n",
        "else:\n",
        "  print(\"The main set does not contain the sub_set as a subset.\")\n"
      ],
      "metadata": {
        "colab": {
          "base_uri": "https://localhost:8080/"
        },
        "id": "D2GVt8Btvrtj",
        "outputId": "6bcd8923-19a3-43b7-a1f6-11fb236d22da"
      },
      "execution_count": 104,
      "outputs": [
        {
          "output_type": "stream",
          "name": "stdout",
          "text": [
            "The main set contains the sub_set as a subset.\n"
          ]
        }
      ]
    },
    {
      "cell_type": "code",
      "source": [
        "# 49. Create a set of alternating 1s and 0s of length `n`.\n",
        "\n",
        "def alternating_ones_zeros(n):\n",
        "  \"\"\"\n",
        "  Creates a set of alternating 1s and 0s of length n.\n",
        "\n",
        "  Args:\n",
        "    n: The length of the set.\n",
        "\n",
        "  Returns:\n",
        "    A set of alternating 1s and 0s.\n",
        "  \"\"\"\n",
        "  result = []\n",
        "  for i in range(n):\n",
        "    if i % 2 == 0:\n",
        "      result.append(1)\n",
        "    else:\n",
        "      result.append(0)\n",
        "  return set(result)\n",
        "\n",
        "# Example usage\n",
        "n = 5\n",
        "alternating_set = alternating_ones_zeros(n)\n",
        "print(alternating_set)  # Output: {0, 1}\n"
      ],
      "metadata": {
        "colab": {
          "base_uri": "https://localhost:8080/"
        },
        "id": "4jY-iiDwvrzS",
        "outputId": "36b60d78-67aa-4983-c984-d47cc88d6a4f"
      },
      "execution_count": 103,
      "outputs": [
        {
          "output_type": "stream",
          "name": "stdout",
          "text": [
            "{0, 1}\n"
          ]
        }
      ]
    },
    {
      "cell_type": "code",
      "source": [
        "#  50. Merge multiple sets into one.\n",
        "\n",
        "def merge_sets(*sets):\n",
        "  \"\"\"\n",
        "  Merges multiple sets into one.\n",
        "\n",
        "  Args:\n",
        "    *sets: Variable number of sets to merge.\n",
        "\n",
        "  Returns:\n",
        "    A new set containing all elements from the input sets.\n",
        "  \"\"\"\n",
        "  merged_set = set()\n",
        "  for s in sets:\n",
        "    merged_set.update(s)\n",
        "  return merged_set\n",
        "\n",
        "# Example usage\n",
        "set1 = {1, 2, 3}\n",
        "set2 = {3, 4, 5}\n",
        "set3 = {5, 6, 7}\n",
        "merged_set = merge_sets(set1, set2, set3)\n",
        "print(merged_set)  # Output: {1, 2, 3, 4, 5, 6, 7}\n"
      ],
      "metadata": {
        "colab": {
          "base_uri": "https://localhost:8080/"
        },
        "id": "r6cXSmnAvr4W",
        "outputId": "78f9a796-e4f2-4872-93c3-fa4576200701"
      },
      "execution_count": 102,
      "outputs": [
        {
          "output_type": "stream",
          "name": "stdout",
          "text": [
            "{1, 2, 3, 4, 5, 6, 7}\n"
          ]
        }
      ]
    }
  ]
}